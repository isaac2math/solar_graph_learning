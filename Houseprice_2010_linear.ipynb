{
 "cells": [
  {
   "cell_type": "markdown",
   "metadata": {},
   "source": [
    "<center><h1>Edogeneity detection and instrument selection via solar-based graph learning(linear)</h1></center>\n",
    "\n",
    "<center><h2>Author: Ning Xu </h2></center>\n",
    "\n",
    "<center><h3> xuningandy@outlook.com </h3></center>\n",
    "\n",
    "Please note that\n",
    "* this package is a purely CPU-based python package\n",
    "* for the latest version of the package, click [here](https://github.com/isaac2math)"
   ]
  },
  {
   "cell_type": "markdown",
   "metadata": {},
   "source": [
    "# #1. reset python kernel"
   ]
  },
  {
   "cell_type": "code",
   "execution_count": 1,
   "metadata": {},
   "outputs": [],
   "source": [
    "%reset -f"
   ]
  },
  {
   "cell_type": "markdown",
   "metadata": {},
   "source": [
    "---\n",
    "\n",
    "# #2. import packages"
   ]
  },
  {
   "cell_type": "code",
   "execution_count": 11,
   "metadata": {},
   "outputs": [],
   "source": [
    "import numpy             as np\n",
    "import statsmodels.api   as sm\n",
    "import pandas            as pd\n",
    "import matplotlib.pyplot as plt\n",
    "import statsmodels.api   as sm\n",
    "import seaborn           as sns\n",
    "\n",
    "from sklearn.linear_model       import LassoLarsCV, LassoCV, ElasticNetCV\n",
    "from solar                      import solar\n",
    "from statsmodels.iolib.summary2 import summary_col\n",
    "from linearmodels.iv            import IV2SLS, IVGMM, IVGMMCUE  #IV regression and test\n",
    "from collections                import OrderedDict\n",
    "from linearmodels.iv.results    import compare"
   ]
  },
  {
   "cell_type": "markdown",
   "metadata": {},
   "source": [
    "---\n",
    "\n",
    "# #3. load house price data"
   ]
  },
  {
   "cell_type": "code",
   "execution_count": 12,
   "metadata": {},
   "outputs": [],
   "source": [
    "linTB = pd.read_csv(\"Data2010.csv\")"
   ]
  },
  {
   "cell_type": "markdown",
   "metadata": {},
   "source": [
    "## #3(a). rename variables"
   ]
  },
  {
   "cell_type": "code",
   "execution_count": 13,
   "metadata": {},
   "outputs": [
    {
     "data": {
      "text/plain": [
       "Index(['TotPop', 'Eng-speak', 'Aus', 'AgeSA1', 'Mortgage', 'Inc', 'Rent',\n",
       "       'FamInc', 'psn-per-bedroom', 'household_size', 'TVO2010', 'TPO2010',\n",
       "       'TVO2009', 'TPO2009', 'Suburb_Area', 'AreaSize', 'Bedrooms', 'Baths',\n",
       "       'Parking', 'Airport', 'Beach', 'Cemetery', 'ChildCare',\n",
       "       'CommunityFacility', 'Club', 'Gaol', 'GeneralHospital', 'GolfCourt',\n",
       "       'High', 'Lib', 'MedCenter', 'Museum', 'Park', 'PO', 'Police',\n",
       "       'PreSchool', 'PrimaryHigh', 'Primary', 'RailStat', 'Rubbish', 'Sewage',\n",
       "       'SportsCenter', 'SportsCourtField', 'Swimming', 'Tertiary', 'DistBound',\n",
       "       'ICSEA', 'ReadingY3', 'WritingY3', 'SpellingY3', 'GrammarY3',\n",
       "       'NumeracyY3', 'ReadingY5', 'WritingY5', 'SpellingY5', 'GrammarY5',\n",
       "       'NumeracyY5', 'Price', 'const'],\n",
       "      dtype='object')"
      ]
     },
     "execution_count": 13,
     "metadata": {},
     "output_type": "execute_result"
    }
   ],
   "source": [
    "linTB.rename(columns={'Tot_P_P':'TotPop',\n",
    "                      'Mean_age_persons':'AgeSA1',\n",
    "                      'Australian_citizen_P':'Aus',\n",
    "                      'Average_num_psns_per_bedroom':'psn-per-bedroom',\n",
    "                      'Average_household_size':'household_size',\n",
    "                      'FinalResultEventPrice': 'Price',\n",
    "                      'Lang_spoken_home_Eng_only_P':'Eng-speak',\n",
    "                      'Mean_mortgage_repay_monthly':'Mortgage',\n",
    "                      'Mean_Tot_prsnl_inc_weekly':'Inc',\n",
    "                      'Mean_rent_weekly':'Rent',\n",
    "                      'Mean_Tot_fam_inc_weekly':'FamInc'}, \n",
    "                 inplace=True)\n",
    "linTB = linTB.drop(['Unnamed: 0'],axis=1)\n",
    "linTB = linTB.dropna()\n",
    "linTB['const'] = 1\n",
    "linTB.columns\n",
    "\n",
    "#drop larger than 1500\n",
    "#linTB['index'] = linTB['AreaSize'] <=4000\n",
    "#linTB = linTB[linTB['index']==1]"
   ]
  },
  {
   "cell_type": "code",
   "execution_count": 14,
   "metadata": {},
   "outputs": [
    {
     "data": {
      "text/plain": [
       "count    11974.000000\n",
       "mean      1848.073242\n",
       "std       4688.261157\n",
       "min          0.000000\n",
       "25%        478.000000\n",
       "50%        724.000000\n",
       "75%       1554.250000\n",
       "max      63156.000000\n",
       "Name: AreaSize, dtype: float64"
      ]
     },
     "execution_count": 14,
     "metadata": {},
     "output_type": "execute_result"
    }
   ],
   "source": [
    "linTB['AreaSize'].describe()"
   ]
  },
  {
   "cell_type": "code",
   "execution_count": 15,
   "metadata": {},
   "outputs": [
    {
     "data": {
      "text/plain": [
       "Index(['TotPop', 'Eng-speak', 'Aus', 'AgeSA1', 'Mortgage', 'Inc', 'Rent',\n",
       "       'FamInc', 'psn-per-bedroom', 'household_size', 'TVO2010', 'TPO2010',\n",
       "       'TVO2009', 'TPO2009', 'Suburb_Area', 'AreaSize', 'Bedrooms', 'Baths',\n",
       "       'Parking', 'Airport', 'Beach', 'Cemetery', 'ChildCare',\n",
       "       'CommunityFacility', 'Club', 'Gaol', 'GeneralHospital', 'GolfCourt',\n",
       "       'High', 'Lib', 'MedCenter', 'Museum', 'Park', 'PO', 'Police',\n",
       "       'PreSchool', 'PrimaryHigh', 'Primary', 'RailStat', 'Rubbish', 'Sewage',\n",
       "       'SportsCenter', 'SportsCourtField', 'Swimming', 'Tertiary', 'DistBound',\n",
       "       'ICSEA', 'ReadingY3', 'WritingY3', 'SpellingY3', 'GrammarY3',\n",
       "       'NumeracyY3', 'ReadingY5', 'WritingY5', 'SpellingY5', 'GrammarY5',\n",
       "       'NumeracyY5', 'const'],\n",
       "      dtype='object')"
      ]
     },
     "execution_count": 15,
     "metadata": {},
     "output_type": "execute_result"
    }
   ],
   "source": [
    "linTB.to_csv('House2010_linear.csv')\n",
    "Y_linear = linTB[['Price']]\n",
    "X_linear = linTB.drop(columns=['Price'])\n",
    "X_linear.columns"
   ]
  },
  {
   "cell_type": "markdown",
   "metadata": {},
   "source": [
    "---\n",
    "\n",
    "# #4. generate X and Y for variable selection"
   ]
  },
  {
   "cell_type": "code",
   "execution_count": 16,
   "metadata": {},
   "outputs": [],
   "source": [
    "X_linear_input = np.array(X_linear)\n",
    "Y_linear_input = np.array(Y_linear)\n",
    "\n",
    "x = np.arange(1,10,0.01)\n",
    "y = np.matrix(I)\n",
    "x = np.arange(1,10,0.01)\n",
    "y = np.matrix(I)"
   ]
  },
  {
   "cell_type": "code",
   "execution_count": 17,
   "metadata": {},
   "outputs": [],
   "source": [
    "obs     = X_linear_input.shape[0]\n",
    "\n",
    "Y_linear_input.shape = (obs,)"
   ]
  },
  {
   "cell_type": "markdown",
   "metadata": {},
   "source": [
    "---\n",
    "\n",
    "# #5. compute CV coordinate descend (CV-cd), CV lars for lasso (CV-lars-lasso), CV elastic net (CV-en) and solar regression "
   ]
  },
  {
   "cell_type": "code",
   "execution_count": 18,
   "metadata": {},
   "outputs": [],
   "source": [
    "# CV coordinate descend (CV-cd)\n",
    "\n",
    "RegLinear1 = LassoCV(cv=10, normalize = True, random_state=0)\n",
    "RegLinear1.fit(X_linear_input, Y_linear_input)\n",
    "\n",
    "LinearLassoCV_ceof = RegLinear1.coef_\n",
    "LinearLassoCV_ind  = np.nonzero(LinearLassoCV_ceof)\n",
    "\n",
    "\n",
    "# CV-lars-lasso\n",
    "\n",
    "np.random.seed(0)\n",
    "\n",
    "RegLinear2 = LassoLarsCV(cv=10)\n",
    "RegLinear2.fit(X_linear_input,Y_linear_input)\n",
    "\n",
    "LinearLasso_lars_ceof = RegLinear2.coef_\n",
    "LinearLasso_lars_ind  = np.nonzero(LinearLasso_lars_ceof)\n",
    "\n",
    "# CV-en\n",
    "\n",
    "RegLinear3 = ElasticNetCV(normalize=True, random_state=0)\n",
    "RegLinear3.fit(X_linear_input,Y_linear_input)\n",
    "\n",
    "# solar\n",
    "\n",
    "Y_linear_input.shape = (obs,1)\n",
    "\n",
    "np.random.seed(0)\n",
    "\n",
    "RegLinear4 = solar( X_linear_input,Y_linear_input, 10, -0.02, lasso = False)\n",
    "LinearSolar_coef, LinearOpt_c, LinearTest_error, LinearQc_list, _, _, _, _ = RegLinear4.fit()\n",
    "\n",
    "LinearSolar_ind = np.nonzero(LinearSolar_coef)[0]"
   ]
  },
  {
   "cell_type": "markdown",
   "metadata": {},
   "source": [
    "---\n",
    "\n",
    "# #8. the results of variable selection"
   ]
  },
  {
   "cell_type": "markdown",
   "metadata": {},
   "source": [
    "## #6(c). variable selection by lasso, solar and elastic net"
   ]
  },
  {
   "cell_type": "markdown",
   "metadata": {},
   "source": [
    "### variables selected by CV-lars-lasso"
   ]
  },
  {
   "cell_type": "code",
   "execution_count": 19,
   "metadata": {},
   "outputs": [
    {
     "name": "stdout",
     "output_type": "stream",
     "text": [
      "44\n",
      "Index(['Eng-speak', 'Aus', 'AgeSA1', 'Mortgage', 'Rent', 'FamInc',\n",
      "       'psn-per-bedroom', 'household_size', 'TVO2009', 'Suburb_Area',\n",
      "       'AreaSize', 'Bedrooms', 'Baths', 'Parking', 'Airport', 'Beach',\n",
      "       'Cemetery', 'ChildCare', 'Club', 'GolfCourt', 'High', 'Lib', 'Museum',\n",
      "       'Park', 'Police', 'PreSchool', 'PrimaryHigh', 'Primary', 'RailStat',\n",
      "       'Rubbish', 'SportsCenter', 'SportsCourtField', 'Swimming', 'Tertiary',\n",
      "       'DistBound', 'ICSEA', 'ReadingY3', 'WritingY3', 'SpellingY3',\n",
      "       'GrammarY3', 'NumeracyY3', 'WritingY5', 'SpellingY5', 'GrammarY5'],\n",
      "      dtype='object')\n"
     ]
    }
   ],
   "source": [
    "LinearLasso_lars_active = X_linear.columns[LinearLasso_lars_ind]\n",
    "print(np.count_nonzero(LinearLasso_lars_ind))\n",
    "print(LinearLasso_lars_active)"
   ]
  },
  {
   "cell_type": "markdown",
   "metadata": {},
   "source": [
    "### variables selected by CV-cd"
   ]
  },
  {
   "cell_type": "code",
   "execution_count": 20,
   "metadata": {},
   "outputs": [
    {
     "name": "stdout",
     "output_type": "stream",
     "text": [
      "44\n",
      "Index(['Eng-speak', 'Aus', 'AgeSA1', 'Mortgage', 'Rent', 'FamInc',\n",
      "       'psn-per-bedroom', 'household_size', 'TVO2009', 'Suburb_Area',\n",
      "       'AreaSize', 'Bedrooms', 'Baths', 'Parking', 'Airport', 'Beach',\n",
      "       'Cemetery', 'ChildCare', 'Club', 'GolfCourt', 'High', 'Lib', 'Museum',\n",
      "       'Park', 'Police', 'PreSchool', 'PrimaryHigh', 'Primary', 'RailStat',\n",
      "       'Rubbish', 'SportsCenter', 'SportsCourtField', 'Swimming', 'Tertiary',\n",
      "       'DistBound', 'ICSEA', 'ReadingY3', 'WritingY3', 'SpellingY3',\n",
      "       'GrammarY3', 'NumeracyY3', 'WritingY5', 'SpellingY5', 'GrammarY5'],\n",
      "      dtype='object')\n"
     ]
    }
   ],
   "source": [
    "LinearLassoCV_active = X_linear.columns[LinearLassoCV_ind]\n",
    "print(np.count_nonzero(LinearLassoCV_ceof))\n",
    "print(LinearLassoCV_active)"
   ]
  },
  {
   "cell_type": "markdown",
   "metadata": {},
   "source": [
    "### variables selected by solar"
   ]
  },
  {
   "cell_type": "code",
   "execution_count": 21,
   "metadata": {},
   "outputs": [
    {
     "name": "stdout",
     "output_type": "stream",
     "text": [
      "9\n",
      "Index(['Mortgage', 'Rent', 'FamInc', 'Bedrooms', 'Baths', 'Parking', 'Beach',\n",
      "       'Gaol', 'ICSEA'],\n",
      "      dtype='object')\n"
     ]
    }
   ],
   "source": [
    "LinearSolar_active = X_linear.columns[LinearSolar_ind]\n",
    "print(np.count_nonzero(LinearSolar_coef))\n",
    "print(LinearSolar_active)"
   ]
  },
  {
   "cell_type": "markdown",
   "metadata": {},
   "source": [
    "### variables selected by CV-en"
   ]
  },
  {
   "cell_type": "code",
   "execution_count": 22,
   "metadata": {},
   "outputs": [
    {
     "name": "stdout",
     "output_type": "stream",
     "text": [
      "57\n",
      "Index(['TotPop', 'Eng-speak', 'Aus', 'AgeSA1', 'Mortgage', 'Inc', 'Rent',\n",
      "       'FamInc', 'psn-per-bedroom', 'household_size', 'TVO2010', 'TPO2010',\n",
      "       'TVO2009', 'TPO2009', 'Suburb_Area', 'AreaSize', 'Bedrooms', 'Baths',\n",
      "       'Parking', 'Airport', 'Beach', 'Cemetery', 'ChildCare',\n",
      "       'CommunityFacility', 'Club', 'Gaol', 'GeneralHospital', 'GolfCourt',\n",
      "       'High', 'Lib', 'MedCenter', 'Museum', 'Park', 'PO', 'Police',\n",
      "       'PreSchool', 'PrimaryHigh', 'Primary', 'RailStat', 'Rubbish', 'Sewage',\n",
      "       'SportsCenter', 'SportsCourtField', 'Swimming', 'Tertiary', 'DistBound',\n",
      "       'ICSEA', 'ReadingY3', 'WritingY3', 'SpellingY3', 'GrammarY3',\n",
      "       'NumeracyY3', 'ReadingY5', 'WritingY5', 'SpellingY5', 'GrammarY5',\n",
      "       'NumeracyY5'],\n",
      "      dtype='object')\n"
     ]
    }
   ],
   "source": [
    "LinearEn_coef   = RegLinear3.coef_\n",
    "LinearEn_ind    = np.nonzero(LinearEn_coef)\n",
    "LinearEn_active = X_linear.columns[LinearEn_ind]\n",
    "print(np.count_nonzero(LinearEn_coef))\n",
    "print(LinearEn_active)"
   ]
  },
  {
   "cell_type": "markdown",
   "metadata": {},
   "source": [
    "# #9. Post-selection regression"
   ]
  },
  {
   "cell_type": "markdown",
   "metadata": {},
   "source": [
    "## #7(a). post-elastic-net OLS"
   ]
  },
  {
   "cell_type": "code",
   "execution_count": 23,
   "metadata": {},
   "outputs": [
    {
     "name": "stdout",
     "output_type": "stream",
     "text": [
      "                            OLS Regression Results                            \n",
      "==============================================================================\n",
      "Dep. Variable:                  Price   R-squared:                       0.549\n",
      "Model:                            OLS   Adj. R-squared:                  0.547\n",
      "Method:                 Least Squares   F-statistic:                     254.5\n",
      "Date:                Mon, 06 Jan 2020   Prob (F-statistic):               0.00\n",
      "Time:                        13:19:41   Log-Likelihood:            -1.7341e+05\n",
      "No. Observations:               11974   AIC:                         3.469e+05\n",
      "Df Residuals:                   11916   BIC:                         3.474e+05\n",
      "Df Model:                          57                                         \n",
      "Covariance Type:            nonrobust                                         \n",
      "=====================================================================================\n",
      "                        coef    std err          t      P>|t|      [0.025      0.975]\n",
      "-------------------------------------------------------------------------------------\n",
      "const             -8.862e+05   1.87e+05     -4.747      0.000   -1.25e+06    -5.2e+05\n",
      "TotPop              -96.4881     82.873     -1.164      0.244    -258.932      65.956\n",
      "Eng-speak          -766.3127    107.655     -7.118      0.000    -977.333    -555.292\n",
      "Aus                 673.3511    143.947      4.678      0.000     391.192     955.511\n",
      "AgeSA1             3673.4603   1031.692      3.561      0.000    1651.175    5695.746\n",
      "Mortgage            133.6660      7.983     16.743      0.000     118.017     149.315\n",
      "Inc                  30.7669     41.391      0.743      0.457     -50.366     111.900\n",
      "Rent                264.3534     36.798      7.184      0.000     192.223     336.483\n",
      "FamInc               59.0442     19.234      3.070      0.002      21.342      96.746\n",
      "psn-per-bedroom   -1.456e+05   5.63e+04     -2.585      0.010   -2.56e+05   -3.52e+04\n",
      "household_size     1.111e+04   1.75e+04      0.636      0.525   -2.31e+04    4.53e+04\n",
      "TVO2010             884.1202    285.381      3.098      0.002     324.727    1443.513\n",
      "TPO2010             103.8629     97.177      1.069      0.285     -86.619     294.345\n",
      "TVO2009           -1020.0830    237.268     -4.299      0.000   -1485.167    -554.999\n",
      "TPO2009            -120.3762     90.080     -1.336      0.181    -296.947      56.195\n",
      "Suburb_Area        -669.0179   2129.418     -0.314      0.753   -4843.025    3504.989\n",
      "AreaSize             -8.1401      1.105     -7.367      0.000     -10.306      -5.974\n",
      "Bedrooms           1.656e+05   6433.573     25.746      0.000    1.53e+05    1.78e+05\n",
      "Baths              2.101e+05   8115.066     25.890      0.000    1.94e+05    2.26e+05\n",
      "Parking            9.779e+04   6689.348     14.619      0.000    8.47e+04    1.11e+05\n",
      "Airport            2.865e+06   7.35e+05      3.897      0.000    1.42e+06    4.31e+06\n",
      "Beach              -5.03e+06      6e+05     -8.382      0.000   -6.21e+06   -3.85e+06\n",
      "Cemetery           -1.78e+06   4.91e+05     -3.624      0.000   -2.74e+06   -8.17e+05\n",
      "ChildCare         -4.802e+06   3.94e+05    -12.201      0.000   -5.57e+06   -4.03e+06\n",
      "CommunityFacility  6.081e+05   1.25e+06      0.488      0.626   -1.84e+06    3.05e+06\n",
      "Club              -4.017e+06   8.33e+05     -4.823      0.000   -5.65e+06   -2.38e+06\n",
      "Gaol               1.614e+06   6.46e+05      2.497      0.013    3.47e+05    2.88e+06\n",
      "GeneralHospital   -4.146e+05   6.87e+05     -0.603      0.546   -1.76e+06    9.32e+05\n",
      "GolfCourt         -2.773e+06   4.46e+05     -6.219      0.000   -3.65e+06    -1.9e+06\n",
      "High               6.205e+06   1.02e+06      6.062      0.000     4.2e+06    8.21e+06\n",
      "Lib               -3.977e+06    9.5e+05     -4.187      0.000   -5.84e+06   -2.12e+06\n",
      "MedCenter          1.966e+06   9.54e+05      2.062      0.039    9.73e+04    3.84e+06\n",
      "Museum              1.38e+06   4.25e+05      3.248      0.001    5.47e+05    2.21e+06\n",
      "Park               3.252e+06   3.02e+06      1.076      0.282   -2.67e+06    9.17e+06\n",
      "PO                 1.319e+06   1.33e+06      0.990      0.322   -1.29e+06    3.93e+06\n",
      "Police            -1.944e+06    8.1e+05     -2.399      0.016   -3.53e+06   -3.56e+05\n",
      "PreSchool          7.389e+05   3.91e+05      1.888      0.059   -2.84e+04    1.51e+06\n",
      "PrimaryHigh       -5.185e+06   6.08e+05     -8.527      0.000   -6.38e+06   -3.99e+06\n",
      "Primary           -3.205e+06   1.93e+06     -1.659      0.097   -6.99e+06    5.81e+05\n",
      "RailStat          -2.073e+06   7.49e+05     -2.768      0.006   -3.54e+06   -6.05e+05\n",
      "Rubbish           -4.508e+04   6.73e+05     -0.067      0.947   -1.36e+06    1.27e+06\n",
      "Sewage             -5.68e+05   4.27e+05     -1.330      0.184   -1.41e+06    2.69e+05\n",
      "SportsCenter        5.01e+06   6.69e+05      7.488      0.000     3.7e+06    6.32e+06\n",
      "SportsCourtField   2.928e+06   1.46e+06      1.999      0.046    5.65e+04     5.8e+06\n",
      "Swimming          -3.078e+06   6.58e+05     -4.678      0.000   -4.37e+06   -1.79e+06\n",
      "Tertiary           4.745e+06   6.39e+05      7.426      0.000    3.49e+06       6e+06\n",
      "DistBound          5.152e+06   2.13e+06      2.416      0.016    9.72e+05    9.33e+06\n",
      "ICSEA               838.5397    172.423      4.863      0.000     500.562    1176.517\n",
      "ReadingY3         -2004.3757    472.614     -4.241      0.000   -2930.777   -1077.975\n",
      "WritingY3         -2392.8953    355.754     -6.726      0.000   -3090.231   -1695.559\n",
      "SpellingY3         1619.2113    390.039      4.151      0.000     854.672    2383.751\n",
      "GrammarY3          1109.1722    475.521      2.333      0.020     177.074    2041.271\n",
      "NumeracyY3          915.8201    427.625      2.142      0.032      77.605    1754.035\n",
      "ReadingY5           305.5537    473.401      0.645      0.519    -622.390    1233.497\n",
      "WritingY5          -470.7461    422.544     -1.114      0.265   -1299.001     357.509\n",
      "SpellingY5         -378.0575    411.831     -0.918      0.359   -1185.313     429.198\n",
      "GrammarY5          1364.1600    557.055      2.449      0.014     272.242    2456.078\n",
      "NumeracyY5         -646.7345    343.760     -1.881      0.060   -1320.561      27.092\n",
      "==============================================================================\n",
      "Omnibus:                    16122.281   Durbin-Watson:                   1.888\n",
      "Prob(Omnibus):                  0.000   Jarque-Bera (JB):          8566565.263\n",
      "Skew:                           7.370   Prob(JB):                         0.00\n",
      "Kurtosis:                     133.204   Cond. No.                     3.81e+06\n",
      "==============================================================================\n",
      "\n",
      "Warnings:\n",
      "[1] Standard Errors assume that the covariance matrix of the errors is correctly specified.\n",
      "[2] The condition number is large, 3.81e+06. This might indicate that there are\n",
      "strong multicollinearity or other numerical problems.\n"
     ]
    },
    {
     "name": "stderr",
     "output_type": "stream",
     "text": [
      "/home/ning/anaconda3/lib/python3.7/site-packages/numpy/core/fromnumeric.py:2495: FutureWarning: Method .ptp is deprecated and will be removed in a future version. Use numpy.ptp instead.\n",
      "  return ptp(axis=axis, out=out, **kwargs)\n"
     ]
    }
   ],
   "source": [
    "X_LinearEn   = X_linear[LinearEn_active]\n",
    "X_LinearEn   = sm.add_constant(X_LinearEn)\n",
    "OLS_LinearEn = sm.OLS(Y_linear, X_LinearEn)\n",
    "\n",
    "OLS_LinearEn_result = OLS_LinearEn.fit()\n",
    "print(OLS_LinearEn_result.summary())"
   ]
  },
  {
   "cell_type": "markdown",
   "metadata": {},
   "source": [
    "## #7(b). post-lasso (CV-cd) OLS"
   ]
  },
  {
   "cell_type": "code",
   "execution_count": 24,
   "metadata": {},
   "outputs": [
    {
     "name": "stdout",
     "output_type": "stream",
     "text": [
      "                            OLS Regression Results                            \n",
      "==============================================================================\n",
      "Dep. Variable:                  Price   R-squared:                       0.548\n",
      "Model:                            OLS   Adj. R-squared:                  0.546\n",
      "Method:                 Least Squares   F-statistic:                     328.5\n",
      "Date:                Mon, 06 Jan 2020   Prob (F-statistic):               0.00\n",
      "Time:                        13:19:41   Log-Likelihood:            -1.7342e+05\n",
      "No. Observations:               11974   AIC:                         3.469e+05\n",
      "Df Residuals:                   11929   BIC:                         3.473e+05\n",
      "Df Model:                          44                                         \n",
      "Covariance Type:            nonrobust                                         \n",
      "====================================================================================\n",
      "                       coef    std err          t      P>|t|      [0.025      0.975]\n",
      "------------------------------------------------------------------------------------\n",
      "const            -8.274e+05   1.74e+05     -4.751      0.000   -1.17e+06   -4.86e+05\n",
      "Eng-speak         -752.7210    103.044     -7.305      0.000    -954.704    -550.738\n",
      "Aus                536.3762     87.856      6.105      0.000     364.164     708.588\n",
      "AgeSA1            4106.2931    958.982      4.282      0.000    2226.532    5986.054\n",
      "Mortgage           134.1752      7.951     16.875      0.000     118.590     149.761\n",
      "Rent               265.8041     35.273      7.536      0.000     196.663     334.945\n",
      "FamInc              69.2224     14.968      4.625      0.000      39.882      98.563\n",
      "psn-per-bedroom   -1.79e+05   4.94e+04     -3.624      0.000   -2.76e+05   -8.22e+04\n",
      "household_size    1.071e+04   1.51e+04      0.708      0.479   -1.89e+04    4.03e+04\n",
      "TVO2009           -251.1941     46.793     -5.368      0.000    -342.916    -159.472\n",
      "Suburb_Area      -2970.0019   1981.971     -1.499      0.134   -6854.988     914.984\n",
      "AreaSize            -8.3277      1.075     -7.747      0.000     -10.435      -6.221\n",
      "Bedrooms          1.662e+05   6404.817     25.953      0.000    1.54e+05    1.79e+05\n",
      "Baths             2.106e+05   8048.921     26.165      0.000    1.95e+05    2.26e+05\n",
      "Parking           9.688e+04   6688.131     14.486      0.000    8.38e+04     1.1e+05\n",
      "Airport           3.123e+06   6.26e+05      4.992      0.000     1.9e+06    4.35e+06\n",
      "Beach            -4.052e+06   2.62e+05    -15.443      0.000   -4.57e+06   -3.54e+06\n",
      "Cemetery         -1.541e+06   3.97e+05     -3.880      0.000   -2.32e+06   -7.62e+05\n",
      "ChildCare        -4.163e+06   3.16e+05    -13.171      0.000   -4.78e+06   -3.54e+06\n",
      "Club             -3.038e+06   7.38e+05     -4.115      0.000   -4.49e+06   -1.59e+06\n",
      "GolfCourt        -2.514e+06   4.23e+05     -5.939      0.000   -3.34e+06   -1.68e+06\n",
      "High              6.413e+06   9.87e+05      6.498      0.000    4.48e+06    8.35e+06\n",
      "Lib               -3.34e+06   8.75e+05     -3.815      0.000   -5.06e+06   -1.62e+06\n",
      "Museum            8.054e+05    3.8e+05      2.117      0.034    5.98e+04    1.55e+06\n",
      "Park              3.477e+06   2.93e+06      1.187      0.235   -2.27e+06    9.22e+06\n",
      "Police            -2.28e+06   7.51e+05     -3.036      0.002   -3.75e+06   -8.08e+05\n",
      "PreSchool          7.46e+05   3.45e+05      2.160      0.031    6.91e+04    1.42e+06\n",
      "PrimaryHigh       -4.64e+06   5.46e+05     -8.496      0.000   -5.71e+06   -3.57e+06\n",
      "Primary          -1.796e+06   1.81e+06     -0.993      0.321   -5.34e+06    1.75e+06\n",
      "RailStat         -2.993e+06   6.02e+05     -4.971      0.000   -4.17e+06   -1.81e+06\n",
      "Rubbish           7.802e+05   5.94e+05      1.313      0.189   -3.84e+05    1.94e+06\n",
      "SportsCenter      5.276e+06    6.1e+05      8.647      0.000    4.08e+06    6.47e+06\n",
      "SportsCourtField  2.979e+06   1.42e+06      2.105      0.035    2.05e+05    5.75e+06\n",
      "Swimming         -2.799e+06   5.98e+05     -4.679      0.000   -3.97e+06   -1.63e+06\n",
      "Tertiary          4.116e+06   5.57e+05      7.395      0.000    3.02e+06    5.21e+06\n",
      "DistBound         7.352e+06   1.84e+06      4.002      0.000    3.75e+06     1.1e+07\n",
      "ICSEA              862.9170    163.417      5.280      0.000     542.594    1183.240\n",
      "ReadingY3        -1828.9631    451.174     -4.054      0.000   -2713.338    -944.588\n",
      "WritingY3        -2182.4615    334.118     -6.532      0.000   -2837.388   -1527.535\n",
      "SpellingY3        1490.4862    380.533      3.917      0.000     744.579    2236.394\n",
      "GrammarY3         1125.9096    456.421      2.467      0.014     231.250    2020.569\n",
      "NumeracyY3         588.2225    410.475      1.433      0.152    -216.376    1392.821\n",
      "WritingY5         -809.4221    406.643     -1.990      0.047   -1606.508     -12.336\n",
      "SpellingY5        -644.7523    373.884     -1.724      0.085   -1377.626      88.122\n",
      "GrammarY5         1515.6338    417.587      3.630      0.000     697.094    2334.173\n",
      "==============================================================================\n",
      "Omnibus:                    16178.956   Durbin-Watson:                   1.886\n",
      "Prob(Omnibus):                  0.000   Jarque-Bera (JB):          8683299.352\n",
      "Skew:                           7.419   Prob(JB):                         0.00\n",
      "Kurtosis:                     134.088   Cond. No.                     3.63e+06\n",
      "==============================================================================\n",
      "\n",
      "Warnings:\n",
      "[1] Standard Errors assume that the covariance matrix of the errors is correctly specified.\n",
      "[2] The condition number is large, 3.63e+06. This might indicate that there are\n",
      "strong multicollinearity or other numerical problems.\n"
     ]
    }
   ],
   "source": [
    "X_LinearLassoCV   = X_linear[LinearLassoCV_active]\n",
    "Y_LinearLassoCV   = Y_linear\n",
    "X_LinearLassoCV   = sm.add_constant(X_LinearLassoCV)\n",
    "OLS_LinearLassoCV = sm.OLS(Y_LinearLassoCV, X_LinearLassoCV)\n",
    "\n",
    "OLS_LinearLassoCV_result = OLS_LinearLassoCV.fit()\n",
    "print(OLS_LinearLassoCV_result.summary())"
   ]
  },
  {
   "cell_type": "markdown",
   "metadata": {},
   "source": [
    "## #7(c). post-lasso (lars-lasso) OLS"
   ]
  },
  {
   "cell_type": "code",
   "execution_count": 25,
   "metadata": {},
   "outputs": [
    {
     "name": "stdout",
     "output_type": "stream",
     "text": [
      "                            OLS Regression Results                            \n",
      "==============================================================================\n",
      "Dep. Variable:                  Price   R-squared:                       0.548\n",
      "Model:                            OLS   Adj. R-squared:                  0.546\n",
      "Method:                 Least Squares   F-statistic:                     328.5\n",
      "Date:                Mon, 06 Jan 2020   Prob (F-statistic):               0.00\n",
      "Time:                        13:19:42   Log-Likelihood:            -1.7342e+05\n",
      "No. Observations:               11974   AIC:                         3.469e+05\n",
      "Df Residuals:                   11929   BIC:                         3.473e+05\n",
      "Df Model:                          44                                         \n",
      "Covariance Type:            nonrobust                                         \n",
      "====================================================================================\n",
      "                       coef    std err          t      P>|t|      [0.025      0.975]\n",
      "------------------------------------------------------------------------------------\n",
      "const            -8.274e+05   1.74e+05     -4.751      0.000   -1.17e+06   -4.86e+05\n",
      "Eng-speak         -752.7210    103.044     -7.305      0.000    -954.704    -550.738\n",
      "Aus                536.3762     87.856      6.105      0.000     364.164     708.588\n",
      "AgeSA1            4106.2931    958.982      4.282      0.000    2226.532    5986.054\n",
      "Mortgage           134.1752      7.951     16.875      0.000     118.590     149.761\n",
      "Rent               265.8041     35.273      7.536      0.000     196.663     334.945\n",
      "FamInc              69.2224     14.968      4.625      0.000      39.882      98.563\n",
      "psn-per-bedroom   -1.79e+05   4.94e+04     -3.624      0.000   -2.76e+05   -8.22e+04\n",
      "household_size    1.071e+04   1.51e+04      0.708      0.479   -1.89e+04    4.03e+04\n",
      "TVO2009           -251.1941     46.793     -5.368      0.000    -342.916    -159.472\n",
      "Suburb_Area      -2970.0019   1981.971     -1.499      0.134   -6854.988     914.984\n",
      "AreaSize            -8.3277      1.075     -7.747      0.000     -10.435      -6.221\n",
      "Bedrooms          1.662e+05   6404.817     25.953      0.000    1.54e+05    1.79e+05\n",
      "Baths             2.106e+05   8048.921     26.165      0.000    1.95e+05    2.26e+05\n",
      "Parking           9.688e+04   6688.131     14.486      0.000    8.38e+04     1.1e+05\n",
      "Airport           3.123e+06   6.26e+05      4.992      0.000     1.9e+06    4.35e+06\n",
      "Beach            -4.052e+06   2.62e+05    -15.443      0.000   -4.57e+06   -3.54e+06\n",
      "Cemetery         -1.541e+06   3.97e+05     -3.880      0.000   -2.32e+06   -7.62e+05\n",
      "ChildCare        -4.163e+06   3.16e+05    -13.171      0.000   -4.78e+06   -3.54e+06\n",
      "Club             -3.038e+06   7.38e+05     -4.115      0.000   -4.49e+06   -1.59e+06\n",
      "GolfCourt        -2.514e+06   4.23e+05     -5.939      0.000   -3.34e+06   -1.68e+06\n",
      "High              6.413e+06   9.87e+05      6.498      0.000    4.48e+06    8.35e+06\n",
      "Lib               -3.34e+06   8.75e+05     -3.815      0.000   -5.06e+06   -1.62e+06\n",
      "Museum            8.054e+05    3.8e+05      2.117      0.034    5.98e+04    1.55e+06\n",
      "Park              3.477e+06   2.93e+06      1.187      0.235   -2.27e+06    9.22e+06\n",
      "Police            -2.28e+06   7.51e+05     -3.036      0.002   -3.75e+06   -8.08e+05\n",
      "PreSchool          7.46e+05   3.45e+05      2.160      0.031    6.91e+04    1.42e+06\n",
      "PrimaryHigh       -4.64e+06   5.46e+05     -8.496      0.000   -5.71e+06   -3.57e+06\n",
      "Primary          -1.796e+06   1.81e+06     -0.993      0.321   -5.34e+06    1.75e+06\n",
      "RailStat         -2.993e+06   6.02e+05     -4.971      0.000   -4.17e+06   -1.81e+06\n",
      "Rubbish           7.802e+05   5.94e+05      1.313      0.189   -3.84e+05    1.94e+06\n",
      "SportsCenter      5.276e+06    6.1e+05      8.647      0.000    4.08e+06    6.47e+06\n",
      "SportsCourtField  2.979e+06   1.42e+06      2.105      0.035    2.05e+05    5.75e+06\n",
      "Swimming         -2.799e+06   5.98e+05     -4.679      0.000   -3.97e+06   -1.63e+06\n",
      "Tertiary          4.116e+06   5.57e+05      7.395      0.000    3.02e+06    5.21e+06\n",
      "DistBound         7.352e+06   1.84e+06      4.002      0.000    3.75e+06     1.1e+07\n",
      "ICSEA              862.9170    163.417      5.280      0.000     542.594    1183.240\n",
      "ReadingY3        -1828.9631    451.174     -4.054      0.000   -2713.338    -944.588\n",
      "WritingY3        -2182.4615    334.118     -6.532      0.000   -2837.388   -1527.535\n",
      "SpellingY3        1490.4862    380.533      3.917      0.000     744.579    2236.394\n",
      "GrammarY3         1125.9096    456.421      2.467      0.014     231.250    2020.569\n",
      "NumeracyY3         588.2225    410.475      1.433      0.152    -216.376    1392.821\n",
      "WritingY5         -809.4221    406.643     -1.990      0.047   -1606.508     -12.336\n",
      "SpellingY5        -644.7523    373.884     -1.724      0.085   -1377.626      88.122\n",
      "GrammarY5         1515.6338    417.587      3.630      0.000     697.094    2334.173\n",
      "==============================================================================\n",
      "Omnibus:                    16178.956   Durbin-Watson:                   1.886\n",
      "Prob(Omnibus):                  0.000   Jarque-Bera (JB):          8683299.352\n",
      "Skew:                           7.419   Prob(JB):                         0.00\n",
      "Kurtosis:                     134.088   Cond. No.                     3.63e+06\n",
      "==============================================================================\n",
      "\n",
      "Warnings:\n",
      "[1] Standard Errors assume that the covariance matrix of the errors is correctly specified.\n",
      "[2] The condition number is large, 3.63e+06. This might indicate that there are\n",
      "strong multicollinearity or other numerical problems.\n"
     ]
    }
   ],
   "source": [
    "X_LinearLars   = X_linear[LinearLasso_lars_active]\n",
    "Y_LinearLars   = Y_linear\n",
    "X_LinearLars   = sm.add_constant(X_LinearLars)\n",
    "OLS_LinearLars = sm.OLS(Y_LinearLars, X_LinearLars)\n",
    "\n",
    "OLS_LinearLars_result = OLS_LinearLars.fit()\n",
    "print(OLS_LinearLars_result.summary())"
   ]
  },
  {
   "cell_type": "markdown",
   "metadata": {},
   "source": [
    "## #7(d). post-solar OLS"
   ]
  },
  {
   "cell_type": "code",
   "execution_count": 26,
   "metadata": {},
   "outputs": [
    {
     "name": "stdout",
     "output_type": "stream",
     "text": [
      "                            OLS Regression Results                            \n",
      "==============================================================================\n",
      "Dep. Variable:                  Price   R-squared:                       0.494\n",
      "Model:                            OLS   Adj. R-squared:                  0.493\n",
      "Method:                 Least Squares   F-statistic:                     1296.\n",
      "Date:                Mon, 06 Jan 2020   Prob (F-statistic):               0.00\n",
      "Time:                        13:19:42   Log-Likelihood:            -1.7410e+05\n",
      "No. Observations:               11974   AIC:                         3.482e+05\n",
      "Df Residuals:                   11964   BIC:                         3.483e+05\n",
      "Df Model:                           9                                         \n",
      "Covariance Type:            nonrobust                                         \n",
      "==============================================================================\n",
      "                 coef    std err          t      P>|t|      [0.025      0.975]\n",
      "------------------------------------------------------------------------------\n",
      "const      -2.486e+06   9.84e+04    -25.263      0.000   -2.68e+06   -2.29e+06\n",
      "Mortgage     185.9866      7.959     23.368      0.000     170.385     201.588\n",
      "Rent         370.7595     35.417     10.468      0.000     301.336     440.183\n",
      "FamInc        66.5681     11.480      5.798      0.000      44.065      89.072\n",
      "Bedrooms    1.695e+05   6015.366     28.180      0.000    1.58e+05    1.81e+05\n",
      "Baths       2.096e+05   8297.240     25.265      0.000    1.93e+05    2.26e+05\n",
      "Parking     9.762e+04   6985.670     13.975      0.000    8.39e+04    1.11e+05\n",
      "Beach      -7.963e+05   1.53e+05     -5.190      0.000    -1.1e+06   -4.96e+05\n",
      "Gaol       -1.909e+06   1.07e+05    -17.811      0.000   -2.12e+06    -1.7e+06\n",
      "ICSEA       1756.9218     95.667     18.365      0.000    1569.400    1944.444\n",
      "==============================================================================\n",
      "Omnibus:                    16249.618   Durbin-Watson:                   1.895\n",
      "Prob(Omnibus):                  0.000   Jarque-Bera (JB):          8295014.489\n",
      "Skew:                           7.508   Prob(JB):                         0.00\n",
      "Kurtosis:                     131.065   Cond. No.                     1.26e+05\n",
      "==============================================================================\n",
      "\n",
      "Warnings:\n",
      "[1] Standard Errors assume that the covariance matrix of the errors is correctly specified.\n",
      "[2] The condition number is large, 1.26e+05. This might indicate that there are\n",
      "strong multicollinearity or other numerical problems.\n"
     ]
    }
   ],
   "source": [
    "X_Gaol     = X_linear[LinearSolar_active]\n",
    "X_Gaol     = sm.add_constant(X_Gaol)\n",
    "\n",
    "OLS_LinearSolar  = sm.OLS(Y_linear, X_Gaol)\n",
    "\n",
    "OLS_LinearSolar_result = OLS_LinearSolar.fit()\n",
    "\n",
    "print(OLS_LinearSolar_result.summary())"
   ]
  },
  {
   "cell_type": "markdown",
   "metadata": {},
   "source": [
    "## #7(e). generate a comparison table for post-selection OLS result (slope, significance, $R^2$)"
   ]
  },
  {
   "cell_type": "code",
   "execution_count": 27,
   "metadata": {},
   "outputs": [
    {
     "name": "stdout",
     "output_type": "stream",
     "text": [
      "                    Table 1 - Post-selection OLS comparison\n",
      "================================================================================\n",
      "                     post-en     post-lasso(lars) post-larsso(cd)   post-solar  \n",
      "--------------------------------------------------------------------------------\n",
      "const             -886234.40***  -827387.49***    -827387.49***   -2486422.15***\n",
      "                  (186680.91)    (174136.59)      (174136.59)     (98422.98)    \n",
      "Bedrooms          165639.00***   166225.82***     166225.82***    169510.52***  \n",
      "                  (6433.57)      (6404.82)        (6404.82)       (6015.37)     \n",
      "Baths             210101.84***   210600.58***     210600.58***    209626.52***  \n",
      "                  (8115.07)      (8048.92)        (8048.92)       (8297.24)     \n",
      "Parking           97790.57***    96883.13***      96883.13***     97623.23***   \n",
      "                  (6689.35)      (6688.13)        (6688.13)       (6985.67)     \n",
      "Beach             -5029681.74*** -4051671.57***   -4051671.57***  -796281.77*** \n",
      "                  (600061.28)    (262369.00)      (262369.00)     (153431.50)   \n",
      "Gaol              1614215.27**                                    -1909369.80***\n",
      "                  (646392.84)                                     (107204.64)   \n",
      "ICSEA             838.54***      862.92***        862.92***       1756.92***    \n",
      "                  (172.42)       (163.42)         (163.42)        (95.67)       \n",
      "Rent              264.35***      265.80***        265.80***       370.76***     \n",
      "                  (36.80)        (35.27)          (35.27)         (35.42)       \n",
      "FamInc            59.04***       69.22***         69.22***        66.57***      \n",
      "                  (19.23)        (14.97)          (14.97)         (11.48)       \n",
      "AgeSA1            3673.46***     4106.29***       4106.29***                    \n",
      "                  (1031.69)      (958.98)         (958.98)                      \n",
      "Airport           2865246.35***  3122719.74***    3122719.74***                 \n",
      "                  (735335.86)    (625604.38)      (625604.38)                   \n",
      "AreaSize          -8.14***       -8.33***         -8.33***                      \n",
      "                  (1.10)         (1.07)           (1.07)                        \n",
      "Aus               673.35***      536.38***        536.38***                     \n",
      "                  (143.95)       (87.86)          (87.86)                       \n",
      "Cemetery          -1780031.26*** -1541060.94***   -1541060.94***                \n",
      "                  (491214.73)    (397194.26)      (397194.26)                   \n",
      "ChildCare         -4802095.18*** -4163486.91***   -4163486.91***                \n",
      "                  (393577.54)    (316107.89)      (316107.89)                   \n",
      "Club              -4017045.37*** -3038202.83***   -3038202.83***                \n",
      "                  (832856.36)    (738349.99)      (738349.99)                   \n",
      "CommunityFacility 608111.54                                                     \n",
      "                  (1247157.82)                                                  \n",
      "DistBound         5151845.31**   7352229.46***    7352229.46***                 \n",
      "                  (2132172.28)   (1837330.95)     (1837330.95)                  \n",
      "Eng-speak         -766.31***     -752.72***       -752.72***                    \n",
      "                  (107.65)       (103.04)         (103.04)                      \n",
      "GeneralHospital   -414607.35                                                    \n",
      "                  (687164.52)                                                   \n",
      "GolfCourt         -2773129.43*** -2513654.40***   -2513654.40***                \n",
      "                  (445934.58)    (423257.64)      (423257.64)                   \n",
      "GrammarY3         1109.17**      1125.91**        1125.91**                     \n",
      "                  (475.52)       (456.42)         (456.42)                      \n",
      "GrammarY5         1364.16**      1515.63***       1515.63***                    \n",
      "                  (557.05)       (417.59)         (417.59)                      \n",
      "High              6204779.39***  6412569.86***    6412569.86***                 \n",
      "                  (1023582.24)   (986831.46)      (986831.46)                   \n",
      "Inc               30.77                                                         \n",
      "                  (41.39)                                                       \n",
      "Lib               -3977435.50*** -3339980.08***   -3339980.08***                \n",
      "                  (949881.87)    (875445.86)      (875445.86)                   \n",
      "MedCenter         1966440.22**                                                  \n",
      "                  (953557.48)                                                   \n",
      "Mortgage          133.67***      134.18***        134.18***       185.99***     \n",
      "                  (7.98)         (7.95)           (7.95)          (7.96)        \n",
      "Museum            1379909.66***  805357.64**      805357.64**                   \n",
      "                  (424905.43)    (380362.06)      (380362.06)                   \n",
      "NumeracyY3        915.82**       588.22           588.22                        \n",
      "                  (427.63)       (410.48)         (410.48)                      \n",
      "NumeracyY5        -646.73*                                                      \n",
      "                  (343.76)                                                      \n",
      "PO                1319270.43                                                    \n",
      "                  (1332380.18)                                                  \n",
      "Park              3251913.49     3476659.91       3476659.91                    \n",
      "                  (3021087.59)   (2929537.52)     (2929537.52)                  \n",
      "Police            -1943558.60**  -2280321.07***   -2280321.07***                \n",
      "                  (810095.93)    (751153.80)      (751153.80)                   \n",
      "PreSchool         738866.97*     745993.32**      745993.32**                   \n",
      "                  (391447.08)    (345332.51)      (345332.51)                   \n",
      "Primary           -3205061.97*   -1796017.26      -1796017.26                   \n",
      "                  (1931539.49)   (1809438.34)     (1809438.34)                  \n",
      "PrimaryHigh       -5184567.09*** -4640053.38***   -4640053.38***                \n",
      "                  (608002.51)    (546135.09)      (546135.09)                   \n",
      "RailStat          -2073441.00*** -2993016.62***   -2993016.62***                \n",
      "                  (748958.32)    (602119.64)      (602119.64)                   \n",
      "ReadingY3         -2004.38***    -1828.96***      -1828.96***                   \n",
      "                  (472.61)       (451.17)         (451.17)                      \n",
      "ReadingY5         305.55                                                        \n",
      "                  (473.40)                                                      \n",
      "Rubbish           -45084.93      780180.22        780180.22                     \n",
      "                  (672532.42)    (594084.58)      (594084.58)                   \n",
      "Sewage            -567981.84                                                    \n",
      "                  (427144.89)                                                   \n",
      "SpellingY3        1619.21***     1490.49***       1490.49***                    \n",
      "                  (390.04)       (380.53)         (380.53)                      \n",
      "SpellingY5        -378.06        -644.75*         -644.75*                      \n",
      "                  (411.83)       (373.88)         (373.88)                      \n",
      "SportsCenter      5010436.50***  5275972.53***    5275972.53***                 \n",
      "                  (669095.75)    (610130.86)      (610130.86)                   \n",
      "SportsCourtField  2927904.33**   2978774.30**     2978774.30**                  \n",
      "                  (1464896.91)   (1415059.90)     (1415059.90)                  \n",
      "Suburb_Area       -669.02        -2970.00         -2970.00                      \n",
      "                  (2129.42)      (1981.97)        (1981.97)                     \n",
      "Swimming          -3077793.31*** -2799433.37***   -2799433.37***                \n",
      "                  (657926.76)    (598350.65)      (598350.65)                   \n",
      "TPO2009           -120.38                                                       \n",
      "                  (90.08)                                                       \n",
      "TPO2010           103.86                                                        \n",
      "                  (97.18)                                                       \n",
      "TVO2009           -1020.08***    -251.19***       -251.19***                    \n",
      "                  (237.27)       (46.79)          (46.79)                       \n",
      "TVO2010           884.12***                                                     \n",
      "                  (285.38)                                                      \n",
      "Tertiary          4745294.03***  4116028.54***    4116028.54***                 \n",
      "                  (639041.20)    (556618.75)      (556618.75)                   \n",
      "TotPop            -96.49                                                        \n",
      "                  (82.87)                                                       \n",
      "WritingY3         -2392.90***    -2182.46***      -2182.46***                   \n",
      "                  (355.75)       (334.12)         (334.12)                      \n",
      "WritingY5         -470.75        -809.42**        -809.42**                     \n",
      "                  (422.54)       (406.64)         (406.64)                      \n",
      "household_size    11108.53       10705.66         10705.66                      \n",
      "                  (17460.98)     (15111.96)       (15111.96)                    \n",
      "psn-per-bedroom   -145576.55***  -178990.03***    -178990.03***                 \n",
      "                  (56322.97)     (49385.19)       (49385.19)                    \n",
      "R-squared         0.55           0.55             0.55            0.49          \n",
      "No. observations  11974          11974            11974           11974         \n",
      "================================================================================\n",
      "Standard errors in parentheses.\n",
      "* p<.1, ** p<.05, ***p<.01\n"
     ]
    }
   ],
   "source": [
    "info_dict={'R-squared' : lambda x: f\"{x.rsquared:.2f}\",\n",
    "           'No. observations' : lambda x: f\"{int(x.nobs):d}\"}\n",
    "\n",
    "results_table = summary_col(results=[OLS_LinearEn_result, OLS_LinearLassoCV_result, \n",
    "                                     OLS_LinearLars_result, OLS_LinearSolar_result],\n",
    "                            float_format='%0.2f',\n",
    "                            stars = True,\n",
    "                            model_names=['post-en',\n",
    "                                         'post-lasso(lars)',\n",
    "                                         'post-larsso(cd)',\n",
    "                                         'post-solar'],\n",
    "                            info_dict=info_dict,\n",
    "                            regressor_order=['const',\n",
    "                                             'Bedrooms',\n",
    "                                             'Baths',\n",
    "                                             'Parking',\n",
    "                                             'Beach',\n",
    "                                             'Gaol',\n",
    "                                             'ICSEA',\n",
    "                                             'Mortage',\n",
    "                                             'Rent',\n",
    "                                             'FamInc'])\n",
    "\n",
    "results_table.add_title('Table 1 - Post-selection OLS comparison')\n",
    "\n",
    "print(results_table)"
   ]
  },
  {
   "cell_type": "markdown",
   "metadata": {},
   "source": [
    "# #8. rectified solar selection\n",
    "\n",
    "## #8(a). generate correlation table of all variables selected by solar"
   ]
  },
  {
   "cell_type": "code",
   "execution_count": 28,
   "metadata": {},
   "outputs": [
    {
     "data": {
      "text/html": [
       "<div>\n",
       "<style scoped>\n",
       "    .dataframe tbody tr th:only-of-type {\n",
       "        vertical-align: middle;\n",
       "    }\n",
       "\n",
       "    .dataframe tbody tr th {\n",
       "        vertical-align: top;\n",
       "    }\n",
       "\n",
       "    .dataframe thead th {\n",
       "        text-align: right;\n",
       "    }\n",
       "</style>\n",
       "<table border=\"1\" class=\"dataframe\">\n",
       "  <thead>\n",
       "    <tr style=\"text-align: right;\">\n",
       "      <th></th>\n",
       "      <th>Mortgage</th>\n",
       "      <th>Rent</th>\n",
       "      <th>FamInc</th>\n",
       "      <th>Bedrooms</th>\n",
       "      <th>Baths</th>\n",
       "      <th>Parking</th>\n",
       "      <th>Beach</th>\n",
       "      <th>Gaol</th>\n",
       "      <th>ICSEA</th>\n",
       "    </tr>\n",
       "  </thead>\n",
       "  <tbody>\n",
       "    <tr>\n",
       "      <th>Mortgage</th>\n",
       "      <td>1.000000</td>\n",
       "      <td>0.387588</td>\n",
       "      <td>0.549591</td>\n",
       "      <td>0.181471</td>\n",
       "      <td>0.231820</td>\n",
       "      <td>0.132911</td>\n",
       "      <td>-0.234297</td>\n",
       "      <td>-0.194712</td>\n",
       "      <td>0.345316</td>\n",
       "    </tr>\n",
       "    <tr>\n",
       "      <th>Rent</th>\n",
       "      <td>0.387588</td>\n",
       "      <td>1.000000</td>\n",
       "      <td>0.489310</td>\n",
       "      <td>0.061113</td>\n",
       "      <td>0.187923</td>\n",
       "      <td>0.069385</td>\n",
       "      <td>-0.256053</td>\n",
       "      <td>-0.217708</td>\n",
       "      <td>0.347929</td>\n",
       "    </tr>\n",
       "    <tr>\n",
       "      <th>FamInc</th>\n",
       "      <td>0.549591</td>\n",
       "      <td>0.489310</td>\n",
       "      <td>1.000000</td>\n",
       "      <td>0.085100</td>\n",
       "      <td>0.207115</td>\n",
       "      <td>0.084736</td>\n",
       "      <td>-0.328614</td>\n",
       "      <td>-0.183137</td>\n",
       "      <td>0.586666</td>\n",
       "    </tr>\n",
       "    <tr>\n",
       "      <th>Bedrooms</th>\n",
       "      <td>0.181471</td>\n",
       "      <td>0.061113</td>\n",
       "      <td>0.085100</td>\n",
       "      <td>1.000000</td>\n",
       "      <td>0.640027</td>\n",
       "      <td>0.480205</td>\n",
       "      <td>0.034859</td>\n",
       "      <td>0.192444</td>\n",
       "      <td>-0.043633</td>\n",
       "    </tr>\n",
       "    <tr>\n",
       "      <th>Baths</th>\n",
       "      <td>0.231820</td>\n",
       "      <td>0.187923</td>\n",
       "      <td>0.207115</td>\n",
       "      <td>0.640027</td>\n",
       "      <td>1.000000</td>\n",
       "      <td>0.428859</td>\n",
       "      <td>-0.072909</td>\n",
       "      <td>0.035303</td>\n",
       "      <td>0.098135</td>\n",
       "    </tr>\n",
       "    <tr>\n",
       "      <th>Parking</th>\n",
       "      <td>0.132911</td>\n",
       "      <td>0.069385</td>\n",
       "      <td>0.084736</td>\n",
       "      <td>0.480205</td>\n",
       "      <td>0.428859</td>\n",
       "      <td>1.000000</td>\n",
       "      <td>-0.007429</td>\n",
       "      <td>0.100043</td>\n",
       "      <td>-0.021987</td>\n",
       "    </tr>\n",
       "    <tr>\n",
       "      <th>Beach</th>\n",
       "      <td>-0.234297</td>\n",
       "      <td>-0.256053</td>\n",
       "      <td>-0.328614</td>\n",
       "      <td>0.034859</td>\n",
       "      <td>-0.072909</td>\n",
       "      <td>-0.007429</td>\n",
       "      <td>1.000000</td>\n",
       "      <td>0.528157</td>\n",
       "      <td>-0.260294</td>\n",
       "    </tr>\n",
       "    <tr>\n",
       "      <th>Gaol</th>\n",
       "      <td>-0.194712</td>\n",
       "      <td>-0.217708</td>\n",
       "      <td>-0.183137</td>\n",
       "      <td>0.192444</td>\n",
       "      <td>0.035303</td>\n",
       "      <td>0.100043</td>\n",
       "      <td>0.528157</td>\n",
       "      <td>1.000000</td>\n",
       "      <td>-0.233874</td>\n",
       "    </tr>\n",
       "    <tr>\n",
       "      <th>ICSEA</th>\n",
       "      <td>0.345316</td>\n",
       "      <td>0.347929</td>\n",
       "      <td>0.586666</td>\n",
       "      <td>-0.043633</td>\n",
       "      <td>0.098135</td>\n",
       "      <td>-0.021987</td>\n",
       "      <td>-0.260294</td>\n",
       "      <td>-0.233874</td>\n",
       "      <td>1.000000</td>\n",
       "    </tr>\n",
       "  </tbody>\n",
       "</table>\n",
       "</div>"
      ],
      "text/plain": [
       "          Mortgage      Rent    FamInc  Bedrooms     Baths   Parking  \\\n",
       "Mortgage  1.000000  0.387588  0.549591  0.181471  0.231820  0.132911   \n",
       "Rent      0.387588  1.000000  0.489310  0.061113  0.187923  0.069385   \n",
       "FamInc    0.549591  0.489310  1.000000  0.085100  0.207115  0.084736   \n",
       "Bedrooms  0.181471  0.061113  0.085100  1.000000  0.640027  0.480205   \n",
       "Baths     0.231820  0.187923  0.207115  0.640027  1.000000  0.428859   \n",
       "Parking   0.132911  0.069385  0.084736  0.480205  0.428859  1.000000   \n",
       "Beach    -0.234297 -0.256053 -0.328614  0.034859 -0.072909 -0.007429   \n",
       "Gaol     -0.194712 -0.217708 -0.183137  0.192444  0.035303  0.100043   \n",
       "ICSEA     0.345316  0.347929  0.586666 -0.043633  0.098135 -0.021987   \n",
       "\n",
       "             Beach      Gaol     ICSEA  \n",
       "Mortgage -0.234297 -0.194712  0.345316  \n",
       "Rent     -0.256053 -0.217708  0.347929  \n",
       "FamInc   -0.328614 -0.183137  0.586666  \n",
       "Bedrooms  0.034859  0.192444 -0.043633  \n",
       "Baths    -0.072909  0.035303  0.098135  \n",
       "Parking  -0.007429  0.100043 -0.021987  \n",
       "Beach     1.000000  0.528157 -0.260294  \n",
       "Gaol      0.528157  1.000000 -0.233874  \n",
       "ICSEA    -0.260294 -0.233874  1.000000  "
      ]
     },
     "execution_count": 28,
     "metadata": {},
     "output_type": "execute_result"
    }
   ],
   "source": [
    "X_linear[LinearSolar_active].corr()"
   ]
  },
  {
   "cell_type": "markdown",
   "metadata": {},
   "source": [
    "## #8(b). compute $\\mathrm{corr} \\left( \\cdot , \\mathrm{goal} \\right)$ of all variables"
   ]
  },
  {
   "cell_type": "code",
   "execution_count": 29,
   "metadata": {},
   "outputs": [],
   "source": [
    "goal_corr_table = X_linear.corr()['Gaol']"
   ]
  },
  {
   "cell_type": "markdown",
   "metadata": {},
   "source": [
    "### focus on those with $\\left\\vert \\mathrm{corr} \\left( \\cdot , \\mathrm{goal} \\right) \\right\\vert \\geqslant 0.3$"
   ]
  },
  {
   "cell_type": "code",
   "execution_count": 30,
   "metadata": {},
   "outputs": [
    {
     "data": {
      "text/plain": [
       "household_size       0.308524\n",
       "Airport              0.715427\n",
       "Beach                0.528157\n",
       "Cemetery             0.399691\n",
       "ChildCare            0.755749\n",
       "CommunityFacility    0.323157\n",
       "Club                 0.412455\n",
       "Gaol                 1.000000\n",
       "GeneralHospital      0.466243\n",
       "GolfCourt            0.479372\n",
       "MedCenter            0.305488\n",
       "PreSchool            0.472014\n",
       "Rubbish              0.670654\n",
       "Sewage               0.448407\n",
       "Swimming             0.382155\n",
       "Tertiary             0.482947\n",
       "Name: Gaol, dtype: float64"
      ]
     },
     "execution_count": 30,
     "metadata": {},
     "output_type": "execute_result"
    }
   ],
   "source": [
    "goal_corr_table[np.abs(goal_corr_table)>=0.3]"
   ]
  },
  {
   "cell_type": "markdown",
   "metadata": {},
   "source": [
    "### focus on those with $\\left\\vert \\mathrm{corr} \\left( \\cdot , \\mathrm{goal} \\right) \\right\\vert \\geqslant 0.5$"
   ]
  },
  {
   "cell_type": "code",
   "execution_count": 31,
   "metadata": {},
   "outputs": [
    {
     "data": {
      "text/plain": [
       "Airport      0.715427\n",
       "Beach        0.528157\n",
       "ChildCare    0.755749\n",
       "Gaol         1.000000\n",
       "Rubbish      0.670654\n",
       "Name: Gaol, dtype: float64"
      ]
     },
     "execution_count": 31,
     "metadata": {},
     "output_type": "execute_result"
    }
   ],
   "source": [
    "goal_corr_table[np.abs(goal_corr_table)>=0.5]"
   ]
  },
  {
   "cell_type": "markdown",
   "metadata": {},
   "source": [
    "## #8(c). check irrepresentable condition \n",
    "\n",
    "## $\\mathrm{Gaol} = X_{Goal}\\gamma + e$, where $X_{Goal} = \\left[ \\mathrm{Airport}, \\mathrm{ChildCare}, \\mathrm{Rubbish}, \\mathrm{Beach} \\right]$"
   ]
  },
  {
   "cell_type": "code",
   "execution_count": 32,
   "metadata": {},
   "outputs": [
    {
     "name": "stdout",
     "output_type": "stream",
     "text": [
      "                            OLS Regression Results                            \n",
      "==============================================================================\n",
      "Dep. Variable:                   Gaol   R-squared:                       0.885\n",
      "Model:                            OLS   Adj. R-squared:                  0.885\n",
      "Method:                 Least Squares   F-statistic:                 2.311e+04\n",
      "Date:                Mon, 06 Jan 2020   Prob (F-statistic):               0.00\n",
      "Time:                        13:19:45   Log-Likelihood:                -4023.1\n",
      "No. Observations:               11974   AIC:                             8056.\n",
      "Df Residuals:                   11969   BIC:                             8093.\n",
      "Df Model:                           4                                         \n",
      "Covariance Type:            nonrobust                                         \n",
      "==============================================================================\n",
      "                 coef    std err          t      P>|t|      [0.025      0.975]\n",
      "------------------------------------------------------------------------------\n",
      "const       -7.91e-15      0.003  -2.56e-12      1.000      -0.006       0.006\n",
      "Airport        0.4488      0.011     41.063      0.000       0.427       0.470\n",
      "ChildCare      0.3276      0.006     56.908      0.000       0.316       0.339\n",
      "Rubbish        0.0373      0.010      3.849      0.000       0.018       0.056\n",
      "Beach          0.5522      0.003    174.257      0.000       0.546       0.558\n",
      "==============================================================================\n",
      "Omnibus:                     3453.507   Durbin-Watson:                   1.370\n",
      "Prob(Omnibus):                  0.000   Jarque-Bera (JB):            11473.293\n",
      "Skew:                          -1.454   Prob(JB):                         0.00\n",
      "Kurtosis:                       6.813   Cond. No.                         7.54\n",
      "==============================================================================\n",
      "\n",
      "Warnings:\n",
      "[1] Standard Errors assume that the covariance matrix of the errors is correctly specified.\n"
     ]
    }
   ],
   "source": [
    "X_Gaol_group = X_linear[['Airport', 'ChildCare', 'Rubbish', 'Beach']]\n",
    "Y_Gaol_group = X_linear[['Gaol']]\n",
    "\n",
    "Y_Gaol_group = (Y_Gaol_group - Y_Gaol_group.mean()) / Y_Gaol_group.std()\n",
    "X_Gaol_group = (X_Gaol_group - X_Gaol_group.mean()) / X_Gaol_group.std()\n",
    "\n",
    "X_Gaol_group = sm.add_constant(X_Gaol_group)\n",
    "\n",
    "OLS_Gaol = sm.OLS(Y_Gaol_group, X_Gaol_group)\n",
    "\n",
    "OLS_Gaol_result = OLS_Gaol.fit()\n",
    "print(OLS_Gaol_result.summary())"
   ]
  },
  {
   "cell_type": "markdown",
   "metadata": {},
   "source": [
    "### check if $\\left\\Vert \\gamma \\right\\Vert_1 \\geqslant 1$"
   ]
  },
  {
   "cell_type": "code",
   "execution_count": 33,
   "metadata": {},
   "outputs": [
    {
     "name": "stdout",
     "output_type": "stream",
     "text": [
      "the abs value of regression coef:  1.3659160731064564\n"
     ]
    }
   ],
   "source": [
    "print('the abs value of regression coef: ', np.sum(np.abs(OLS_Gaol_result.params)))"
   ]
  },
  {
   "cell_type": "markdown",
   "metadata": {},
   "source": [
    "## #8(c). due to the potential IRC violation, add 'Airport' and 'Rubbish' back to post-solar OLS (referred to as the rectified post-solar)"
   ]
  },
  {
   "cell_type": "code",
   "execution_count": 34,
   "metadata": {},
   "outputs": [
    {
     "name": "stdout",
     "output_type": "stream",
     "text": [
      "                            OLS Regression Results                            \n",
      "==============================================================================\n",
      "Dep. Variable:                  Price   R-squared:                       0.515\n",
      "Model:                            OLS   Adj. R-squared:                  0.515\n",
      "Method:                 Least Squares   F-statistic:                     1059.\n",
      "Date:                Mon, 06 Jan 2020   Prob (F-statistic):               0.00\n",
      "Time:                        13:19:46   Log-Likelihood:            -1.7384e+05\n",
      "No. Observations:               11974   AIC:                         3.477e+05\n",
      "Df Residuals:                   11961   BIC:                         3.478e+05\n",
      "Df Model:                          12                                         \n",
      "Covariance Type:            nonrobust                                         \n",
      "==============================================================================\n",
      "                 coef    std err          t      P>|t|      [0.025      0.975]\n",
      "------------------------------------------------------------------------------\n",
      "const      -1.445e+06   1.12e+05    -12.861      0.000   -1.67e+06   -1.23e+06\n",
      "Mortgage     174.5467      7.820     22.320      0.000     159.218     189.876\n",
      "FamInc        -8.3857     12.179     -0.689      0.491     -32.259      15.487\n",
      "Rent         312.8525     34.785      8.994      0.000     244.669     381.036\n",
      "Bedrooms    1.839e+05   6015.928     30.568      0.000    1.72e+05    1.96e+05\n",
      "Baths       2.037e+05   8147.926     24.997      0.000    1.88e+05     2.2e+05\n",
      "Parking     1.041e+05   6861.158     15.165      0.000    9.06e+04    1.17e+05\n",
      "Beach       -1.51e+06    2.6e+05     -5.798      0.000   -2.02e+06   -9.99e+05\n",
      "ICSEA        960.6770    104.066      9.231      0.000     756.691    1164.663\n",
      "Gaol       -1.137e+06   2.68e+05     -4.249      0.000   -1.66e+06   -6.13e+05\n",
      "Airport     1.849e+06   4.54e+05      4.070      0.000    9.59e+05    2.74e+06\n",
      "ChildCare  -3.962e+06   2.21e+05    -17.946      0.000   -4.39e+06   -3.53e+06\n",
      "Rubbish     3.137e+06   3.72e+05      8.425      0.000    2.41e+06    3.87e+06\n",
      "==============================================================================\n",
      "Omnibus:                    16213.422   Durbin-Watson:                   1.884\n",
      "Prob(Omnibus):                  0.000   Jarque-Bera (JB):          8545570.520\n",
      "Skew:                           7.459   Prob(JB):                         0.00\n",
      "Kurtosis:                     133.022   Cond. No.                     4.37e+05\n",
      "==============================================================================\n",
      "\n",
      "Warnings:\n",
      "[1] Standard Errors assume that the covariance matrix of the errors is correctly specified.\n",
      "[2] The condition number is large, 4.37e+05. This might indicate that there are\n",
      "strong multicollinearity or other numerical problems.\n"
     ]
    }
   ],
   "source": [
    "X_rec = X_linear[['Mortgage', 'FamInc', 'Rent',\n",
    "                 'Bedrooms', 'Baths', 'Parking', 'Beach', \n",
    "                 'ICSEA', 'Gaol', 'Airport', 'ChildCare', \n",
    "                 'Rubbish']]\n",
    "\n",
    "X_rec   = sm.add_constant(X_rec)\n",
    "OLS_rec = sm.OLS(Y_linear, X_rec)\n",
    "\n",
    "OLS_rec_result = OLS_rec.fit()\n",
    "print(OLS_rec_result.summary())"
   ]
  },
  {
   "cell_type": "code",
   "execution_count": 35,
   "metadata": {},
   "outputs": [
    {
     "name": "stdout",
     "output_type": "stream",
     "text": [
      "                            Table 2 - Post-selection OLS comparison\n",
      "===============================================================================================\n",
      "                     post-en     post-lasso(lars) post-larsso(cd) rec post-solar   post-solar  \n",
      "-----------------------------------------------------------------------------------------------\n",
      "const             -886234.40***  -827387.49***    -827387.49***   -1445430.40*** -2486422.15***\n",
      "                  (186680.91)    (174136.59)      (174136.59)     (112390.24)    (98422.98)    \n",
      "Bedrooms          165639.00***   166225.82***     166225.82***    183893.59***   169510.52***  \n",
      "                  (6433.57)      (6404.82)        (6404.82)       (6015.93)      (6015.37)     \n",
      "Baths             210101.84***   210600.58***     210600.58***    203674.28***   209626.52***  \n",
      "                  (8115.07)      (8048.92)        (8048.92)       (8147.93)      (8297.24)     \n",
      "Parking           97790.57***    96883.13***      96883.13***     104050.40***   97623.23***   \n",
      "                  (6689.35)      (6688.13)        (6688.13)       (6861.16)      (6985.67)     \n",
      "Beach             -5029681.74*** -4051671.57***   -4051671.57***  -1509612.24*** -796281.77*** \n",
      "                  (600061.28)    (262369.00)      (262369.00)     (260370.04)    (153431.50)   \n",
      "ChildCare         -4802095.18*** -4163486.91***   -4163486.91***  -3961629.37***               \n",
      "                  (393577.54)    (316107.89)      (316107.89)     (220752.57)                  \n",
      "Gaol              1614215.27**                                    -1137143.99*** -1909369.80***\n",
      "                  (646392.84)                                     (267597.21)    (107204.64)   \n",
      "ICSEA             838.54***      862.92***        862.92***       960.68***      1756.92***    \n",
      "                  (172.42)       (163.42)         (163.42)        (104.07)       (95.67)       \n",
      "Mortgage          133.67***      134.18***        134.18***       174.55***      185.99***     \n",
      "                  (7.98)         (7.95)           (7.95)          (7.82)         (7.96)        \n",
      "Rent              264.35***      265.80***        265.80***       312.85***      370.76***     \n",
      "                  (36.80)        (35.27)          (35.27)         (34.78)        (35.42)       \n",
      "FamInc            59.04***       69.22***         69.22***        -8.39          66.57***      \n",
      "                  (19.23)        (14.97)          (14.97)         (12.18)        (11.48)       \n",
      "Airport           2865246.35***  3122719.74***    3122719.74***   1849108.51***                \n",
      "                  (735335.86)    (625604.38)      (625604.38)     (454344.97)                  \n",
      "Rubbish           -45084.93      780180.22        780180.22       3136997.85***                \n",
      "                  (672532.42)    (594084.58)      (594084.58)     (372355.34)                  \n",
      "AgeSA1            3673.46***     4106.29***       4106.29***                                   \n",
      "                  (1031.69)      (958.98)         (958.98)                                     \n",
      "AreaSize          -8.14***       -8.33***         -8.33***                                     \n",
      "                  (1.10)         (1.07)           (1.07)                                       \n",
      "Aus               673.35***      536.38***        536.38***                                    \n",
      "                  (143.95)       (87.86)          (87.86)                                      \n",
      "Cemetery          -1780031.26*** -1541060.94***   -1541060.94***                               \n",
      "                  (491214.73)    (397194.26)      (397194.26)                                  \n",
      "Club              -4017045.37*** -3038202.83***   -3038202.83***                               \n",
      "                  (832856.36)    (738349.99)      (738349.99)                                  \n",
      "CommunityFacility 608111.54                                                                    \n",
      "                  (1247157.82)                                                                 \n",
      "DistBound         5151845.31**   7352229.46***    7352229.46***                                \n",
      "                  (2132172.28)   (1837330.95)     (1837330.95)                                 \n",
      "Eng-speak         -766.31***     -752.72***       -752.72***                                   \n",
      "                  (107.65)       (103.04)         (103.04)                                     \n",
      "GeneralHospital   -414607.35                                                                   \n",
      "                  (687164.52)                                                                  \n",
      "GolfCourt         -2773129.43*** -2513654.40***   -2513654.40***                               \n",
      "                  (445934.58)    (423257.64)      (423257.64)                                  \n",
      "GrammarY3         1109.17**      1125.91**        1125.91**                                    \n",
      "                  (475.52)       (456.42)         (456.42)                                     \n",
      "GrammarY5         1364.16**      1515.63***       1515.63***                                   \n",
      "                  (557.05)       (417.59)         (417.59)                                     \n",
      "High              6204779.39***  6412569.86***    6412569.86***                                \n",
      "                  (1023582.24)   (986831.46)      (986831.46)                                  \n",
      "Inc               30.77                                                                        \n",
      "                  (41.39)                                                                      \n",
      "Lib               -3977435.50*** -3339980.08***   -3339980.08***                               \n",
      "                  (949881.87)    (875445.86)      (875445.86)                                  \n",
      "MedCenter         1966440.22**                                                                 \n",
      "                  (953557.48)                                                                  \n",
      "Museum            1379909.66***  805357.64**      805357.64**                                  \n",
      "                  (424905.43)    (380362.06)      (380362.06)                                  \n",
      "NumeracyY3        915.82**       588.22           588.22                                       \n",
      "                  (427.63)       (410.48)         (410.48)                                     \n",
      "NumeracyY5        -646.73*                                                                     \n",
      "                  (343.76)                                                                     \n",
      "PO                1319270.43                                                                   \n",
      "                  (1332380.18)                                                                 \n",
      "Park              3251913.49     3476659.91       3476659.91                                   \n",
      "                  (3021087.59)   (2929537.52)     (2929537.52)                                 \n",
      "Police            -1943558.60**  -2280321.07***   -2280321.07***                               \n",
      "                  (810095.93)    (751153.80)      (751153.80)                                  \n",
      "PreSchool         738866.97*     745993.32**      745993.32**                                  \n",
      "                  (391447.08)    (345332.51)      (345332.51)                                  \n",
      "Primary           -3205061.97*   -1796017.26      -1796017.26                                  \n",
      "                  (1931539.49)   (1809438.34)     (1809438.34)                                 \n",
      "PrimaryHigh       -5184567.09*** -4640053.38***   -4640053.38***                               \n",
      "                  (608002.51)    (546135.09)      (546135.09)                                  \n",
      "RailStat          -2073441.00*** -2993016.62***   -2993016.62***                               \n",
      "                  (748958.32)    (602119.64)      (602119.64)                                  \n",
      "ReadingY3         -2004.38***    -1828.96***      -1828.96***                                  \n",
      "                  (472.61)       (451.17)         (451.17)                                     \n",
      "ReadingY5         305.55                                                                       \n",
      "                  (473.40)                                                                     \n",
      "Sewage            -567981.84                                                                   \n",
      "                  (427144.89)                                                                  \n",
      "SpellingY3        1619.21***     1490.49***       1490.49***                                   \n",
      "                  (390.04)       (380.53)         (380.53)                                     \n",
      "SpellingY5        -378.06        -644.75*         -644.75*                                     \n",
      "                  (411.83)       (373.88)         (373.88)                                     \n",
      "SportsCenter      5010436.50***  5275972.53***    5275972.53***                                \n",
      "                  (669095.75)    (610130.86)      (610130.86)                                  \n",
      "SportsCourtField  2927904.33**   2978774.30**     2978774.30**                                 \n",
      "                  (1464896.91)   (1415059.90)     (1415059.90)                                 \n",
      "Suburb_Area       -669.02        -2970.00         -2970.00                                     \n",
      "                  (2129.42)      (1981.97)        (1981.97)                                    \n",
      "Swimming          -3077793.31*** -2799433.37***   -2799433.37***                               \n",
      "                  (657926.76)    (598350.65)      (598350.65)                                  \n",
      "TPO2009           -120.38                                                                      \n",
      "                  (90.08)                                                                      \n",
      "TPO2010           103.86                                                                       \n",
      "                  (97.18)                                                                      \n",
      "TVO2009           -1020.08***    -251.19***       -251.19***                                   \n",
      "                  (237.27)       (46.79)          (46.79)                                      \n",
      "TVO2010           884.12***                                                                    \n",
      "                  (285.38)                                                                     \n",
      "Tertiary          4745294.03***  4116028.54***    4116028.54***                                \n",
      "                  (639041.20)    (556618.75)      (556618.75)                                  \n",
      "TotPop            -96.49                                                                       \n",
      "                  (82.87)                                                                      \n",
      "WritingY3         -2392.90***    -2182.46***      -2182.46***                                  \n",
      "                  (355.75)       (334.12)         (334.12)                                     \n",
      "WritingY5         -470.75        -809.42**        -809.42**                                    \n",
      "                  (422.54)       (406.64)         (406.64)                                     \n",
      "household_size    11108.53       10705.66         10705.66                                     \n",
      "                  (17460.98)     (15111.96)       (15111.96)                                   \n",
      "psn-per-bedroom   -145576.55***  -178990.03***    -178990.03***                                \n",
      "                  (56322.97)     (49385.19)       (49385.19)                                   \n",
      "R-squared         0.55           0.55             0.55            0.52           0.49          \n",
      "No. observations  11974          11974            11974           11974          11974         \n",
      "===============================================================================================\n",
      "Standard errors in parentheses.\n",
      "* p<.1, ** p<.05, ***p<.01\n"
     ]
    }
   ],
   "source": [
    "info_dict={'R-squared' : lambda x: f\"{x.rsquared:.2f}\",\n",
    "           'No. observations' : lambda x: f\"{int(x.nobs):d}\"}\n",
    "\n",
    "results_table2 = summary_col(results=[OLS_LinearEn_result, OLS_LinearLassoCV_result, \n",
    "                                      OLS_LinearLars_result, OLS_rec_result, \n",
    "                                      OLS_LinearSolar_result],\n",
    "                            float_format='%0.2f',\n",
    "                            stars = True,\n",
    "                            model_names=['post-en',\n",
    "                                         'post-lasso(lars)',\n",
    "                                         'post-larsso(cd)',\n",
    "                                         'rec post-solar',\n",
    "                                         'post-solar'],\n",
    "                            info_dict=info_dict,\n",
    "                            regressor_order=['const',\n",
    "                                             'Bedrooms',\n",
    "                                             'Baths',\n",
    "                                             'Parking',\n",
    "                                             'Beach',\n",
    "                                             'ChildCare',\n",
    "                                             'Gaol',\n",
    "                                             'ICSEA',\n",
    "                                             'Mortgage',\n",
    "                                             'Rent',\n",
    "                                             'FamInc',\n",
    "                                             'Airport',\n",
    "                                             'Rubbish'])\n",
    "\n",
    "results_table2.add_title('Table 2 - Post-selection OLS comparison')\n",
    "\n",
    "print(results_table2)"
   ]
  },
  {
   "cell_type": "code",
   "execution_count": 36,
   "metadata": {},
   "outputs": [
    {
     "name": "stdout",
     "output_type": "stream",
     "text": [
      "                            OLS Regression Results                            \n",
      "==============================================================================\n",
      "Dep. Variable:                  Price   R-squared:                       0.515\n",
      "Model:                            OLS   Adj. R-squared:                  0.515\n",
      "Method:                 Least Squares   F-statistic:                     1059.\n",
      "Date:                Mon, 06 Jan 2020   Prob (F-statistic):               0.00\n",
      "Time:                        13:19:47   Log-Likelihood:                -12656.\n",
      "No. Observations:               11974   AIC:                         2.534e+04\n",
      "Df Residuals:                   11961   BIC:                         2.543e+04\n",
      "Df Model:                          12                                         \n",
      "Covariance Type:            nonrobust                                         \n",
      "==============================================================================\n",
      "                 coef    std err          t      P>|t|      [0.025      0.975]\n",
      "------------------------------------------------------------------------------\n",
      "const       2.353e-14      0.006    3.7e-12      1.000      -0.012       0.012\n",
      "Mortgage       0.1771      0.008     22.320      0.000       0.162       0.193\n",
      "FamInc        -0.0070      0.010     -0.689      0.491      -0.027       0.013\n",
      "Rent           0.0679      0.008      8.994      0.000       0.053       0.083\n",
      "Bedrooms       0.2797      0.009     30.568      0.000       0.262       0.298\n",
      "Baths          0.2175      0.009     24.997      0.000       0.200       0.235\n",
      "Parking        0.1126      0.007     15.165      0.000       0.098       0.127\n",
      "Beach         -0.0787      0.014     -5.798      0.000      -0.105      -0.052\n",
      "ICSEA          0.0824      0.009      9.231      0.000       0.065       0.100\n",
      "Gaol          -0.0848      0.020     -4.249      0.000      -0.124      -0.046\n",
      "Airport        0.1076      0.026      4.070      0.000       0.056       0.159\n",
      "ChildCare     -0.3533      0.020    -17.946      0.000      -0.392      -0.315\n",
      "Rubbish        0.1715      0.020      8.425      0.000       0.132       0.211\n",
      "==============================================================================\n",
      "Omnibus:                    16213.422   Durbin-Watson:                   1.884\n",
      "Prob(Omnibus):                  0.000   Jarque-Bera (JB):          8545570.520\n",
      "Skew:                           7.459   Prob(JB):                         0.00\n",
      "Kurtosis:                     133.022   Cond. No.                         9.99\n",
      "==============================================================================\n",
      "\n",
      "Warnings:\n",
      "[1] Standard Errors assume that the covariance matrix of the errors is correctly specified.\n"
     ]
    }
   ],
   "source": [
    "X_corr = X_linear[['Mortgage', 'FamInc', 'Rent',\n",
    "                 'Bedrooms', 'Baths', 'Parking', 'Beach', \n",
    "                 'ICSEA', 'Gaol', 'Airport', 'ChildCare', \n",
    "                 'Rubbish']]\n",
    "\n",
    "Y_corr = (Y_linear  - Y_linear.mean() ) / Y_linear.std()\n",
    "X_corr = (X_corr - X_corr.mean()) / X_corr.std()\n",
    "\n",
    "X_corr = sm.add_constant(X_corr)\n",
    "OLS_corr = sm.OLS(Y_corr, X_corr)\n",
    "\n",
    "OLS_corr_result = OLS_corr.fit()\n",
    "print(OLS_corr_result.summary())"
   ]
  },
  {
   "cell_type": "markdown",
   "metadata": {},
   "source": [
    "# #9. linear PGM estimation based on solar\n",
    "\n",
    "## this part is finished using R package 'bnlearn', which is fully tested in debian and ubuntu (not tested in windows or mac). Please make sure that either your have R kernel in jupyter or you create R session in Python kernel."
   ]
  },
  {
   "cell_type": "markdown",
   "metadata": {},
   "source": [
    "# #10. endogeneity detection and IV estimation using linear PGM"
   ]
  },
  {
   "cell_type": "markdown",
   "metadata": {},
   "source": [
    "## #10(a). Robust OLS that pretends nothing happens"
   ]
  },
  {
   "cell_type": "code",
   "execution_count": 37,
   "metadata": {},
   "outputs": [
    {
     "name": "stdout",
     "output_type": "stream",
     "text": [
      "                            OLS Estimation Summary                            \n",
      "==============================================================================\n",
      "Dep. Variable:                   Rent   R-squared:                      0.3462\n",
      "Estimator:                        OLS   Adj. R-squared:                 0.3457\n",
      "No. Observations:               11974   F-statistic:                    5429.1\n",
      "Date:                Mon, Jan 06 2020   P-value (F-stat)                0.0000\n",
      "Time:                        13:19:48   Distribution:                 chi2(10)\n",
      "Cov. Estimator:                robust                                         \n",
      "                                                                              \n",
      "                               Parameter Estimates                                \n",
      "==================================================================================\n",
      "                Parameter  Std. Err.     T-stat    P-value    Lower CI    Upper CI\n",
      "----------------------------------------------------------------------------------\n",
      "const             -74.336     32.387    -2.2952     0.0217     -137.81     -10.858\n",
      "household_size     105.60     4.0883     25.829     0.0000      97.583      113.61\n",
      "Beach             -841.34     65.053    -12.933     0.0000     -968.84     -713.84\n",
      "ChildCare         -574.23     56.568    -10.151     0.0000     -685.10     -463.36\n",
      "Gaol               329.80     72.253     4.5646     0.0000      188.19      471.42\n",
      "PrimaryHigh       -331.82     70.568    -4.7021     0.0000     -470.13     -193.51\n",
      "Mortgage           0.0154     0.0044     3.4684     0.0005      0.0067      0.0241\n",
      "ICSEA              0.0855     0.0293     2.9184     0.0035      0.0281      0.1429\n",
      "FamInc            -0.0012     0.0068    -0.1717     0.8636     -0.0144      0.0121\n",
      "Inc                0.2250     0.0144     15.635     0.0000      0.1968      0.2532\n",
      "Price           1.946e-05      5e-06     3.8921     0.0001    9.66e-06   2.926e-05\n",
      "==================================================================================\n"
     ]
    }
   ],
   "source": [
    "OLS = IV2SLS(dependent=linTB['Rent'],\n",
    "            exog=linTB[['const', 'household_size', 'Beach', \n",
    "                        'ChildCare', 'Gaol', 'PrimaryHigh', \n",
    "                        'Mortgage', 'ICSEA', 'FamInc', 'Inc',\n",
    "                        'Price']],\n",
    "            endog=None,\n",
    "            instruments=None).fit(cov_type='robust')\n",
    "\n",
    "print(OLS.summary)"
   ]
  },
  {
   "cell_type": "markdown",
   "metadata": {},
   "source": [
    "## #10(b). Robust 2SLS"
   ]
  },
  {
   "cell_type": "code",
   "execution_count": 38,
   "metadata": {},
   "outputs": [
    {
     "name": "stdout",
     "output_type": "stream",
     "text": [
      "                          IV-2SLS Estimation Summary                          \n",
      "==============================================================================\n",
      "Dep. Variable:                   Rent   R-squared:                      0.3444\n",
      "Estimator:                    IV-2SLS   Adj. R-squared:                 0.3439\n",
      "No. Observations:               11974   F-statistic:                    4918.1\n",
      "Date:                Mon, Jan 06 2020   P-value (F-stat)                0.0000\n",
      "Time:                        13:19:48   Distribution:                 chi2(10)\n",
      "Cov. Estimator:                robust                                         \n",
      "                                                                              \n",
      "                               Parameter Estimates                                \n",
      "==================================================================================\n",
      "                Parameter  Std. Err.     T-stat    P-value    Lower CI    Upper CI\n",
      "----------------------------------------------------------------------------------\n",
      "const             -50.537     34.127    -1.4809     0.1386     -117.42      16.350\n",
      "household_size     102.56     4.3406     23.629     0.0000      94.057      111.07\n",
      "Beach             -795.41     69.300    -11.478     0.0000     -931.24     -659.59\n",
      "ChildCare         -549.46     58.911    -9.3269     0.0000     -664.92     -434.00\n",
      "Gaol               315.15     73.693     4.2765     0.0000      170.72      459.59\n",
      "PrimaryHigh       -343.79     70.472    -4.8783     0.0000     -481.91     -205.66\n",
      "Mortgage           0.0126     0.0050     2.5347     0.0113      0.0029      0.0224\n",
      "ICSEA              0.0678     0.0294     2.3028     0.0213      0.0101      0.1255\n",
      "FamInc            -0.0034     0.0066    -0.5222     0.6016     -0.0163      0.0095\n",
      "Inc                0.2276     0.0143     15.970     0.0000      0.1997      0.2555\n",
      "Price           3.036e-05  5.681e-06     5.3430     0.0000   1.922e-05   4.149e-05\n",
      "==================================================================================\n",
      "\n",
      "Endogenous: Price\n",
      "Instruments: Baths\n",
      "Robust Covariance (Heteroskedastic)\n",
      "Debiased: False\n"
     ]
    }
   ],
   "source": [
    "iv = IV2SLS(dependent=linTB['Rent'],\n",
    "            exog=linTB[['const', 'household_size', 'Beach', \n",
    "                        'ChildCare', 'Gaol', 'PrimaryHigh', \n",
    "                        'Mortgage', 'ICSEA', 'FamInc', 'Inc']],\n",
    "            endog=linTB[['Price']],\n",
    "            instruments=linTB[['Baths']]).fit(cov_type='robust')\n",
    "\n",
    "print(iv.summary)"
   ]
  },
  {
   "cell_type": "code",
   "execution_count": 39,
   "metadata": {},
   "outputs": [
    {
     "name": "stdout",
     "output_type": "stream",
     "text": [
      "                          IV-2SLS Estimation Summary                          \n",
      "==============================================================================\n",
      "Dep. Variable:                   Rent   R-squared:                      0.3407\n",
      "Estimator:                    IV-2SLS   Adj. R-squared:                 0.3401\n",
      "No. Observations:               11974   F-statistic:                    4990.9\n",
      "Date:                Mon, Jan 06 2020   P-value (F-stat)                0.0000\n",
      "Time:                        13:19:49   Distribution:                 chi2(10)\n",
      "Cov. Estimator:                robust                                         \n",
      "                                                                              \n",
      "                               Parameter Estimates                                \n",
      "==================================================================================\n",
      "                Parameter  Std. Err.     T-stat    P-value    Lower CI    Upper CI\n",
      "----------------------------------------------------------------------------------\n",
      "const             -116.40     34.288    -3.3948     0.0007     -183.60     -49.198\n",
      "household_size     110.95     4.3636     25.427     0.0000      102.40      119.51\n",
      "Beach             -922.53     68.777    -13.413     0.0000     -1057.3     -787.73\n",
      "ChildCare         -618.02     58.434    -10.576     0.0000     -732.54     -503.49\n",
      "Gaol               355.71     73.729     4.8245     0.0000      211.20      500.21\n",
      "PrimaryHigh       -310.66     70.736    -4.3918     0.0000     -449.30     -172.02\n",
      "Mortgage           0.0203     0.0050     4.0522     0.0001      0.0105      0.0301\n",
      "ICSEA              0.1169     0.0292     3.9957     0.0001      0.0595      0.1742\n",
      "FamInc             0.0029     0.0065     0.4400     0.6599     -0.0099      0.0156\n",
      "Inc                0.2203     0.0143     15.410     0.0000      0.1923      0.2483\n",
      "Price           1.979e-07  4.457e-06     0.0444     0.9646  -8.538e-06   8.934e-06\n",
      "==================================================================================\n",
      "\n",
      "Endogenous: Price\n",
      "Instruments: Bedrooms\n",
      "Robust Covariance (Heteroskedastic)\n",
      "Debiased: False\n"
     ]
    }
   ],
   "source": [
    "weak_iv1 = IV2SLS(dependent=linTB['Rent'],\n",
    "            exog=linTB[['const', 'household_size', 'Beach', \n",
    "                        'ChildCare', 'Gaol', 'PrimaryHigh', \n",
    "                        'Mortgage', 'ICSEA', 'FamInc', 'Inc']],\n",
    "            endog=linTB[['Price']],\n",
    "            instruments=linTB[['Bedrooms']]).fit(cov_type='robust')\n",
    "\n",
    "print(weak_iv1.summary)"
   ]
  },
  {
   "cell_type": "code",
   "execution_count": 40,
   "metadata": {},
   "outputs": [
    {
     "name": "stdout",
     "output_type": "stream",
     "text": [
      "                          IV-2SLS Estimation Summary                          \n",
      "==============================================================================\n",
      "Dep. Variable:                   Rent   R-squared:                      0.3461\n",
      "Estimator:                    IV-2SLS   Adj. R-squared:                 0.3455\n",
      "No. Observations:               11974   F-statistic:                    4983.9\n",
      "Date:                Mon, Jan 06 2020   P-value (F-stat)                0.0000\n",
      "Time:                        13:19:49   Distribution:                 chi2(10)\n",
      "Cov. Estimator:                robust                                         \n",
      "                                                                              \n",
      "                               Parameter Estimates                                \n",
      "==================================================================================\n",
      "                Parameter  Std. Err.     T-stat    P-value    Lower CI    Upper CI\n",
      "----------------------------------------------------------------------------------\n",
      "const             -80.687     36.291    -2.2233     0.0262     -151.82     -9.5580\n",
      "household_size     106.40     4.6156     23.053     0.0000      97.358      115.45\n",
      "Beach             -853.60     74.377    -11.477     0.0000     -999.38     -707.82\n",
      "ChildCare         -580.84     60.967    -9.5272     0.0000     -700.34     -461.35\n",
      "Gaol               333.72     74.708     4.4669     0.0000      187.29      480.14\n",
      "PrimaryHigh       -328.62     70.516    -4.6602     0.0000     -466.83     -190.41\n",
      "Mortgage           0.0161     0.0053     3.0657     0.0022      0.0058      0.0264\n",
      "ICSEA              0.0902     0.0305     2.9591     0.0031      0.0305      0.1500\n",
      "FamInc            -0.0006     0.0065    -0.0846     0.9326     -0.0134      0.0123\n",
      "Inc                0.2243     0.0143     15.688     0.0000      0.1962      0.2523\n",
      "Price           1.655e-05  6.678e-06     2.4782     0.0132   3.461e-06   2.964e-05\n",
      "==================================================================================\n",
      "\n",
      "Endogenous: Price\n",
      "Instruments: Parking\n",
      "Robust Covariance (Heteroskedastic)\n",
      "Debiased: False\n"
     ]
    }
   ],
   "source": [
    "weak_iv2 = IV2SLS(dependent=linTB['Rent'],\n",
    "            exog=linTB[['const', 'household_size', 'Beach', \n",
    "                        'ChildCare', 'Gaol', 'PrimaryHigh', \n",
    "                        'Mortgage', 'ICSEA', 'FamInc', 'Inc']],\n",
    "            endog=linTB[['Price']],\n",
    "            instruments=linTB[['Parking']]).fit(cov_type='robust')\n",
    "\n",
    "print(weak_iv2.summary)"
   ]
  },
  {
   "cell_type": "markdown",
   "metadata": {},
   "source": [
    "## #10(c). Endogeneity test\n",
    "### Durbin Endogeneity test"
   ]
  },
  {
   "cell_type": "code",
   "execution_count": 41,
   "metadata": {},
   "outputs": [
    {
     "data": {
      "text/plain": [
       "Durbin test of exogeneity\n",
       "H0: All endogenous variables are exogenous\n",
       "Statistic: 8.8532\n",
       "P-value: 0.0029\n",
       "Distributed: chi2(1)\n",
       "WaldTestStatistic, id: 0x7f6dd0545610"
      ]
     },
     "execution_count": 41,
     "metadata": {},
     "output_type": "execute_result"
    }
   ],
   "source": [
    "iv.durbin()"
   ]
  },
  {
   "cell_type": "code",
   "execution_count": 42,
   "metadata": {},
   "outputs": [
    {
     "data": {
      "text/plain": [
       "Durbin test of exogeneity\n",
       "H0: All endogenous variables are exogenous\n",
       "Statistic: 29.8844\n",
       "P-value: 0.0000\n",
       "Distributed: chi2(1)\n",
       "WaldTestStatistic, id: 0x7f6dd3b7e410"
      ]
     },
     "execution_count": 42,
     "metadata": {},
     "output_type": "execute_result"
    }
   ],
   "source": [
    "weak_iv1.durbin()"
   ]
  },
  {
   "cell_type": "code",
   "execution_count": 43,
   "metadata": {},
   "outputs": [
    {
     "data": {
      "text/plain": [
       "Durbin test of exogeneity\n",
       "H0: All endogenous variables are exogenous\n",
       "Statistic: 0.2795\n",
       "P-value: 0.5970\n",
       "Distributed: chi2(1)\n",
       "WaldTestStatistic, id: 0x7f6dd3b6df50"
      ]
     },
     "execution_count": 43,
     "metadata": {},
     "output_type": "execute_result"
    }
   ],
   "source": [
    "weak_iv2.durbin()"
   ]
  },
  {
   "cell_type": "markdown",
   "metadata": {},
   "source": [
    "### Hausman Endogeneity test"
   ]
  },
  {
   "cell_type": "code",
   "execution_count": 44,
   "metadata": {},
   "outputs": [
    {
     "data": {
      "text/plain": [
       "Wu-Hausman test of exogeneity\n",
       "H0: All endogenous variables are exogenous\n",
       "Statistic: 8.8508\n",
       "P-value: 0.0029\n",
       "Distributed: F(1,11962)\n",
       "WaldTestStatistic, id: 0x7f6dd3b55650"
      ]
     },
     "execution_count": 44,
     "metadata": {},
     "output_type": "execute_result"
    }
   ],
   "source": [
    "iv.wu_hausman()"
   ]
  },
  {
   "cell_type": "code",
   "execution_count": 45,
   "metadata": {},
   "outputs": [
    {
     "data": {
      "text/plain": [
       "Wu-Hausman test of exogeneity\n",
       "H0: All endogenous variables are exogenous\n",
       "Statistic: 29.9291\n",
       "P-value: 0.0000\n",
       "Distributed: F(1,11962)\n",
       "WaldTestStatistic, id: 0x7f6dd3c26d10"
      ]
     },
     "execution_count": 45,
     "metadata": {},
     "output_type": "execute_result"
    }
   ],
   "source": [
    "weak_iv1.wu_hausman()"
   ]
  },
  {
   "cell_type": "code",
   "execution_count": 46,
   "metadata": {},
   "outputs": [
    {
     "data": {
      "text/plain": [
       "Wu-Hausman test of exogeneity\n",
       "H0: All endogenous variables are exogenous\n",
       "Statistic: 0.2793\n",
       "P-value: 0.5972\n",
       "Distributed: F(1,11962)\n",
       "WaldTestStatistic, id: 0x7f6dd3c61a10"
      ]
     },
     "execution_count": 46,
     "metadata": {},
     "output_type": "execute_result"
    }
   ],
   "source": [
    "weak_iv2.wu_hausman()"
   ]
  },
  {
   "cell_type": "markdown",
   "metadata": {},
   "source": [
    "### Wooldridge regression-based endogeneity test"
   ]
  },
  {
   "cell_type": "code",
   "execution_count": 47,
   "metadata": {},
   "outputs": [
    {
     "data": {
      "text/plain": [
       "Wooldridge's regression test of exogeneity\n",
       "H0: Endogenous variables are exogenous\n",
       "Statistic: 4.5087\n",
       "P-value: 0.0337\n",
       "Distributed: chi2(1)\n",
       "WaldTestStatistic, id: 0x7f6dd0538290"
      ]
     },
     "execution_count": 47,
     "metadata": {},
     "output_type": "execute_result"
    }
   ],
   "source": [
    "iv.wooldridge_regression"
   ]
  },
  {
   "cell_type": "code",
   "execution_count": 48,
   "metadata": {},
   "outputs": [
    {
     "data": {
      "text/plain": [
       "Wooldridge's regression test of exogeneity\n",
       "H0: Endogenous variables are exogenous\n",
       "Statistic: 14.0788\n",
       "P-value: 0.0002\n",
       "Distributed: chi2(1)\n",
       "WaldTestStatistic, id: 0x7f6dd053bb10"
      ]
     },
     "execution_count": 48,
     "metadata": {},
     "output_type": "execute_result"
    }
   ],
   "source": [
    "weak_iv1.wooldridge_regression"
   ]
  },
  {
   "cell_type": "code",
   "execution_count": 49,
   "metadata": {},
   "outputs": [
    {
     "data": {
      "text/plain": [
       "Wooldridge's regression test of exogeneity\n",
       "H0: Endogenous variables are exogenous\n",
       "Statistic: 0.1427\n",
       "P-value: 0.7056\n",
       "Distributed: chi2(1)\n",
       "WaldTestStatistic, id: 0x7f6dd391be90"
      ]
     },
     "execution_count": 49,
     "metadata": {},
     "output_type": "execute_result"
    }
   ],
   "source": [
    "weak_iv2.wooldridge_regression"
   ]
  },
  {
   "cell_type": "markdown",
   "metadata": {},
   "source": [
    "### Wooldridge score endogeneity test"
   ]
  },
  {
   "cell_type": "code",
   "execution_count": 50,
   "metadata": {},
   "outputs": [
    {
     "data": {
      "text/plain": [
       "Wooldridge's score test of exogeneity\n",
       "H0: Endogenous variables are exogenous\n",
       "Statistic: 4.5083\n",
       "P-value: 0.0337\n",
       "Distributed: chi2(1)\n",
       "WaldTestStatistic, id: 0x7f6dd06de450"
      ]
     },
     "execution_count": 50,
     "metadata": {},
     "output_type": "execute_result"
    }
   ],
   "source": [
    "iv.wooldridge_score"
   ]
  },
  {
   "cell_type": "code",
   "execution_count": 51,
   "metadata": {},
   "outputs": [
    {
     "data": {
      "text/plain": [
       "Wooldridge's score test of exogeneity\n",
       "H0: Endogenous variables are exogenous\n",
       "Statistic: 14.8951\n",
       "P-value: 0.0001\n",
       "Distributed: chi2(1)\n",
       "WaldTestStatistic, id: 0x7f6dd39161d0"
      ]
     },
     "execution_count": 51,
     "metadata": {},
     "output_type": "execute_result"
    }
   ],
   "source": [
    "weak_iv1.wooldridge_score"
   ]
  },
  {
   "cell_type": "code",
   "execution_count": 52,
   "metadata": {},
   "outputs": [
    {
     "data": {
      "text/plain": [
       "Wooldridge's score test of exogeneity\n",
       "H0: Endogenous variables are exogenous\n",
       "Statistic: 0.1433\n",
       "P-value: 0.7050\n",
       "Distributed: chi2(1)\n",
       "WaldTestStatistic, id: 0x7f6dd3c9b590"
      ]
     },
     "execution_count": 52,
     "metadata": {},
     "output_type": "execute_result"
    }
   ],
   "source": [
    "weak_iv2.wooldridge_score"
   ]
  },
  {
   "cell_type": "code",
   "execution_count": 36,
   "metadata": {},
   "outputs": [
    {
     "name": "stdout",
     "output_type": "stream",
     "text": [
      "                              Model Comparison                              \n",
      "============================================================================\n",
      "                               OLS   robust 2SLS     weak IV 1     weak IV 2\n",
      "----------------------------------------------------------------------------\n",
      "Dep. Variable                 Rent          Rent          Rent          Rent\n",
      "Estimator                      OLS       IV-2SLS       IV-2SLS       IV-2SLS\n",
      "No. Observations             11974         11974         11974         11974\n",
      "Cov. Est.                   robust        robust        robust        robust\n",
      "R-squared                   0.3462        0.3444        0.3407        0.3461\n",
      "Adj. R-squared              0.3457        0.3439        0.3401        0.3455\n",
      "F-statistic                 5429.1        4918.1        4990.9        4983.9\n",
      "P-value (F-stat)            0.0000        0.0000        0.0000        0.0000\n",
      "==================     ===========   ===========   ===========   ===========\n",
      "const                      -74.336       -50.537       -116.40       -80.687\n",
      "                         (-2.2952)     (-1.4809)     (-3.3948)     (-2.2233)\n",
      "household_size              105.60        102.56        110.95        106.40\n",
      "                          (25.829)      (23.629)      (25.427)      (23.053)\n",
      "Beach                      -841.34       -795.41       -922.53       -853.60\n",
      "                         (-12.933)     (-11.478)     (-13.413)     (-11.477)\n",
      "ChildCare                  -574.23       -549.46       -618.02       -580.84\n",
      "                         (-10.151)     (-9.3269)     (-10.576)     (-9.5272)\n",
      "Gaol                        329.80        315.15        355.71        333.72\n",
      "                          (4.5646)      (4.2765)      (4.8245)      (4.4669)\n",
      "PrimaryHigh                -331.82       -343.79       -310.66       -328.62\n",
      "                         (-4.7021)     (-4.8783)     (-4.3918)     (-4.6602)\n",
      "Mortgage                    0.0154        0.0126        0.0203        0.0161\n",
      "                          (3.4684)      (2.5347)      (4.0522)      (3.0657)\n",
      "ICSEA                       0.0855        0.0678        0.1169        0.0902\n",
      "                          (2.9184)      (2.3028)      (3.9957)      (2.9591)\n",
      "FamInc                     -0.0012       -0.0034        0.0029       -0.0006\n",
      "                         (-0.1717)     (-0.5222)      (0.4400)     (-0.0846)\n",
      "Inc                         0.2250        0.2276        0.2203        0.2243\n",
      "                          (15.635)      (15.970)      (15.410)      (15.688)\n",
      "Price                    1.946e-05     3.036e-05     1.979e-07     1.655e-05\n",
      "                          (3.8921)      (5.3430)      (0.0444)      (2.4782)\n",
      "==================== ============= ============= ============= =============\n",
      "Instruments                                Baths      Bedrooms       Parking\n",
      "----------------------------------------------------------------------------\n",
      "\n",
      "T-stats reported in parentheses\n"
     ]
    }
   ],
   "source": [
    "IV_result = OrderedDict()\n",
    "IV_result['OLS'] = OLS\n",
    "IV_result['robust 2SLS'] = iv\n",
    "IV_result['weak IV 1'] = weak_iv1\n",
    "IV_result['weak IV 2'] = weak_iv2\n",
    "print(compare(IV_result))"
   ]
  },
  {
   "cell_type": "markdown",
   "metadata": {},
   "source": [
    "# Rent variable selection : find the MB of Rent in our dataset"
   ]
  },
  {
   "cell_type": "code",
   "execution_count": 37,
   "metadata": {},
   "outputs": [],
   "source": [
    "Rent = linTB['Rent']\n",
    "X_Rent = linTB.drop(['Rent'], axis = 1)\n",
    "\n",
    "Rent_input  = np.array(X_Rent)\n",
    "Rent_output = np.array(Rent)\n",
    "\n",
    "Rent_output.shape = (obs,1)"
   ]
  },
  {
   "cell_type": "code",
   "execution_count": 38,
   "metadata": {},
   "outputs": [],
   "source": [
    "np.random.seed(0)\n",
    "\n",
    "RegRent4 = solar(Rent_input, Rent_output, 10, -0.02, lasso = False)\n",
    "RentSolar_coef, RentOpt_c, RentTest_error, RentQc_list, _, _, _, _ = RegRent4.fit()\n",
    "\n",
    "RentSolar_ind = np.nonzero(RentSolar_coef)[0]"
   ]
  },
  {
   "cell_type": "code",
   "execution_count": 39,
   "metadata": {},
   "outputs": [
    {
     "name": "stdout",
     "output_type": "stream",
     "text": [
      "10\n",
      "Index(['Mortgage', 'Inc', 'FamInc', 'household_size', 'Beach', 'ChildCare',\n",
      "       'Gaol', 'PrimaryHigh', 'ICSEA', 'Price'],\n",
      "      dtype='object')\n"
     ]
    }
   ],
   "source": [
    "RentSolar_ind = X_Rent.columns[RentSolar_ind]\n",
    "print(np.count_nonzero(RentSolar_ind))\n",
    "print(RentSolar_ind)"
   ]
  },
  {
   "cell_type": "code",
   "execution_count": 40,
   "metadata": {},
   "outputs": [
    {
     "data": {
      "text/plain": [
       "count    11974.000000\n",
       "mean         0.025371\n",
       "std          0.017269\n",
       "min          0.001262\n",
       "25%          0.014519\n",
       "50%          0.021271\n",
       "75%          0.031452\n",
       "max          0.132392\n",
       "Name: GolfCourt, dtype: float64"
      ]
     },
     "execution_count": 40,
     "metadata": {},
     "output_type": "execute_result"
    }
   ],
   "source": [
    "linTB['GolfCourt'].describe()"
   ]
  },
  {
   "cell_type": "markdown",
   "metadata": {},
   "source": [
    "# why we do not apply logarithm to other variables"
   ]
  },
  {
   "cell_type": "code",
   "execution_count": 82,
   "metadata": {},
   "outputs": [
    {
     "data": {
      "image/png": "[encoded data removed]",
      "text/plain": [
       "<Figure size 432x288 with 1 Axes>"
      ]
     },
     "metadata": {
      "needs_background": "light"
     },
     "output_type": "display_data"
    }
   ],
   "source": [
    "font = {'size': 25}\n",
    "\n",
    "fig1, ax1 = plt.subplots()\n",
    "linTB['Gaol'].hist(bins=100)\n",
    "plt.rc('font', **font)\n",
    "fig1.savefig('Hist_example_Gaol.pdf')"
   ]
  },
  {
   "cell_type": "code",
   "execution_count": 77,
   "metadata": {},
   "outputs": [
    {
     "data": {
      "image/png": "[encoded data removed]",
      "text/plain": [
       "<Figure size 432x288 with 1 Axes>"
      ]
     },
     "metadata": {
      "needs_background": "light"
     },
     "output_type": "display_data"
    }
   ],
   "source": [
    "linTB['logGaol'] = np.log(linTB['Gaol'])\n",
    "\n",
    "fig2, ax2 = plt.subplots()\n",
    "linTB['logGaol'].hist(bins=100)\n",
    "plt.rc('font', **font)\n",
    "fig2.savefig('Hist_example_logGaol.pdf')"
   ]
  },
  {
   "cell_type": "code",
   "execution_count": 78,
   "metadata": {},
   "outputs": [
    {
     "data": {
      "image/png": "[encoded data removed]",
      "text/plain": [
       "<Figure size 432x288 with 1 Axes>"
      ]
     },
     "metadata": {
      "needs_background": "light"
     },
     "output_type": "display_data"
    }
   ],
   "source": [
    "linTB['logGaol1000'] = np.log(linTB['Gaol']*1000)\n",
    "\n",
    "fig5, ax5 = plt.subplots()\n",
    "linTB['logGaol1000'].hist(bins=100)\n",
    "plt.rc('font', **font)\n",
    "fig5.savefig('Hist_example_logGaol1000.pdf')"
   ]
  },
  {
   "cell_type": "code",
   "execution_count": 79,
   "metadata": {},
   "outputs": [
    {
     "data": {
      "image/png": "[encoded data removed]",
      "text/plain": [
       "<Figure size 432x288 with 1 Axes>"
      ]
     },
     "metadata": {
      "needs_background": "light"
     },
     "output_type": "display_data"
    }
   ],
   "source": [
    "fig3, ax3 = plt.subplots()\n",
    "linTB['Beach'].hist(bins=100)\n",
    "plt.rc('font', **font)\n",
    "fig3.savefig('Hist_example_Beach.pdf')"
   ]
  },
  {
   "cell_type": "code",
   "execution_count": 80,
   "metadata": {},
   "outputs": [
    {
     "data": {
      "image/png": "[encoded data removed]",
      "text/plain": [
       "<Figure size 432x288 with 1 Axes>"
      ]
     },
     "metadata": {
      "needs_background": "light"
     },
     "output_type": "display_data"
    }
   ],
   "source": [
    "linTB['logBeach'] = np.log(linTB['Beach'])\n",
    "\n",
    "fig4, ax4 = plt.subplots()\n",
    "linTB['logBeach'].hist(bins=100)\n",
    "plt.rc('font', **font)\n",
    "fig4.savefig('Hist_example_logBeach.pdf')"
   ]
  },
  {
   "cell_type": "code",
   "execution_count": 81,
   "metadata": {},
   "outputs": [
    {
     "data": {
      "image/png": "[encoded data removed]",
      "text/plain": [
       "<Figure size 432x288 with 1 Axes>"
      ]
     },
     "metadata": {
      "needs_background": "light"
     },
     "output_type": "display_data"
    }
   ],
   "source": [
    "linTB['logBeach1000'] = np.log(linTB['Beach']*1000)\n",
    "\n",
    "fig5, ax5 = plt.subplots()\n",
    "linTB['logBeach1000'].hist(bins=100)\n",
    "plt.rc('font', **font)\n",
    "fig5.savefig('Hist_example_logBeach1000.pdf')"
   ]
  },
  {
   "cell_type": "code",
   "execution_count": null,
   "metadata": {},
   "outputs": [],
   "source": []
  }
 ],
 "metadata": {
  "kernelspec": {
   "display_name": "Python 3",
   "language": "python",
   "name": "python3"
  },
  "language_info": {
   "codemirror_mode": {
    "name": "ipython",
    "version": 3
   },
   "file_extension": ".py",
   "mimetype": "text/x-python",
   "name": "python",
   "nbconvert_exporter": "python",
   "pygments_lexer": "ipython3",
   "version": "3.7.9"
  }
 },
 "nbformat": 4,
 "nbformat_minor": 4
}
