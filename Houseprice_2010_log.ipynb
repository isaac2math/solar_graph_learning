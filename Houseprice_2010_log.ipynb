{
 "cells": [
  {
   "cell_type": "markdown",
   "metadata": {},
   "source": [
    "<center><h1> Edogeneity detection and instrument selection via solar-based graph learning (log) </h1></center>\n",
    "<center><h2> Author: Ning Xu </h2></center>\n",
    "<center><h3> xuningandy@outlook.com </h3></center>\n",
    "\n",
    "Please note that\n",
    "* this package is a purely CPU-based python package\n",
    "* for the latest version of the package, click [here](https://github.com/isaac2math)"
   ]
  },
  {
   "cell_type": "markdown",
   "metadata": {},
   "source": [
    "# #1. reset python kernel"
   ]
  },
  {
   "cell_type": "code",
   "execution_count": 1,
   "metadata": {},
   "outputs": [],
   "source": [
    "%reset -f"
   ]
  },
  {
   "cell_type": "markdown",
   "metadata": {},
   "source": [
    "---\n",
    "\n",
    "# #2. import packages"
   ]
  },
  {
   "cell_type": "code",
   "execution_count": 2,
   "metadata": {},
   "outputs": [],
   "source": [
    "import numpy             as np\n",
    "import statsmodels.api   as sm\n",
    "import pandas            as pd\n",
    "import matplotlib.pyplot as plt\n",
    "import statsmodels.api   as sm\n",
    "\n",
    "from sklearn.linear_model       import LassoLarsCV, LassoCV, ElasticNetCV\n",
    "from solar                      import solar\n",
    "from statsmodels.iolib.summary2 import summary_col\n",
    "from linearmodels.iv            import IV2SLS, IVGMM, IVGMMCUE  #IV regression and test\n",
    "from collections                import OrderedDict\n",
    "from linearmodels.iv.results    import compare"
   ]
  },
  {
   "cell_type": "markdown",
   "metadata": {},
   "source": [
    "---\n",
    "\n",
    "# #3. load house price data"
   ]
  },
  {
   "cell_type": "code",
   "execution_count": 3,
   "metadata": {},
   "outputs": [],
   "source": [
    "linTB = pd.read_csv(\"Data2010.csv\")"
   ]
  },
  {
   "cell_type": "markdown",
   "metadata": {},
   "source": [
    "## #3(a). rename variables"
   ]
  },
  {
   "cell_type": "code",
   "execution_count": 4,
   "metadata": {},
   "outputs": [
    {
     "data": {
      "text/plain": [
       "Index(['TotPop', 'Eng-speak', 'Aus', 'AgeSA1', 'Mortgage', 'Inc', 'Rent',\n",
       "       'FamInc', 'psn-per-bedroom', 'household_size', 'TVO2010', 'TPO2010',\n",
       "       'TVO2009', 'TPO2009', 'Suburb_Area', 'AreaSize', 'Bedrooms', 'Baths',\n",
       "       'Parking', 'Airport', 'Beach', 'Cemetery', 'ChildCare',\n",
       "       'CommunityFacility', 'Club', 'Gaol', 'GeneralHospital', 'GolfCourt',\n",
       "       'High', 'Lib', 'MedCenter', 'Museum', 'Park', 'PO', 'Police',\n",
       "       'PreSchool', 'PrimaryHigh', 'Primary', 'RailStat', 'Rubbish', 'Sewage',\n",
       "       'SportsCenter', 'SportsCourtField', 'Swimming', 'Tertiary', 'DistBound',\n",
       "       'ICSEA', 'ReadingY3', 'WritingY3', 'SpellingY3', 'GrammarY3',\n",
       "       'NumeracyY3', 'ReadingY5', 'WritingY5', 'SpellingY5', 'GrammarY5',\n",
       "       'NumeracyY5', 'Price', 'const'],\n",
       "      dtype='object')"
      ]
     },
     "execution_count": 4,
     "metadata": {},
     "output_type": "execute_result"
    }
   ],
   "source": [
    "linTB.rename(columns={'Tot_P_P':'TotPop',\n",
    "                      'Mean_age_persons':'AgeSA1',\n",
    "                      'Australian_citizen_P':'Aus',\n",
    "                      'Average_num_psns_per_bedroom':'psn-per-bedroom',\n",
    "                      'Average_household_size':'household_size',\n",
    "                      'FinalResultEventPrice': 'Price',\n",
    "                      'Lang_spoken_home_Eng_only_P':'Eng-speak',\n",
    "                      'Mean_mortgage_repay_monthly':'Mortgage',\n",
    "                      'Mean_Tot_prsnl_inc_weekly':'Inc',\n",
    "                      'Mean_rent_weekly':'Rent',\n",
    "                      'Mean_Tot_fam_inc_weekly':'FamInc'}, \n",
    "                 inplace=True)\n",
    "linTB = linTB.drop(['Unnamed: 0'],axis=1)\n",
    "linTB = linTB.dropna()\n",
    "linTB['const'] = 1\n",
    "linTB.columns\n",
    "\n",
    "#drop larger than 1500\n",
    "#linTB['index'] = linTB['AreaSize'] <=4000\n",
    "#linTB = linTB[linTB['index']==1]"
   ]
  },
  {
   "cell_type": "code",
   "execution_count": 5,
   "metadata": {},
   "outputs": [
    {
     "data": {
      "text/plain": [
       "Index(['TotPop', 'Eng-speak', 'Aus', 'AgeSA1', 'Mortgage', 'Inc', 'Rent',\n",
       "       'FamInc', 'psn-per-bedroom', 'household_size', 'TVO2010', 'TPO2010',\n",
       "       'TVO2009', 'TPO2009', 'Suburb_Area', 'AreaSize', 'Bedrooms', 'Baths',\n",
       "       'Parking', 'Airport', 'Beach', 'Cemetery', 'ChildCare',\n",
       "       'CommunityFacility', 'Club', 'Gaol', 'GeneralHospital', 'GolfCourt',\n",
       "       'High', 'Lib', 'MedCenter', 'Museum', 'Park', 'PO', 'Police',\n",
       "       'PreSchool', 'PrimaryHigh', 'Primary', 'RailStat', 'Rubbish', 'Sewage',\n",
       "       'SportsCenter', 'SportsCourtField', 'Swimming', 'Tertiary', 'DistBound',\n",
       "       'ICSEA', 'ReadingY3', 'WritingY3', 'SpellingY3', 'GrammarY3',\n",
       "       'NumeracyY3', 'ReadingY5', 'WritingY5', 'SpellingY5', 'GrammarY5',\n",
       "       'NumeracyY5', 'const'],\n",
       "      dtype='object')"
      ]
     },
     "execution_count": 5,
     "metadata": {},
     "output_type": "execute_result"
    }
   ],
   "source": [
    "linTB.to_csv('House2010_linear.csv')\n",
    "Y_linear = linTB[['Price']]\n",
    "X_linear = linTB.drop(columns=['Price'])\n",
    "X_linear.columns"
   ]
  },
  {
   "cell_type": "markdown",
   "metadata": {},
   "source": [
    "## #3(c). drop 0\n",
    "\n",
    "### return the observations with zero in those variables"
   ]
  },
  {
   "cell_type": "code",
   "execution_count": 6,
   "metadata": {},
   "outputs": [],
   "source": [
    "logTB = linTB\n",
    "logTB = logTB[(logTB != 0).all(1)]"
   ]
  },
  {
   "cell_type": "markdown",
   "metadata": {},
   "source": [
    "## #3(d). generate log variables"
   ]
  },
  {
   "cell_type": "code",
   "execution_count": 7,
   "metadata": {},
   "outputs": [
    {
     "name": "stderr",
     "output_type": "stream",
     "text": [
      "/home/ning/anaconda3/lib/python3.7/site-packages/pandas/core/frame.py:3509: SettingWithCopyWarning: \n",
      "A value is trying to be set on a copy of a slice from a DataFrame.\n",
      "Try using .loc[row_indexer,col_indexer] = value instead\n",
      "\n",
      "See the caveats in the documentation: http://pandas.pydata.org/pandas-docs/stable/user_guide/indexing.html#returning-a-view-versus-a-copy\n",
      "  self[k1] = value[k2]\n"
     ]
    }
   ],
   "source": [
    "logTB[['logPrice']]     = np.log(logTB[['Price']])\n",
    "logTB[['logMortgage']]  = np.log(logTB[['Mortgage']])\n",
    "logTB[['logRent']]      = np.log(logTB[['Rent']])\n",
    "logTB[['logFamInc']]    = np.log(logTB[['FamInc']])\n",
    "logTB[['logPersonInc']] = np.log(logTB[['Inc']])\n",
    "\n",
    "logTB = logTB.drop(['Price','Mortgage', 'Rent', 'FamInc', 'Inc'], axis=1)"
   ]
  },
  {
   "cell_type": "code",
   "execution_count": 8,
   "metadata": {},
   "outputs": [
    {
     "data": {
      "text/plain": [
       "Index(['TotPop', 'Eng-speak', 'Aus', 'AgeSA1', 'psn-per-bedroom',\n",
       "       'household_size', 'TVO2010', 'TPO2010', 'TVO2009', 'TPO2009',\n",
       "       'Suburb_Area', 'AreaSize', 'Bedrooms', 'Baths', 'Parking', 'Airport',\n",
       "       'Beach', 'Cemetery', 'ChildCare', 'CommunityFacility', 'Club', 'Gaol',\n",
       "       'GeneralHospital', 'GolfCourt', 'High', 'Lib', 'MedCenter', 'Museum',\n",
       "       'Park', 'PO', 'Police', 'PreSchool', 'PrimaryHigh', 'Primary',\n",
       "       'RailStat', 'Rubbish', 'Sewage', 'SportsCenter', 'SportsCourtField',\n",
       "       'Swimming', 'Tertiary', 'DistBound', 'ICSEA', 'ReadingY3', 'WritingY3',\n",
       "       'SpellingY3', 'GrammarY3', 'NumeracyY3', 'ReadingY5', 'WritingY5',\n",
       "       'SpellingY5', 'GrammarY5', 'NumeracyY5', 'const', 'logMortgage',\n",
       "       'logRent', 'logFamInc', 'logPersonInc'],\n",
       "      dtype='object')"
      ]
     },
     "execution_count": 8,
     "metadata": {},
     "output_type": "execute_result"
    }
   ],
   "source": [
    "logTB.to_csv('House2010_log.csv')\n",
    "X_log = logTB.drop(columns=['logPrice'])\n",
    "Y_log = logTB[['logPrice']]\n",
    "X_log.columns"
   ]
  },
  {
   "cell_type": "markdown",
   "metadata": {},
   "source": [
    "---\n",
    "\n",
    "# #4. generate X and Y for variable selection"
   ]
  },
  {
   "cell_type": "code",
   "execution_count": 9,
   "metadata": {},
   "outputs": [],
   "source": [
    "X_linear_input = np.array(X_linear)\n",
    "Y_linear_input = np.array(Y_linear)\n",
    "X_log_input    = np.array(X_log)\n",
    "Y_log_input    = np.array(Y_log)"
   ]
  },
  {
   "cell_type": "code",
   "execution_count": 10,
   "metadata": {},
   "outputs": [],
   "source": [
    "obs     = X_linear_input.shape[0]\n",
    "obs_log = X_log_input.shape[0]\n",
    "\n",
    "Y_linear_input.shape = (obs,)\n",
    "Y_log_input.shape    = (obs_log,)"
   ]
  },
  {
   "cell_type": "markdown",
   "metadata": {},
   "source": [
    "---\n",
    "\n",
    "# #5. compute CV coordinate descend (CV-cd), CV lars for lasso (CV-lars-lasso), CV elastic net (CV-en) and solar regression "
   ]
  },
  {
   "cell_type": "code",
   "execution_count": 11,
   "metadata": {},
   "outputs": [],
   "source": [
    "# CV coordinate descend (CV-cd)\n",
    "\n",
    "RegLog1 = LassoCV(cv=10, normalize = True, random_state=0)\n",
    "RegLog1.fit(X_log_input, Y_log_input)\n",
    "\n",
    "LogLassoCV_ceof = RegLog1.coef_\n",
    "LogLassoCV_ind  = np.nonzero(LogLassoCV_ceof)\n",
    "\n",
    "\n",
    "# CV-lars-lasso\n",
    "\n",
    "np.random.seed(0)\n",
    "\n",
    "RegLog2 = LassoLarsCV(cv=10)\n",
    "RegLog2.fit(X_log_input,Y_log_input)\n",
    "\n",
    "LogLasso_lars_ceof = RegLog2.coef_\n",
    "LogLasso_lars_ind  = np.nonzero(LogLasso_lars_ceof)\n",
    "\n",
    "# CV-en\n",
    "\n",
    "RegLog3 = ElasticNetCV(normalize=True, random_state=0)\n",
    "RegLog3.fit(X_log_input,Y_log_input)\n",
    "\n",
    "# solar\n",
    "\n",
    "Y_log_input.shape = (obs_log,1)\n",
    "\n",
    "np.random.seed(0)\n",
    "\n",
    "RegLog4 = solar( X_log_input,Y_log_input, 10, -0.02, lasso = False)\n",
    "LogSolar_coef, LogOpt_c, LogTest_error, LogQc_list, _, _, _, _ = RegLog4.fit()\n",
    "\n",
    "LogSolar_ind = np.nonzero(LogSolar_coef)[0]"
   ]
  },
  {
   "cell_type": "markdown",
   "metadata": {},
   "source": [
    "---\n",
    "\n",
    "# #8. the results of variable selection"
   ]
  },
  {
   "cell_type": "markdown",
   "metadata": {},
   "source": [
    "## #6(c). variable selection by lasso, solar and elastic net"
   ]
  },
  {
   "cell_type": "markdown",
   "metadata": {},
   "source": [
    "### variables selected by CV-lars-lasso"
   ]
  },
  {
   "cell_type": "code",
   "execution_count": 12,
   "metadata": {},
   "outputs": [
    {
     "name": "stdout",
     "output_type": "stream",
     "text": [
      "35\n",
      "Index(['TotPop', 'AgeSA1', 'psn-per-bedroom', 'household_size', 'TPO2010',\n",
      "       'Suburb_Area', 'AreaSize', 'Bedrooms', 'Baths', 'Parking', 'Airport',\n",
      "       'Beach', 'ChildCare', 'Club', 'GeneralHospital', 'GolfCourt', 'High',\n",
      "       'MedCenter', 'Museum', 'PO', 'Police', 'PreSchool', 'PrimaryHigh',\n",
      "       'Primary', 'SportsCenter', 'SportsCourtField', 'Swimming', 'Tertiary',\n",
      "       'DistBound', 'ICSEA', 'ReadingY3', 'WritingY3', 'NumeracyY3',\n",
      "       'logMortgage', 'logRent', 'logFamInc'],\n",
      "      dtype='object')\n"
     ]
    }
   ],
   "source": [
    "LogLasso_lars_active = X_log.columns[LogLasso_lars_ind]\n",
    "print(np.count_nonzero(LogLasso_lars_ind))\n",
    "print(LogLasso_lars_active)"
   ]
  },
  {
   "cell_type": "markdown",
   "metadata": {},
   "source": [
    "### variables selected by CV-cd"
   ]
  },
  {
   "cell_type": "code",
   "execution_count": 13,
   "metadata": {},
   "outputs": [
    {
     "name": "stdout",
     "output_type": "stream",
     "text": [
      "36\n",
      "Index(['TotPop', 'AgeSA1', 'psn-per-bedroom', 'household_size', 'TPO2010',\n",
      "       'Suburb_Area', 'AreaSize', 'Bedrooms', 'Baths', 'Parking', 'Airport',\n",
      "       'Beach', 'ChildCare', 'Club', 'GeneralHospital', 'GolfCourt', 'High',\n",
      "       'MedCenter', 'Museum', 'PO', 'Police', 'PreSchool', 'PrimaryHigh',\n",
      "       'Primary', 'SportsCenter', 'SportsCourtField', 'Swimming', 'Tertiary',\n",
      "       'DistBound', 'ICSEA', 'ReadingY3', 'WritingY3', 'NumeracyY3',\n",
      "       'logMortgage', 'logRent', 'logFamInc'],\n",
      "      dtype='object')\n"
     ]
    }
   ],
   "source": [
    "LogLassoCV_active = X_log.columns[LogLassoCV_ind]\n",
    "print(np.count_nonzero(LogLassoCV_ceof))\n",
    "print(LogLassoCV_active)"
   ]
  },
  {
   "cell_type": "markdown",
   "metadata": {},
   "source": [
    "### variables selected by solar"
   ]
  },
  {
   "cell_type": "code",
   "execution_count": 14,
   "metadata": {},
   "outputs": [
    {
     "name": "stdout",
     "output_type": "stream",
     "text": [
      "11\n",
      "Index(['AgeSA1', 'Bedrooms', 'Baths', 'Parking', 'Beach', 'ChildCare', 'Gaol',\n",
      "       'ICSEA', 'logMortgage', 'logRent', 'logFamInc'],\n",
      "      dtype='object')\n"
     ]
    }
   ],
   "source": [
    "LogSolar_active = X_log.columns[LogSolar_ind]\n",
    "print(np.count_nonzero(LogSolar_coef))\n",
    "print(LogSolar_active)"
   ]
  },
  {
   "cell_type": "markdown",
   "metadata": {},
   "source": [
    "### variables selected by CV-en"
   ]
  },
  {
   "cell_type": "code",
   "execution_count": 15,
   "metadata": {},
   "outputs": [
    {
     "name": "stdout",
     "output_type": "stream",
     "text": [
      "55\n",
      "Index(['TotPop', 'Eng-speak', 'Aus', 'AgeSA1', 'psn-per-bedroom',\n",
      "       'household_size', 'TVO2010', 'TPO2010', 'TVO2009', 'TPO2009',\n",
      "       'Suburb_Area', 'AreaSize', 'Bedrooms', 'Baths', 'Parking', 'Airport',\n",
      "       'Beach', 'ChildCare', 'CommunityFacility', 'Club', 'Gaol',\n",
      "       'GeneralHospital', 'GolfCourt', 'High', 'MedCenter', 'Museum', 'Park',\n",
      "       'PO', 'Police', 'PreSchool', 'PrimaryHigh', 'Primary', 'RailStat',\n",
      "       'Rubbish', 'Sewage', 'SportsCenter', 'SportsCourtField', 'Swimming',\n",
      "       'Tertiary', 'DistBound', 'ICSEA', 'ReadingY3', 'WritingY3',\n",
      "       'SpellingY3', 'GrammarY3', 'NumeracyY3', 'ReadingY5', 'WritingY5',\n",
      "       'SpellingY5', 'GrammarY5', 'NumeracyY5', 'logMortgage', 'logRent',\n",
      "       'logFamInc', 'logPersonInc'],\n",
      "      dtype='object')\n"
     ]
    }
   ],
   "source": [
    "LogEn_coef   = RegLog3.coef_\n",
    "LogEn_ind    = np.nonzero(LogEn_coef)\n",
    "LogEn_active = X_log.columns[LogEn_ind]\n",
    "print(np.count_nonzero(LogEn_coef))\n",
    "print(LogEn_active)"
   ]
  },
  {
   "cell_type": "markdown",
   "metadata": {},
   "source": [
    "# #9. Post-selection regression"
   ]
  },
  {
   "cell_type": "markdown",
   "metadata": {},
   "source": [
    "## #7(a). post-elastic-net OLS"
   ]
  },
  {
   "cell_type": "code",
   "execution_count": 16,
   "metadata": {},
   "outputs": [
    {
     "name": "stdout",
     "output_type": "stream",
     "text": [
      "                            OLS Regression Results                            \n",
      "==============================================================================\n",
      "Dep. Variable:               logPrice   R-squared:                       0.766\n",
      "Model:                            OLS   Adj. R-squared:                  0.765\n",
      "Method:                 Least Squares   F-statistic:                     699.8\n",
      "Date:                Sat, 21 Dec 2019   Prob (F-statistic):               0.00\n",
      "Time:                        21:09:07   Log-Likelihood:                -661.36\n",
      "No. Observations:               11796   AIC:                             1435.\n",
      "Df Residuals:                   11740   BIC:                             1848.\n",
      "Df Model:                          55                                         \n",
      "Covariance Type:            nonrobust                                         \n",
      "=====================================================================================\n",
      "                        coef    std err          t      P>|t|      [0.025      0.975]\n",
      "-------------------------------------------------------------------------------------\n",
      "const                 8.7757      0.172     51.062      0.000       8.439       9.113\n",
      "TotPop                0.0001   4.57e-05      3.017      0.003    4.83e-05       0.000\n",
      "Eng-speak            -0.0001   5.91e-05     -2.514      0.012      -0.000   -3.27e-05\n",
      "Aus               -2.702e-05   7.92e-05     -0.341      0.733      -0.000       0.000\n",
      "AgeSA1                0.0114      0.001     18.543      0.000       0.010       0.013\n",
      "psn-per-bedroom      -0.2615      0.037     -7.080      0.000      -0.334      -0.189\n",
      "household_size        0.1418      0.010     14.236      0.000       0.122       0.161\n",
      "TVO2010               0.0001      0.000      0.900      0.368      -0.000       0.000\n",
      "TPO2010               0.0002   5.23e-05      3.416      0.001    7.62e-05       0.000\n",
      "TVO2009              -0.0003      0.000     -2.631      0.009      -0.001   -8.47e-05\n",
      "TPO2009              -0.0001   4.86e-05     -2.482      0.013      -0.000   -2.54e-05\n",
      "Suburb_Area          -0.0038      0.001     -3.288      0.001      -0.006      -0.002\n",
      "AreaSize          -6.294e-06   6.01e-07    -10.468      0.000   -7.47e-06   -5.12e-06\n",
      "Bedrooms              0.2065      0.004     58.712      0.000       0.200       0.213\n",
      "Baths                 0.0935      0.004     21.063      0.000       0.085       0.102\n",
      "Parking               0.0766      0.004     20.957      0.000       0.069       0.084\n",
      "Airport               3.7368      0.400      9.352      0.000       2.954       4.520\n",
      "Beach                -2.2189      0.326     -6.809      0.000      -2.858      -1.580\n",
      "ChildCare            -4.2747      0.212    -20.142      0.000      -4.691      -3.859\n",
      "CommunityFacility     0.0115      0.684      0.017      0.987      -1.329       1.352\n",
      "Club                 -2.1511      0.451     -4.766      0.000      -3.036      -1.266\n",
      "Gaol                 -0.7783      0.326     -2.390      0.017      -1.417      -0.140\n",
      "GeneralHospital       0.4233      0.376      1.127      0.260      -0.313       1.160\n",
      "GolfCourt            -1.3356      0.239     -5.596      0.000      -1.803      -0.868\n",
      "High                  4.0322      0.555      7.270      0.000       2.945       5.119\n",
      "MedCenter            -2.0823      0.504     -4.128      0.000      -3.071      -1.093\n",
      "Museum                1.0141      0.228      4.440      0.000       0.566       1.462\n",
      "Park                 -0.3332      1.654     -0.201      0.840      -3.574       2.908\n",
      "PO                    0.9971      0.726      1.373      0.170      -0.427       2.421\n",
      "Police               -3.3315      0.436     -7.641      0.000      -4.186      -2.477\n",
      "PreSchool             1.3035      0.210      6.218      0.000       0.893       1.714\n",
      "PrimaryHigh          -2.7612      0.326     -8.463      0.000      -3.401      -2.122\n",
      "Primary               0.6647      1.073      0.620      0.535      -1.438       2.767\n",
      "RailStat             -1.2288      0.407     -3.021      0.003      -2.026      -0.431\n",
      "Rubbish              -0.7589      0.325     -2.339      0.019      -1.395      -0.123\n",
      "Sewage                0.3060      0.204      1.497      0.135      -0.095       0.707\n",
      "SportsCenter          3.4364      0.366      9.400      0.000       2.720       4.153\n",
      "SportsCourtField      1.0944      0.799      1.370      0.171      -0.471       2.660\n",
      "Swimming             -1.2479      0.357     -3.497      0.000      -1.947      -0.548\n",
      "Tertiary              1.7352      0.296      5.856      0.000       1.154       2.316\n",
      "DistBound             1.4660      1.160      1.263      0.206      -0.808       3.740\n",
      "ICSEA                 0.0008   9.27e-05      8.274      0.000       0.001       0.001\n",
      "ReadingY3            -0.0017      0.000     -6.676      0.000      -0.002      -0.001\n",
      "WritingY3            -0.0003      0.000     -1.330      0.183      -0.001       0.000\n",
      "SpellingY3           -0.0004      0.000     -2.096      0.036      -0.001    -2.9e-05\n",
      "GrammarY3             0.0008      0.000      3.264      0.001       0.000       0.001\n",
      "NumeracyY3            0.0013      0.000      5.699      0.000       0.001       0.002\n",
      "ReadingY5             0.0003      0.000      1.204      0.229      -0.000       0.001\n",
      "WritingY5            -0.0003      0.000     -1.291      0.197      -0.001       0.000\n",
      "SpellingY5           -0.0003      0.000     -1.303      0.193      -0.001       0.000\n",
      "GrammarY5             0.0002      0.000      0.548      0.583      -0.000       0.001\n",
      "NumeracyY5         3.391e-05      0.000      0.182      0.855      -0.000       0.000\n",
      "logMortgage           0.1577      0.012     13.279      0.000       0.134       0.181\n",
      "logRent               0.0357      0.009      3.930      0.000       0.018       0.054\n",
      "logFamInc             0.1870      0.020      9.450      0.000       0.148       0.226\n",
      "logPersonInc          0.0332      0.018      1.830      0.067      -0.002       0.069\n",
      "==============================================================================\n",
      "Omnibus:                     1524.285   Durbin-Watson:                   1.807\n",
      "Prob(Omnibus):                  0.000   Jarque-Bera (JB):            12781.377\n",
      "Skew:                           0.339   Prob(JB):                         0.00\n",
      "Kurtosis:                       8.054   Cond. No.                     3.62e+06\n",
      "==============================================================================\n",
      "\n",
      "Warnings:\n",
      "[1] Standard Errors assume that the covariance matrix of the errors is correctly specified.\n",
      "[2] The condition number is large, 3.62e+06. This might indicate that there are\n",
      "strong multicollinearity or other numerical problems.\n"
     ]
    },
    {
     "name": "stderr",
     "output_type": "stream",
     "text": [
      "/home/ning/anaconda3/lib/python3.7/site-packages/numpy/core/fromnumeric.py:2495: FutureWarning: Method .ptp is deprecated and will be removed in a future version. Use numpy.ptp instead.\n",
      "  return ptp(axis=axis, out=out, **kwargs)\n"
     ]
    }
   ],
   "source": [
    "X_LogEn   = X_log[LogEn_active]\n",
    "X_LogEn   = sm.add_constant(X_LogEn)\n",
    "OLS_LogEn = sm.OLS(Y_log, X_LogEn)\n",
    "\n",
    "OLS_LogEn_result = OLS_LogEn.fit()\n",
    "print(OLS_LogEn_result.summary())"
   ]
  },
  {
   "cell_type": "markdown",
   "metadata": {},
   "source": [
    "## #7(b). post-lasso (CV-cd) OLS"
   ]
  },
  {
   "cell_type": "code",
   "execution_count": 17,
   "metadata": {},
   "outputs": [
    {
     "name": "stdout",
     "output_type": "stream",
     "text": [
      "                            OLS Regression Results                            \n",
      "==============================================================================\n",
      "Dep. Variable:               logPrice   R-squared:                       0.765\n",
      "Model:                            OLS   Adj. R-squared:                  0.764\n",
      "Method:                 Least Squares   F-statistic:                     1062.\n",
      "Date:                Sat, 21 Dec 2019   Prob (F-statistic):               0.00\n",
      "Time:                        21:09:07   Log-Likelihood:                -700.48\n",
      "No. Observations:               11796   AIC:                             1475.\n",
      "Df Residuals:                   11759   BIC:                             1748.\n",
      "Df Model:                          36                                         \n",
      "Covariance Type:            nonrobust                                         \n",
      "====================================================================================\n",
      "                       coef    std err          t      P>|t|      [0.025      0.975]\n",
      "------------------------------------------------------------------------------------\n",
      "const                8.7614      0.151     57.851      0.000       8.465       9.058\n",
      "TotPop            5.579e-05   1.72e-05      3.253      0.001    2.22e-05    8.94e-05\n",
      "AgeSA1               0.0113      0.001     19.925      0.000       0.010       0.012\n",
      "psn-per-bedroom     -0.2323      0.033     -7.120      0.000      -0.296      -0.168\n",
      "household_size       0.1361      0.008     17.641      0.000       0.121       0.151\n",
      "TPO2010           5.014e-06   6.79e-06      0.739      0.460   -8.29e-06    1.83e-05\n",
      "Suburb_Area         -0.0038      0.001     -3.528      0.000      -0.006      -0.002\n",
      "AreaSize         -5.631e-06   5.73e-07     -9.827      0.000   -6.75e-06   -4.51e-06\n",
      "Bedrooms             0.2057      0.004     58.634      0.000       0.199       0.213\n",
      "Baths                0.0952      0.004     21.590      0.000       0.087       0.104\n",
      "Parking              0.0764      0.004     20.874      0.000       0.069       0.084\n",
      "Airport              2.5307      0.201     12.596      0.000       2.137       2.925\n",
      "Beach               -2.2076      0.107    -20.562      0.000      -2.418      -1.997\n",
      "ChildCare           -4.4886      0.158    -28.442      0.000      -4.798      -4.179\n",
      "Club                -2.5698      0.391     -6.572      0.000      -3.336      -1.803\n",
      "GeneralHospital      0.8586      0.334      2.569      0.010       0.204       1.514\n",
      "GolfCourt           -1.2733      0.222     -5.735      0.000      -1.709      -0.838\n",
      "High                 3.8278      0.522      7.330      0.000       2.804       4.851\n",
      "MedCenter           -2.2292      0.462     -4.828      0.000      -3.134      -1.324\n",
      "Museum               0.9230      0.177      5.210      0.000       0.576       1.270\n",
      "PO                   0.6181      0.688      0.898      0.369      -0.731       1.967\n",
      "Police              -2.9658      0.409     -7.253      0.000      -3.767      -2.164\n",
      "PreSchool            1.3972      0.169      8.276      0.000       1.066       1.728\n",
      "PrimaryHigh         -2.7420      0.267    -10.266      0.000      -3.265      -2.218\n",
      "Primary              1.0439      1.025      1.019      0.308      -0.964       3.052\n",
      "SportsCenter         3.2851      0.333      9.858      0.000       2.632       3.938\n",
      "SportsCourtField     0.7678      0.784      0.980      0.327      -0.768       2.304\n",
      "Swimming            -1.9320      0.302     -6.397      0.000      -2.524      -1.340\n",
      "Tertiary             1.2305      0.210      5.872      0.000       0.820       1.641\n",
      "DistBound            1.3361      0.968      1.381      0.167      -0.560       3.233\n",
      "ICSEA                0.0008   8.04e-05      9.767      0.000       0.001       0.001\n",
      "ReadingY3           -0.0011      0.000     -5.822      0.000      -0.001      -0.001\n",
      "WritingY3           -0.0004      0.000     -2.305      0.021      -0.001   -5.48e-05\n",
      "NumeracyY3           0.0012      0.000      6.413      0.000       0.001       0.002\n",
      "logMortgage          0.1633      0.012     13.851      0.000       0.140       0.186\n",
      "logRent              0.0442      0.009      5.183      0.000       0.027       0.061\n",
      "logFamInc            0.1923      0.014     13.659      0.000       0.165       0.220\n",
      "==============================================================================\n",
      "Omnibus:                     1519.527   Durbin-Watson:                   1.804\n",
      "Prob(Omnibus):                  0.000   Jarque-Bera (JB):            12211.173\n",
      "Skew:                           0.355   Prob(JB):                         0.00\n",
      "Kurtosis:                       7.934   Cond. No.                     2.36e+06\n",
      "==============================================================================\n",
      "\n",
      "Warnings:\n",
      "[1] Standard Errors assume that the covariance matrix of the errors is correctly specified.\n",
      "[2] The condition number is large, 2.36e+06. This might indicate that there are\n",
      "strong multicollinearity or other numerical problems.\n"
     ]
    }
   ],
   "source": [
    "X_LogLassoCV   = X_log[LogLassoCV_active]\n",
    "Y_LogLassoCV   = Y_log\n",
    "X_LogLassoCV   = sm.add_constant(X_LogLassoCV)\n",
    "OLS_LogLassoCV = sm.OLS(Y_LogLassoCV, X_LogLassoCV)\n",
    "\n",
    "OLS_LogLassoCV_result = OLS_LogLassoCV.fit()\n",
    "print(OLS_LogLassoCV_result.summary())"
   ]
  },
  {
   "cell_type": "markdown",
   "metadata": {},
   "source": [
    "## #7(c). post-lasso (lars-lasso) OLS"
   ]
  },
  {
   "cell_type": "code",
   "execution_count": 18,
   "metadata": {},
   "outputs": [
    {
     "name": "stdout",
     "output_type": "stream",
     "text": [
      "                            OLS Regression Results                            \n",
      "==============================================================================\n",
      "Dep. Variable:               logPrice   R-squared:                       0.765\n",
      "Model:                            OLS   Adj. R-squared:                  0.764\n",
      "Method:                 Least Squares   F-statistic:                     1062.\n",
      "Date:                Sat, 21 Dec 2019   Prob (F-statistic):               0.00\n",
      "Time:                        21:09:07   Log-Likelihood:                -700.48\n",
      "No. Observations:               11796   AIC:                             1475.\n",
      "Df Residuals:                   11759   BIC:                             1748.\n",
      "Df Model:                          36                                         \n",
      "Covariance Type:            nonrobust                                         \n",
      "====================================================================================\n",
      "                       coef    std err          t      P>|t|      [0.025      0.975]\n",
      "------------------------------------------------------------------------------------\n",
      "const                8.7614      0.151     57.851      0.000       8.465       9.058\n",
      "TotPop            5.579e-05   1.72e-05      3.253      0.001    2.22e-05    8.94e-05\n",
      "AgeSA1               0.0113      0.001     19.925      0.000       0.010       0.012\n",
      "psn-per-bedroom     -0.2323      0.033     -7.120      0.000      -0.296      -0.168\n",
      "household_size       0.1361      0.008     17.641      0.000       0.121       0.151\n",
      "TPO2010           5.014e-06   6.79e-06      0.739      0.460   -8.29e-06    1.83e-05\n",
      "Suburb_Area         -0.0038      0.001     -3.528      0.000      -0.006      -0.002\n",
      "AreaSize         -5.631e-06   5.73e-07     -9.827      0.000   -6.75e-06   -4.51e-06\n",
      "Bedrooms             0.2057      0.004     58.634      0.000       0.199       0.213\n",
      "Baths                0.0952      0.004     21.590      0.000       0.087       0.104\n",
      "Parking              0.0764      0.004     20.874      0.000       0.069       0.084\n",
      "Airport              2.5307      0.201     12.596      0.000       2.137       2.925\n",
      "Beach               -2.2076      0.107    -20.562      0.000      -2.418      -1.997\n",
      "ChildCare           -4.4886      0.158    -28.442      0.000      -4.798      -4.179\n",
      "Club                -2.5698      0.391     -6.572      0.000      -3.336      -1.803\n",
      "GeneralHospital      0.8586      0.334      2.569      0.010       0.204       1.514\n",
      "GolfCourt           -1.2733      0.222     -5.735      0.000      -1.709      -0.838\n",
      "High                 3.8278      0.522      7.330      0.000       2.804       4.851\n",
      "MedCenter           -2.2292      0.462     -4.828      0.000      -3.134      -1.324\n",
      "Museum               0.9230      0.177      5.210      0.000       0.576       1.270\n",
      "PO                   0.6181      0.688      0.898      0.369      -0.731       1.967\n",
      "Police              -2.9658      0.409     -7.253      0.000      -3.767      -2.164\n",
      "PreSchool            1.3972      0.169      8.276      0.000       1.066       1.728\n",
      "PrimaryHigh         -2.7420      0.267    -10.266      0.000      -3.265      -2.218\n",
      "Primary              1.0439      1.025      1.019      0.308      -0.964       3.052\n",
      "SportsCenter         3.2851      0.333      9.858      0.000       2.632       3.938\n",
      "SportsCourtField     0.7678      0.784      0.980      0.327      -0.768       2.304\n",
      "Swimming            -1.9320      0.302     -6.397      0.000      -2.524      -1.340\n",
      "Tertiary             1.2305      0.210      5.872      0.000       0.820       1.641\n",
      "DistBound            1.3361      0.968      1.381      0.167      -0.560       3.233\n",
      "ICSEA                0.0008   8.04e-05      9.767      0.000       0.001       0.001\n",
      "ReadingY3           -0.0011      0.000     -5.822      0.000      -0.001      -0.001\n",
      "WritingY3           -0.0004      0.000     -2.305      0.021      -0.001   -5.48e-05\n",
      "NumeracyY3           0.0012      0.000      6.413      0.000       0.001       0.002\n",
      "logMortgage          0.1633      0.012     13.851      0.000       0.140       0.186\n",
      "logRent              0.0442      0.009      5.183      0.000       0.027       0.061\n",
      "logFamInc            0.1923      0.014     13.659      0.000       0.165       0.220\n",
      "==============================================================================\n",
      "Omnibus:                     1519.527   Durbin-Watson:                   1.804\n",
      "Prob(Omnibus):                  0.000   Jarque-Bera (JB):            12211.173\n",
      "Skew:                           0.355   Prob(JB):                         0.00\n",
      "Kurtosis:                       7.934   Cond. No.                     2.36e+06\n",
      "==============================================================================\n",
      "\n",
      "Warnings:\n",
      "[1] Standard Errors assume that the covariance matrix of the errors is correctly specified.\n",
      "[2] The condition number is large, 2.36e+06. This might indicate that there are\n",
      "strong multicollinearity or other numerical problems.\n"
     ]
    }
   ],
   "source": [
    "X_LogLars   = X_log[LogLasso_lars_active]\n",
    "Y_LogLars   = Y_log\n",
    "X_LogLars   = sm.add_constant(X_LogLars)\n",
    "OLS_LogLars = sm.OLS(Y_LogLars, X_LogLars)\n",
    "\n",
    "OLS_LogLars_result = OLS_LogLars.fit()\n",
    "print(OLS_LogLars_result.summary())"
   ]
  },
  {
   "cell_type": "markdown",
   "metadata": {},
   "source": [
    "## #7(d). post-solar OLS"
   ]
  },
  {
   "cell_type": "code",
   "execution_count": 19,
   "metadata": {},
   "outputs": [
    {
     "name": "stdout",
     "output_type": "stream",
     "text": [
      "                            OLS Regression Results                            \n",
      "==============================================================================\n",
      "Dep. Variable:               logPrice   R-squared:                       0.730\n",
      "Model:                            OLS   Adj. R-squared:                  0.730\n",
      "Method:                 Least Squares   F-statistic:                     2900.\n",
      "Date:                Sat, 21 Dec 2019   Prob (F-statistic):               0.00\n",
      "Time:                        21:09:07   Log-Likelihood:                -1507.3\n",
      "No. Observations:               11796   AIC:                             3039.\n",
      "Df Residuals:                   11784   BIC:                             3127.\n",
      "Df Model:                          11                                         \n",
      "Covariance Type:            nonrobust                                         \n",
      "===============================================================================\n",
      "                  coef    std err          t      P>|t|      [0.025      0.975]\n",
      "-------------------------------------------------------------------------------\n",
      "const           7.2109      0.105     68.413      0.000       7.004       7.417\n",
      "AgeSA1          0.0132      0.001     25.575      0.000       0.012       0.014\n",
      "Bedrooms        0.2300      0.003     66.477      0.000       0.223       0.237\n",
      "Baths           0.0879      0.005     18.988      0.000       0.079       0.097\n",
      "Parking         0.0839      0.004     21.539      0.000       0.076       0.092\n",
      "Beach          -2.4548      0.137    -17.865      0.000      -2.724      -2.185\n",
      "ChildCare      -2.4544      0.108    -22.675      0.000      -2.667      -2.242\n",
      "Gaol            0.3577      0.137      2.616      0.009       0.090       0.626\n",
      "ICSEA           0.0009   5.82e-05     15.749      0.000       0.001       0.001\n",
      "logMortgage     0.2587      0.012     21.432      0.000       0.235       0.282\n",
      "logRent         0.0712      0.009      8.171      0.000       0.054       0.088\n",
      "logFamInc       0.2369      0.012     19.350      0.000       0.213       0.261\n",
      "==============================================================================\n",
      "Omnibus:                     1672.409   Durbin-Watson:                   1.794\n",
      "Prob(Omnibus):                  0.000   Jarque-Bera (JB):            11588.447\n",
      "Skew:                           0.489   Prob(JB):                         0.00\n",
      "Kurtosis:                       7.756   Cond. No.                     9.34e+04\n",
      "==============================================================================\n",
      "\n",
      "Warnings:\n",
      "[1] Standard Errors assume that the covariance matrix of the errors is correctly specified.\n",
      "[2] The condition number is large, 9.34e+04. This might indicate that there are\n",
      "strong multicollinearity or other numerical problems.\n"
     ]
    }
   ],
   "source": [
    "X_Gaol     = X_log[LogSolar_active]\n",
    "X_Gaol     = sm.add_constant(X_Gaol)\n",
    "OLS_LogSolar  = sm.OLS(Y_log, X_Gaol)\n",
    "OLS_LogSolar_result = OLS_LogSolar.fit()\n",
    "print(OLS_LogSolar_result.summary())"
   ]
  },
  {
   "cell_type": "markdown",
   "metadata": {},
   "source": [
    "## #7(e). generate a comparison table for post-selection OLS result (slope, significance, $R^2$)"
   ]
  },
  {
   "cell_type": "code",
   "execution_count": 20,
   "metadata": {},
   "outputs": [
    {
     "name": "stdout",
     "output_type": "stream",
     "text": [
      "               Table 1 - Post-selection OLS comparison\n",
      "======================================================================\n",
      "                  post-en  post-lasso(lars) post-larsso(cd) post-solar\n",
      "----------------------------------------------------------------------\n",
      "const             8.78***  8.76***          8.76***         7.21***   \n",
      "                  (0.17)   (0.15)           (0.15)          (0.11)    \n",
      "Bedrooms          0.21***  0.21***          0.21***         0.23***   \n",
      "                  (0.00)   (0.00)           (0.00)          (0.00)    \n",
      "Baths             0.09***  0.10***          0.10***         0.09***   \n",
      "                  (0.00)   (0.00)           (0.00)          (0.00)    \n",
      "Parking           0.08***  0.08***          0.08***         0.08***   \n",
      "                  (0.00)   (0.00)           (0.00)          (0.00)    \n",
      "Beach             -2.22*** -2.21***         -2.21***        -2.45***  \n",
      "                  (0.33)   (0.11)           (0.11)          (0.14)    \n",
      "ChildCare         -4.27*** -4.49***         -4.49***        -2.45***  \n",
      "                  (0.21)   (0.16)           (0.16)          (0.11)    \n",
      "Gaol              -0.78**                                   0.36***   \n",
      "                  (0.33)                                    (0.14)    \n",
      "ICSEA             0.00***  0.00***          0.00***         0.00***   \n",
      "                  (0.00)   (0.00)           (0.00)          (0.00)    \n",
      "logRent           0.04***  0.04***          0.04***         0.07***   \n",
      "                  (0.01)   (0.01)           (0.01)          (0.01)    \n",
      "logFamInc         0.19***  0.19***          0.19***         0.24***   \n",
      "                  (0.02)   (0.01)           (0.01)          (0.01)    \n",
      "AgeSA1            0.01***  0.01***          0.01***         0.01***   \n",
      "                  (0.00)   (0.00)           (0.00)          (0.00)    \n",
      "Airport           3.74***  2.53***          2.53***                   \n",
      "                  (0.40)   (0.20)           (0.20)                    \n",
      "AreaSize          -0.00*** -0.00***         -0.00***                  \n",
      "                  (0.00)   (0.00)           (0.00)                    \n",
      "Aus               -0.00                                               \n",
      "                  (0.00)                                              \n",
      "Club              -2.15*** -2.57***         -2.57***                  \n",
      "                  (0.45)   (0.39)           (0.39)                    \n",
      "CommunityFacility 0.01                                                \n",
      "                  (0.68)                                              \n",
      "DistBound         1.47     1.34             1.34                      \n",
      "                  (1.16)   (0.97)           (0.97)                    \n",
      "Eng-speak         -0.00**                                             \n",
      "                  (0.00)                                              \n",
      "GeneralHospital   0.42     0.86**           0.86**                    \n",
      "                  (0.38)   (0.33)           (0.33)                    \n",
      "GolfCourt         -1.34*** -1.27***         -1.27***                  \n",
      "                  (0.24)   (0.22)           (0.22)                    \n",
      "GrammarY3         0.00***                                             \n",
      "                  (0.00)                                              \n",
      "GrammarY5         0.00                                                \n",
      "                  (0.00)                                              \n",
      "High              4.03***  3.83***          3.83***                   \n",
      "                  (0.55)   (0.52)           (0.52)                    \n",
      "MedCenter         -2.08*** -2.23***         -2.23***                  \n",
      "                  (0.50)   (0.46)           (0.46)                    \n",
      "Museum            1.01***  0.92***          0.92***                   \n",
      "                  (0.23)   (0.18)           (0.18)                    \n",
      "NumeracyY3        0.00***  0.00***          0.00***                   \n",
      "                  (0.00)   (0.00)           (0.00)                    \n",
      "NumeracyY5        0.00                                                \n",
      "                  (0.00)                                              \n",
      "PO                1.00     0.62             0.62                      \n",
      "                  (0.73)   (0.69)           (0.69)                    \n",
      "Park              -0.33                                               \n",
      "                  (1.65)                                              \n",
      "Police            -3.33*** -2.97***         -2.97***                  \n",
      "                  (0.44)   (0.41)           (0.41)                    \n",
      "PreSchool         1.30***  1.40***          1.40***                   \n",
      "                  (0.21)   (0.17)           (0.17)                    \n",
      "Primary           0.66     1.04             1.04                      \n",
      "                  (1.07)   (1.02)           (1.02)                    \n",
      "PrimaryHigh       -2.76*** -2.74***         -2.74***                  \n",
      "                  (0.33)   (0.27)           (0.27)                    \n",
      "RailStat          -1.23***                                            \n",
      "                  (0.41)                                              \n",
      "ReadingY3         -0.00*** -0.00***         -0.00***                  \n",
      "                  (0.00)   (0.00)           (0.00)                    \n",
      "ReadingY5         0.00                                                \n",
      "                  (0.00)                                              \n",
      "Rubbish           -0.76**                                             \n",
      "                  (0.32)                                              \n",
      "Sewage            0.31                                                \n",
      "                  (0.20)                                              \n",
      "SpellingY3        -0.00**                                             \n",
      "                  (0.00)                                              \n",
      "SpellingY5        -0.00                                               \n",
      "                  (0.00)                                              \n",
      "SportsCenter      3.44***  3.29***          3.29***                   \n",
      "                  (0.37)   (0.33)           (0.33)                    \n",
      "SportsCourtField  1.09     0.77             0.77                      \n",
      "                  (0.80)   (0.78)           (0.78)                    \n",
      "Suburb_Area       -0.00*** -0.00***         -0.00***                  \n",
      "                  (0.00)   (0.00)           (0.00)                    \n",
      "Swimming          -1.25*** -1.93***         -1.93***                  \n",
      "                  (0.36)   (0.30)           (0.30)                    \n",
      "TPO2009           -0.00**                                             \n",
      "                  (0.00)                                              \n",
      "TPO2010           0.00***  0.00             0.00                      \n",
      "                  (0.00)   (0.00)           (0.00)                    \n",
      "TVO2009           -0.00***                                            \n",
      "                  (0.00)                                              \n",
      "TVO2010           0.00                                                \n",
      "                  (0.00)                                              \n",
      "Tertiary          1.74***  1.23***          1.23***                   \n",
      "                  (0.30)   (0.21)           (0.21)                    \n",
      "TotPop            0.00***  0.00***          0.00***                   \n",
      "                  (0.00)   (0.00)           (0.00)                    \n",
      "WritingY3         -0.00    -0.00**          -0.00**                   \n",
      "                  (0.00)   (0.00)           (0.00)                    \n",
      "WritingY5         -0.00                                               \n",
      "                  (0.00)                                              \n",
      "household_size    0.14***  0.14***          0.14***                   \n",
      "                  (0.01)   (0.01)           (0.01)                    \n",
      "logMortgage       0.16***  0.16***          0.16***         0.26***   \n",
      "                  (0.01)   (0.01)           (0.01)          (0.01)    \n",
      "logPersonInc      0.03*                                               \n",
      "                  (0.02)                                              \n",
      "psn-per-bedroom   -0.26*** -0.23***         -0.23***                  \n",
      "                  (0.04)   (0.03)           (0.03)                    \n",
      "R-squared         0.77     0.76             0.76            0.73      \n",
      "No. observations  11796    11796            11796           11796     \n",
      "======================================================================\n",
      "Standard errors in parentheses.\n",
      "* p<.1, ** p<.05, ***p<.01\n"
     ]
    }
   ],
   "source": [
    "info_dict={'R-squared' : lambda x: f\"{x.rsquared:.2f}\",\n",
    "           'No. observations' : lambda x: f\"{int(x.nobs):d}\"}\n",
    "\n",
    "results_table = summary_col(results=[OLS_LogEn_result, OLS_LogLassoCV_result, \n",
    "                                     OLS_LogLars_result, OLS_LogSolar_result],\n",
    "                            float_format='%0.2f',\n",
    "                            stars = True,\n",
    "                            model_names=['post-en',\n",
    "                                         'post-lasso(lars)',\n",
    "                                         'post-larsso(cd)',\n",
    "                                         'post-solar'],\n",
    "                            info_dict=info_dict,\n",
    "                            regressor_order=['const',\n",
    "                                             'age',\n",
    "                                             'Bedrooms',\n",
    "                                             'Baths',\n",
    "                                             'Parking',\n",
    "                                             'Beach',\n",
    "                                             'ChildCare',\n",
    "                                             'Gaol',\n",
    "                                             'ICSEA',\n",
    "                                             'logMortage',\n",
    "                                             'logRent',\n",
    "                                             'logFamInc'])\n",
    "\n",
    "results_table.add_title('Table 1 - Post-selection OLS comparison')\n",
    "\n",
    "print(results_table)"
   ]
  },
  {
   "cell_type": "markdown",
   "metadata": {},
   "source": [
    "# #8. rectified solar selection\n",
    "\n",
    "## #8(a). generate correlation table of all variables selected by solar"
   ]
  },
  {
   "cell_type": "code",
   "execution_count": 21,
   "metadata": {},
   "outputs": [
    {
     "data": {
      "text/html": [
       "<div>\n",
       "<style scoped>\n",
       "    .dataframe tbody tr th:only-of-type {\n",
       "        vertical-align: middle;\n",
       "    }\n",
       "\n",
       "    .dataframe tbody tr th {\n",
       "        vertical-align: top;\n",
       "    }\n",
       "\n",
       "    .dataframe thead th {\n",
       "        text-align: right;\n",
       "    }\n",
       "</style>\n",
       "<table border=\"1\" class=\"dataframe\">\n",
       "  <thead>\n",
       "    <tr style=\"text-align: right;\">\n",
       "      <th></th>\n",
       "      <th>AgeSA1</th>\n",
       "      <th>Bedrooms</th>\n",
       "      <th>Baths</th>\n",
       "      <th>Parking</th>\n",
       "      <th>Beach</th>\n",
       "      <th>ChildCare</th>\n",
       "      <th>Gaol</th>\n",
       "      <th>ICSEA</th>\n",
       "      <th>logMortgage</th>\n",
       "      <th>logRent</th>\n",
       "      <th>logFamInc</th>\n",
       "    </tr>\n",
       "  </thead>\n",
       "  <tbody>\n",
       "    <tr>\n",
       "      <th>AgeSA1</th>\n",
       "      <td>1.000000</td>\n",
       "      <td>0.310088</td>\n",
       "      <td>0.166457</td>\n",
       "      <td>0.217984</td>\n",
       "      <td>0.012365</td>\n",
       "      <td>0.180460</td>\n",
       "      <td>0.124008</td>\n",
       "      <td>0.017711</td>\n",
       "      <td>0.172088</td>\n",
       "      <td>-0.057359</td>\n",
       "      <td>0.120974</td>\n",
       "    </tr>\n",
       "    <tr>\n",
       "      <th>Bedrooms</th>\n",
       "      <td>0.310088</td>\n",
       "      <td>1.000000</td>\n",
       "      <td>0.639381</td>\n",
       "      <td>0.477543</td>\n",
       "      <td>0.032923</td>\n",
       "      <td>0.243481</td>\n",
       "      <td>0.180793</td>\n",
       "      <td>-0.043061</td>\n",
       "      <td>0.173557</td>\n",
       "      <td>0.023377</td>\n",
       "      <td>0.094320</td>\n",
       "    </tr>\n",
       "    <tr>\n",
       "      <th>Baths</th>\n",
       "      <td>0.166457</td>\n",
       "      <td>0.639381</td>\n",
       "      <td>1.000000</td>\n",
       "      <td>0.427226</td>\n",
       "      <td>-0.075538</td>\n",
       "      <td>0.051809</td>\n",
       "      <td>0.026854</td>\n",
       "      <td>0.098237</td>\n",
       "      <td>0.215537</td>\n",
       "      <td>0.156228</td>\n",
       "      <td>0.199941</td>\n",
       "    </tr>\n",
       "    <tr>\n",
       "      <th>Parking</th>\n",
       "      <td>0.217984</td>\n",
       "      <td>0.477543</td>\n",
       "      <td>0.427226</td>\n",
       "      <td>1.000000</td>\n",
       "      <td>-0.008247</td>\n",
       "      <td>0.149590</td>\n",
       "      <td>0.091177</td>\n",
       "      <td>-0.022136</td>\n",
       "      <td>0.128067</td>\n",
       "      <td>0.043028</td>\n",
       "      <td>0.091189</td>\n",
       "    </tr>\n",
       "    <tr>\n",
       "      <th>Beach</th>\n",
       "      <td>0.012365</td>\n",
       "      <td>0.032923</td>\n",
       "      <td>-0.075538</td>\n",
       "      <td>-0.008247</td>\n",
       "      <td>1.000000</td>\n",
       "      <td>0.041460</td>\n",
       "      <td>0.532753</td>\n",
       "      <td>-0.259973</td>\n",
       "      <td>-0.231921</td>\n",
       "      <td>-0.251981</td>\n",
       "      <td>-0.340208</td>\n",
       "    </tr>\n",
       "    <tr>\n",
       "      <th>ChildCare</th>\n",
       "      <td>0.180460</td>\n",
       "      <td>0.243481</td>\n",
       "      <td>0.051809</td>\n",
       "      <td>0.149590</td>\n",
       "      <td>0.041460</td>\n",
       "      <td>1.000000</td>\n",
       "      <td>0.750484</td>\n",
       "      <td>-0.396499</td>\n",
       "      <td>-0.210664</td>\n",
       "      <td>-0.227383</td>\n",
       "      <td>-0.236176</td>\n",
       "    </tr>\n",
       "    <tr>\n",
       "      <th>Gaol</th>\n",
       "      <td>0.124008</td>\n",
       "      <td>0.180793</td>\n",
       "      <td>0.026854</td>\n",
       "      <td>0.091177</td>\n",
       "      <td>0.532753</td>\n",
       "      <td>0.750484</td>\n",
       "      <td>1.000000</td>\n",
       "      <td>-0.234434</td>\n",
       "      <td>-0.187952</td>\n",
       "      <td>-0.196900</td>\n",
       "      <td>-0.173732</td>\n",
       "    </tr>\n",
       "    <tr>\n",
       "      <th>ICSEA</th>\n",
       "      <td>0.017711</td>\n",
       "      <td>-0.043061</td>\n",
       "      <td>0.098237</td>\n",
       "      <td>-0.022136</td>\n",
       "      <td>-0.259973</td>\n",
       "      <td>-0.396499</td>\n",
       "      <td>-0.234434</td>\n",
       "      <td>1.000000</td>\n",
       "      <td>0.346822</td>\n",
       "      <td>0.364504</td>\n",
       "      <td>0.568851</td>\n",
       "    </tr>\n",
       "    <tr>\n",
       "      <th>logMortgage</th>\n",
       "      <td>0.172088</td>\n",
       "      <td>0.173557</td>\n",
       "      <td>0.215537</td>\n",
       "      <td>0.128067</td>\n",
       "      <td>-0.231921</td>\n",
       "      <td>-0.210664</td>\n",
       "      <td>-0.187952</td>\n",
       "      <td>0.346822</td>\n",
       "      <td>1.000000</td>\n",
       "      <td>0.306933</td>\n",
       "      <td>0.551085</td>\n",
       "    </tr>\n",
       "    <tr>\n",
       "      <th>logRent</th>\n",
       "      <td>-0.057359</td>\n",
       "      <td>0.023377</td>\n",
       "      <td>0.156228</td>\n",
       "      <td>0.043028</td>\n",
       "      <td>-0.251981</td>\n",
       "      <td>-0.227383</td>\n",
       "      <td>-0.196900</td>\n",
       "      <td>0.364504</td>\n",
       "      <td>0.306933</td>\n",
       "      <td>1.000000</td>\n",
       "      <td>0.482644</td>\n",
       "    </tr>\n",
       "    <tr>\n",
       "      <th>logFamInc</th>\n",
       "      <td>0.120974</td>\n",
       "      <td>0.094320</td>\n",
       "      <td>0.199941</td>\n",
       "      <td>0.091189</td>\n",
       "      <td>-0.340208</td>\n",
       "      <td>-0.236176</td>\n",
       "      <td>-0.173732</td>\n",
       "      <td>0.568851</td>\n",
       "      <td>0.551085</td>\n",
       "      <td>0.482644</td>\n",
       "      <td>1.000000</td>\n",
       "    </tr>\n",
       "  </tbody>\n",
       "</table>\n",
       "</div>"
      ],
      "text/plain": [
       "               AgeSA1  Bedrooms     Baths   Parking     Beach  ChildCare  \\\n",
       "AgeSA1       1.000000  0.310088  0.166457  0.217984  0.012365   0.180460   \n",
       "Bedrooms     0.310088  1.000000  0.639381  0.477543  0.032923   0.243481   \n",
       "Baths        0.166457  0.639381  1.000000  0.427226 -0.075538   0.051809   \n",
       "Parking      0.217984  0.477543  0.427226  1.000000 -0.008247   0.149590   \n",
       "Beach        0.012365  0.032923 -0.075538 -0.008247  1.000000   0.041460   \n",
       "ChildCare    0.180460  0.243481  0.051809  0.149590  0.041460   1.000000   \n",
       "Gaol         0.124008  0.180793  0.026854  0.091177  0.532753   0.750484   \n",
       "ICSEA        0.017711 -0.043061  0.098237 -0.022136 -0.259973  -0.396499   \n",
       "logMortgage  0.172088  0.173557  0.215537  0.128067 -0.231921  -0.210664   \n",
       "logRent     -0.057359  0.023377  0.156228  0.043028 -0.251981  -0.227383   \n",
       "logFamInc    0.120974  0.094320  0.199941  0.091189 -0.340208  -0.236176   \n",
       "\n",
       "                 Gaol     ICSEA  logMortgage   logRent  logFamInc  \n",
       "AgeSA1       0.124008  0.017711     0.172088 -0.057359   0.120974  \n",
       "Bedrooms     0.180793 -0.043061     0.173557  0.023377   0.094320  \n",
       "Baths        0.026854  0.098237     0.215537  0.156228   0.199941  \n",
       "Parking      0.091177 -0.022136     0.128067  0.043028   0.091189  \n",
       "Beach        0.532753 -0.259973    -0.231921 -0.251981  -0.340208  \n",
       "ChildCare    0.750484 -0.396499    -0.210664 -0.227383  -0.236176  \n",
       "Gaol         1.000000 -0.234434    -0.187952 -0.196900  -0.173732  \n",
       "ICSEA       -0.234434  1.000000     0.346822  0.364504   0.568851  \n",
       "logMortgage -0.187952  0.346822     1.000000  0.306933   0.551085  \n",
       "logRent     -0.196900  0.364504     0.306933  1.000000   0.482644  \n",
       "logFamInc   -0.173732  0.568851     0.551085  0.482644   1.000000  "
      ]
     },
     "execution_count": 21,
     "metadata": {},
     "output_type": "execute_result"
    }
   ],
   "source": [
    "X_log[LogSolar_active].corr()"
   ]
  },
  {
   "cell_type": "markdown",
   "metadata": {},
   "source": [
    "## #8(b). compute $\\mathrm{corr} \\left( \\cdot , \\mathrm{goal} \\right)$ of all variables"
   ]
  },
  {
   "cell_type": "code",
   "execution_count": 22,
   "metadata": {},
   "outputs": [],
   "source": [
    "goal_corr_table = X_log.corr()['Gaol']"
   ]
  },
  {
   "cell_type": "markdown",
   "metadata": {},
   "source": [
    "### focus on those with $\\left\\vert \\mathrm{corr} \\left( \\cdot , \\mathrm{goal} \\right) \\right\\vert \\geqslant 0.3$"
   ]
  },
  {
   "cell_type": "code",
   "execution_count": 23,
   "metadata": {},
   "outputs": [
    {
     "data": {
      "text/plain": [
       "household_size       0.304713\n",
       "Airport              0.708315\n",
       "Beach                0.532753\n",
       "Cemetery             0.404004\n",
       "ChildCare            0.750484\n",
       "CommunityFacility    0.317501\n",
       "Club                 0.397920\n",
       "Gaol                 1.000000\n",
       "GeneralHospital      0.464019\n",
       "GolfCourt            0.468939\n",
       "PreSchool            0.468674\n",
       "Rubbish              0.662911\n",
       "Sewage               0.453901\n",
       "Swimming             0.375316\n",
       "Tertiary             0.481035\n",
       "Name: Gaol, dtype: float64"
      ]
     },
     "execution_count": 23,
     "metadata": {},
     "output_type": "execute_result"
    }
   ],
   "source": [
    "goal_corr_table[np.abs(goal_corr_table)>=0.3]"
   ]
  },
  {
   "cell_type": "markdown",
   "metadata": {},
   "source": [
    "### focus on those with $\\left\\vert \\mathrm{corr} \\left( \\cdot , \\mathrm{goal} \\right) \\right\\vert \\geqslant 0.5$"
   ]
  },
  {
   "cell_type": "code",
   "execution_count": 24,
   "metadata": {},
   "outputs": [
    {
     "data": {
      "text/plain": [
       "Airport      0.708315\n",
       "Beach        0.532753\n",
       "ChildCare    0.750484\n",
       "Gaol         1.000000\n",
       "Rubbish      0.662911\n",
       "Name: Gaol, dtype: float64"
      ]
     },
     "execution_count": 24,
     "metadata": {},
     "output_type": "execute_result"
    }
   ],
   "source": [
    "goal_corr_table[np.abs(goal_corr_table)>=0.5]"
   ]
  },
  {
   "cell_type": "markdown",
   "metadata": {},
   "source": [
    "## #8(c). check irrepresentable condition \n",
    "\n",
    "## $\\mathrm{Gaol} = X_{Goal}\\gamma + e$, where $X_{Goal} = \\left[ \\mathrm{Airport}, \\mathrm{ChildCare}, \\mathrm{Rubbish}, \\mathrm{Beach} \\right]$"
   ]
  },
  {
   "cell_type": "code",
   "execution_count": 25,
   "metadata": {},
   "outputs": [
    {
     "name": "stdout",
     "output_type": "stream",
     "text": [
      "                            OLS Regression Results                            \n",
      "==============================================================================\n",
      "Dep. Variable:                   Gaol   R-squared:                       0.883\n",
      "Model:                            OLS   Adj. R-squared:                  0.883\n",
      "Method:                 Least Squares   F-statistic:                 2.230e+04\n",
      "Date:                Sat, 21 Dec 2019   Prob (F-statistic):               0.00\n",
      "Time:                        21:09:08   Log-Likelihood:                -4069.7\n",
      "No. Observations:               11796   AIC:                             8149.\n",
      "Df Residuals:                   11791   BIC:                             8186.\n",
      "Df Model:                           4                                         \n",
      "Covariance Type:            nonrobust                                         \n",
      "==============================================================================\n",
      "                 coef    std err          t      P>|t|      [0.025      0.975]\n",
      "------------------------------------------------------------------------------\n",
      "const      -8.965e-15      0.003  -2.85e-12      1.000      -0.006       0.006\n",
      "Airport        0.4428      0.011     40.427      0.000       0.421       0.464\n",
      "ChildCare      0.3277      0.006     56.533      0.000       0.316       0.339\n",
      "Rubbish        0.0395      0.010      4.073      0.000       0.021       0.059\n",
      "Beach          0.5583      0.003    173.258      0.000       0.552       0.565\n",
      "==============================================================================\n",
      "Omnibus:                     3372.439   Durbin-Watson:                   1.369\n",
      "Prob(Omnibus):                  0.000   Jarque-Bera (JB):            11074.003\n",
      "Skew:                          -1.446   Prob(JB):                         0.00\n",
      "Kurtosis:                       6.764   Cond. No.                         7.43\n",
      "==============================================================================\n",
      "\n",
      "Warnings:\n",
      "[1] Standard Errors assume that the covariance matrix of the errors is correctly specified.\n"
     ]
    }
   ],
   "source": [
    "X_Gaol_group = X_log[['Airport', 'ChildCare', 'Rubbish', 'Beach']]\n",
    "Y_Gaol_group = X_log[['Gaol']]\n",
    "\n",
    "Y_Gaol_group = (Y_Gaol_group - Y_Gaol_group.mean()) / Y_Gaol_group.std()\n",
    "X_Gaol_group = (X_Gaol_group - X_Gaol_group.mean()) / X_Gaol_group.std()\n",
    "\n",
    "X_Gaol_group = sm.add_constant(X_Gaol_group)\n",
    "\n",
    "OLS_Gaol = sm.OLS(Y_Gaol_group, X_Gaol_group)\n",
    "\n",
    "OLS_Gaol_result = OLS_Gaol.fit()\n",
    "print(OLS_Gaol_result.summary())"
   ]
  },
  {
   "cell_type": "markdown",
   "metadata": {},
   "source": [
    "### check if $\\left\\Vert \\gamma \\right\\Vert_1 \\geqslant 1$"
   ]
  },
  {
   "cell_type": "code",
   "execution_count": 26,
   "metadata": {},
   "outputs": [
    {
     "name": "stdout",
     "output_type": "stream",
     "text": [
      "the abs value of regression coef:  1.3683947330011708\n"
     ]
    }
   ],
   "source": [
    "print('the abs value of regression coef: ', np.sum(np.abs(OLS_Gaol_result.params)))"
   ]
  },
  {
   "cell_type": "markdown",
   "metadata": {},
   "source": [
    "## #8(c). due to the potential IRC violation, add 'Airport' and 'Rubbish' back to post-solar OLS (referred to as the rectified post-solar)"
   ]
  },
  {
   "cell_type": "code",
   "execution_count": 27,
   "metadata": {},
   "outputs": [
    {
     "name": "stdout",
     "output_type": "stream",
     "text": [
      "                            OLS Regression Results                            \n",
      "==============================================================================\n",
      "Dep. Variable:               logPrice   R-squared:                       0.741\n",
      "Model:                            OLS   Adj. R-squared:                  0.740\n",
      "Method:                 Least Squares   F-statistic:                     2587.\n",
      "Date:                Sat, 21 Dec 2019   Prob (F-statistic):               0.00\n",
      "Time:                        21:09:08   Log-Likelihood:                -1276.2\n",
      "No. Observations:               11796   AIC:                             2580.\n",
      "Df Residuals:                   11782   BIC:                             2684.\n",
      "Df Model:                          13                                         \n",
      "Covariance Type:            nonrobust                                         \n",
      "===============================================================================\n",
      "                  coef    std err          t      P>|t|      [0.025      0.975]\n",
      "-------------------------------------------------------------------------------\n",
      "const           7.9898      0.111     71.785      0.000       7.772       8.208\n",
      "logMortgage     0.2372      0.012     19.948      0.000       0.214       0.261\n",
      "logFamInc       0.1743      0.013     13.907      0.000       0.150       0.199\n",
      "logRent         0.0741      0.009      8.671      0.000       0.057       0.091\n",
      "AgeSA1          0.0141      0.001     27.857      0.000       0.013       0.015\n",
      "Bedrooms        0.2291      0.003     67.432      0.000       0.222       0.236\n",
      "Baths           0.0887      0.005     19.537      0.000       0.080       0.098\n",
      "Parking         0.0828      0.004     21.662      0.000       0.075       0.090\n",
      "Beach          -1.3396      0.145     -9.263      0.000      -1.623      -1.056\n",
      "ICSEA           0.0007   5.81e-05     11.984      0.000       0.001       0.001\n",
      "Gaol           -1.0077      0.148     -6.801      0.000      -1.298      -0.717\n",
      "Airport         2.8837      0.250     11.528      0.000       2.393       3.374\n",
      "ChildCare      -3.6296      0.122    -29.867      0.000      -3.868      -3.391\n",
      "Rubbish         0.5372      0.206      2.604      0.009       0.133       0.941\n",
      "==============================================================================\n",
      "Omnibus:                     1603.425   Durbin-Watson:                   1.803\n",
      "Prob(Omnibus):                  0.000   Jarque-Bera (JB):            12839.080\n",
      "Skew:                           0.402   Prob(JB):                         0.00\n",
      "Kurtosis:                       8.047   Cond. No.                     1.36e+05\n",
      "==============================================================================\n",
      "\n",
      "Warnings:\n",
      "[1] Standard Errors assume that the covariance matrix of the errors is correctly specified.\n",
      "[2] The condition number is large, 1.36e+05. This might indicate that there are\n",
      "strong multicollinearity or other numerical problems.\n"
     ]
    }
   ],
   "source": [
    "X_rec = X_log[['logMortgage', 'logFamInc', 'logRent', 'AgeSA1',\n",
    "                 'Bedrooms', 'Baths', 'Parking', 'Beach', 'ICSEA', 'Gaol', \n",
    "                 'Airport', 'ChildCare', 'Rubbish']]\n",
    "\n",
    "X_rec   = sm.add_constant(X_rec)\n",
    "OLS_rec = sm.OLS(Y_log, X_rec)\n",
    "\n",
    "OLS_rec_result = OLS_rec.fit()\n",
    "print(OLS_rec_result.summary())"
   ]
  },
  {
   "cell_type": "code",
   "execution_count": 28,
   "metadata": {},
   "outputs": [
    {
     "name": "stdout",
     "output_type": "stream",
     "text": [
      "                       Table 2 - Post-selection OLS comparison\n",
      "=====================================================================================\n",
      "                  post-en  post-lasso(lars) post-larsso(cd) rec post-solar post-solar\n",
      "-------------------------------------------------------------------------------------\n",
      "const             8.78***  8.76***          8.76***         7.99***        7.21***   \n",
      "                  (0.17)   (0.15)           (0.15)          (0.11)         (0.11)    \n",
      "Bedrooms          0.21***  0.21***          0.21***         0.23***        0.23***   \n",
      "                  (0.00)   (0.00)           (0.00)          (0.00)         (0.00)    \n",
      "Baths             0.09***  0.10***          0.10***         0.09***        0.09***   \n",
      "                  (0.00)   (0.00)           (0.00)          (0.00)         (0.00)    \n",
      "Parking           0.08***  0.08***          0.08***         0.08***        0.08***   \n",
      "                  (0.00)   (0.00)           (0.00)          (0.00)         (0.00)    \n",
      "Beach             -2.22*** -2.21***         -2.21***        -1.34***       -2.45***  \n",
      "                  (0.33)   (0.11)           (0.11)          (0.14)         (0.14)    \n",
      "ChildCare         -4.27*** -4.49***         -4.49***        -3.63***       -2.45***  \n",
      "                  (0.21)   (0.16)           (0.16)          (0.12)         (0.11)    \n",
      "Gaol              -0.78**                                   -1.01***       0.36***   \n",
      "                  (0.33)                                    (0.15)         (0.14)    \n",
      "ICSEA             0.00***  0.00***          0.00***         0.00***        0.00***   \n",
      "                  (0.00)   (0.00)           (0.00)          (0.00)         (0.00)    \n",
      "logMortgage       0.16***  0.16***          0.16***         0.24***        0.26***   \n",
      "                  (0.01)   (0.01)           (0.01)          (0.01)         (0.01)    \n",
      "logRent           0.04***  0.04***          0.04***         0.07***        0.07***   \n",
      "                  (0.01)   (0.01)           (0.01)          (0.01)         (0.01)    \n",
      "logFamInc         0.19***  0.19***          0.19***         0.17***        0.24***   \n",
      "                  (0.02)   (0.01)           (0.01)          (0.01)         (0.01)    \n",
      "Airport           3.74***  2.53***          2.53***         2.88***                  \n",
      "                  (0.40)   (0.20)           (0.20)          (0.25)                   \n",
      "Rubbish           -0.76**                                   0.54***                  \n",
      "                  (0.32)                                    (0.21)                   \n",
      "AgeSA1            0.01***  0.01***          0.01***         0.01***        0.01***   \n",
      "                  (0.00)   (0.00)           (0.00)          (0.00)         (0.00)    \n",
      "AreaSize          -0.00*** -0.00***         -0.00***                                 \n",
      "                  (0.00)   (0.00)           (0.00)                                   \n",
      "Aus               -0.00                                                              \n",
      "                  (0.00)                                                             \n",
      "Club              -2.15*** -2.57***         -2.57***                                 \n",
      "                  (0.45)   (0.39)           (0.39)                                   \n",
      "CommunityFacility 0.01                                                               \n",
      "                  (0.68)                                                             \n",
      "DistBound         1.47     1.34             1.34                                     \n",
      "                  (1.16)   (0.97)           (0.97)                                   \n",
      "Eng-speak         -0.00**                                                            \n",
      "                  (0.00)                                                             \n",
      "GeneralHospital   0.42     0.86**           0.86**                                   \n",
      "                  (0.38)   (0.33)           (0.33)                                   \n",
      "GolfCourt         -1.34*** -1.27***         -1.27***                                 \n",
      "                  (0.24)   (0.22)           (0.22)                                   \n",
      "GrammarY3         0.00***                                                            \n",
      "                  (0.00)                                                             \n",
      "GrammarY5         0.00                                                               \n",
      "                  (0.00)                                                             \n",
      "High              4.03***  3.83***          3.83***                                  \n",
      "                  (0.55)   (0.52)           (0.52)                                   \n",
      "MedCenter         -2.08*** -2.23***         -2.23***                                 \n",
      "                  (0.50)   (0.46)           (0.46)                                   \n",
      "Museum            1.01***  0.92***          0.92***                                  \n",
      "                  (0.23)   (0.18)           (0.18)                                   \n",
      "NumeracyY3        0.00***  0.00***          0.00***                                  \n",
      "                  (0.00)   (0.00)           (0.00)                                   \n",
      "NumeracyY5        0.00                                                               \n",
      "                  (0.00)                                                             \n",
      "PO                1.00     0.62             0.62                                     \n",
      "                  (0.73)   (0.69)           (0.69)                                   \n",
      "Park              -0.33                                                              \n",
      "                  (1.65)                                                             \n",
      "Police            -3.33*** -2.97***         -2.97***                                 \n",
      "                  (0.44)   (0.41)           (0.41)                                   \n",
      "PreSchool         1.30***  1.40***          1.40***                                  \n",
      "                  (0.21)   (0.17)           (0.17)                                   \n",
      "Primary           0.66     1.04             1.04                                     \n",
      "                  (1.07)   (1.02)           (1.02)                                   \n",
      "PrimaryHigh       -2.76*** -2.74***         -2.74***                                 \n",
      "                  (0.33)   (0.27)           (0.27)                                   \n",
      "RailStat          -1.23***                                                           \n",
      "                  (0.41)                                                             \n",
      "ReadingY3         -0.00*** -0.00***         -0.00***                                 \n",
      "                  (0.00)   (0.00)           (0.00)                                   \n",
      "ReadingY5         0.00                                                               \n",
      "                  (0.00)                                                             \n",
      "Sewage            0.31                                                               \n",
      "                  (0.20)                                                             \n",
      "SpellingY3        -0.00**                                                            \n",
      "                  (0.00)                                                             \n",
      "SpellingY5        -0.00                                                              \n",
      "                  (0.00)                                                             \n",
      "SportsCenter      3.44***  3.29***          3.29***                                  \n",
      "                  (0.37)   (0.33)           (0.33)                                   \n",
      "SportsCourtField  1.09     0.77             0.77                                     \n",
      "                  (0.80)   (0.78)           (0.78)                                   \n",
      "Suburb_Area       -0.00*** -0.00***         -0.00***                                 \n",
      "                  (0.00)   (0.00)           (0.00)                                   \n",
      "Swimming          -1.25*** -1.93***         -1.93***                                 \n",
      "                  (0.36)   (0.30)           (0.30)                                   \n",
      "TPO2009           -0.00**                                                            \n",
      "                  (0.00)                                                             \n",
      "TPO2010           0.00***  0.00             0.00                                     \n",
      "                  (0.00)   (0.00)           (0.00)                                   \n",
      "TVO2009           -0.00***                                                           \n",
      "                  (0.00)                                                             \n",
      "TVO2010           0.00                                                               \n",
      "                  (0.00)                                                             \n",
      "Tertiary          1.74***  1.23***          1.23***                                  \n",
      "                  (0.30)   (0.21)           (0.21)                                   \n",
      "TotPop            0.00***  0.00***          0.00***                                  \n",
      "                  (0.00)   (0.00)           (0.00)                                   \n",
      "WritingY3         -0.00    -0.00**          -0.00**                                  \n",
      "                  (0.00)   (0.00)           (0.00)                                   \n",
      "WritingY5         -0.00                                                              \n",
      "                  (0.00)                                                             \n",
      "household_size    0.14***  0.14***          0.14***                                  \n",
      "                  (0.01)   (0.01)           (0.01)                                   \n",
      "logPersonInc      0.03*                                                              \n",
      "                  (0.02)                                                             \n",
      "psn-per-bedroom   -0.26*** -0.23***         -0.23***                                 \n",
      "                  (0.04)   (0.03)           (0.03)                                   \n",
      "R-squared         0.77     0.76             0.76            0.74           0.73      \n",
      "No. observations  11796    11796            11796           11796          11796     \n",
      "=====================================================================================\n",
      "Standard errors in parentheses.\n",
      "* p<.1, ** p<.05, ***p<.01\n"
     ]
    }
   ],
   "source": [
    "info_dict={'R-squared' : lambda x: f\"{x.rsquared:.2f}\",\n",
    "           'No. observations' : lambda x: f\"{int(x.nobs):d}\"}\n",
    "\n",
    "results_table2 = summary_col(results=[OLS_LogEn_result, OLS_LogLassoCV_result, \n",
    "                                      OLS_LogLars_result, OLS_rec_result, \n",
    "                                      OLS_LogSolar_result],\n",
    "                            float_format='%0.2f',\n",
    "                            stars = True,\n",
    "                            model_names=['post-en',\n",
    "                                         'post-lasso(lars)',\n",
    "                                         'post-larsso(cd)',\n",
    "                                         'rec post-solar',\n",
    "                                         'post-solar'],\n",
    "                            info_dict=info_dict,\n",
    "                            regressor_order=['const',\n",
    "                                             'age',\n",
    "                                             'Bedrooms',\n",
    "                                             'Baths',\n",
    "                                             'Parking',\n",
    "                                             'Beach',\n",
    "                                             'ChildCare',\n",
    "                                             'Gaol',\n",
    "                                             'ICSEA',\n",
    "                                             'logMortgage',\n",
    "                                             'logRent',\n",
    "                                             'logFamInc',\n",
    "                                             'Airport',\n",
    "                                             'Rubbish'])\n",
    "\n",
    "results_table2.add_title('Table 2 - Post-selection OLS comparison')\n",
    "\n",
    "print(results_table2)"
   ]
  },
  {
   "cell_type": "code",
   "execution_count": 29,
   "metadata": {},
   "outputs": [
    {
     "name": "stdout",
     "output_type": "stream",
     "text": [
      "                            OLS Regression Results                            \n",
      "==============================================================================\n",
      "Dep. Variable:               logPrice   R-squared:                       0.741\n",
      "Model:                            OLS   Adj. R-squared:                  0.740\n",
      "Method:                 Least Squares   F-statistic:                     2587.\n",
      "Date:                Sat, 21 Dec 2019   Prob (F-statistic):               0.00\n",
      "Time:                        21:09:08   Log-Likelihood:                -8778.8\n",
      "No. Observations:               11796   AIC:                         1.759e+04\n",
      "Df Residuals:                   11782   BIC:                         1.769e+04\n",
      "Df Model:                          13                                         \n",
      "Covariance Type:            nonrobust                                         \n",
      "===============================================================================\n",
      "                  coef    std err          t      P>|t|      [0.025      0.975]\n",
      "-------------------------------------------------------------------------------\n",
      "const        1.651e-13      0.005   3.52e-11      1.000      -0.009       0.009\n",
      "logMortgage     0.1165      0.006     19.948      0.000       0.105       0.128\n",
      "logFamInc       0.1027      0.007     13.907      0.000       0.088       0.117\n",
      "logRent         0.0479      0.006      8.671      0.000       0.037       0.059\n",
      "AgeSA1          0.1438      0.005     27.857      0.000       0.134       0.154\n",
      "Bedrooms        0.4606      0.007     67.432      0.000       0.447       0.474\n",
      "Baths           0.1252      0.006     19.537      0.000       0.113       0.138\n",
      "Parking         0.1186      0.005     21.662      0.000       0.108       0.129\n",
      "Beach          -0.0928      0.010     -9.263      0.000      -0.112      -0.073\n",
      "ICSEA           0.0795      0.007     11.984      0.000       0.066       0.092\n",
      "Gaol           -0.0989      0.015     -6.801      0.000      -0.127      -0.070\n",
      "Airport         0.2202      0.019     11.528      0.000       0.183       0.258\n",
      "ChildCare      -0.4256      0.014    -29.867      0.000      -0.453      -0.398\n",
      "Rubbish         0.0386      0.015      2.604      0.009       0.010       0.068\n",
      "==============================================================================\n",
      "Omnibus:                     1603.425   Durbin-Watson:                   1.803\n",
      "Prob(Omnibus):                  0.000   Jarque-Bera (JB):            12839.080\n",
      "Skew:                           0.402   Prob(JB):                         0.00\n",
      "Kurtosis:                       8.047   Cond. No.                         9.76\n",
      "==============================================================================\n",
      "\n",
      "Warnings:\n",
      "[1] Standard Errors assume that the covariance matrix of the errors is correctly specified.\n"
     ]
    }
   ],
   "source": [
    "X_corr = X_log[['logMortgage', 'logFamInc', 'logRent', 'AgeSA1',\n",
    "                'Bedrooms', 'Baths', 'Parking', 'Beach', 'ICSEA', 'Gaol', \n",
    "                'Airport', 'ChildCare', 'Rubbish']]\n",
    "\n",
    "Y_corr = (Y_log  - Y_log.mean() ) / Y_log.std()\n",
    "X_corr = (X_corr - X_corr.mean()) / X_corr.std()\n",
    "\n",
    "X_corr = sm.add_constant(X_corr)\n",
    "OLS_corr = sm.OLS(Y_corr, X_corr)\n",
    "\n",
    "OLS_corr_result = OLS_corr.fit()\n",
    "print(OLS_corr_result.summary())"
   ]
  },
  {
   "cell_type": "markdown",
   "metadata": {},
   "source": [
    "# #9. linear PGM estimation based on solar\n",
    "\n",
    "## this part is finished using R package 'bnlearn', which is fully tested in debian and ubuntu (not tested in windows or mac). Please make sure that either your have R kernel in jupyter or you create R session in Python kernel."
   ]
  },
  {
   "cell_type": "markdown",
   "metadata": {},
   "source": [
    "# #10. endogeneity detection and IV estimation using linear PGM"
   ]
  },
  {
   "cell_type": "markdown",
   "metadata": {},
   "source": [
    "## #10(a). Robust OLS that pretends nothing happens"
   ]
  },
  {
   "cell_type": "code",
   "execution_count": 30,
   "metadata": {},
   "outputs": [
    {
     "name": "stdout",
     "output_type": "stream",
     "text": [
      "                            OLS Estimation Summary                            \n",
      "==============================================================================\n",
      "Dep. Variable:                logRent   R-squared:                      0.3650\n",
      "Estimator:                        OLS   Adj. R-squared:                 0.3645\n",
      "No. Observations:               11796   F-statistic:                    5437.3\n",
      "Date:                Sat, Dec 21 2019   P-value (F-stat)                0.0000\n",
      "Time:                        21:09:08   Distribution:                 chi2(10)\n",
      "Cov. Estimator:                robust                                         \n",
      "                                                                              \n",
      "                               Parameter Estimates                                \n",
      "==================================================================================\n",
      "                Parameter  Std. Err.     T-stat    P-value    Lower CI    Upper CI\n",
      "----------------------------------------------------------------------------------\n",
      "const              1.8639     0.1075     17.337     0.0000      1.6532      2.0746\n",
      "TotPop             0.0002  1.428e-05     11.317     0.0000      0.0001      0.0002\n",
      "household_size     0.3099     0.0115     27.012     0.0000      0.2874      0.3324\n",
      "Beach             -2.3591     0.1679    -14.048     0.0000     -2.6883     -2.0300\n",
      "ChildCare         -1.6771     0.1362    -12.313     0.0000     -1.9441     -1.4102\n",
      "Gaol               1.2351     0.1741     7.0937     0.0000      0.8938      1.5763\n",
      "PrimaryHigh       -1.3073     0.1674    -7.8108     0.0000     -1.6354     -0.9793\n",
      "ICSEA              0.0004  6.917e-05     5.8185     0.0000      0.0003      0.0005\n",
      "logPersonInc       0.5065     0.0290     17.466     0.0000      0.4497      0.5634\n",
      "logFamInc         -0.0462     0.0250    -1.8476     0.0647     -0.0951      0.0028\n",
      "logPrice           0.0053     0.0074     0.7233     0.4695     -0.0091      0.0198\n",
      "==================================================================================\n"
     ]
    }
   ],
   "source": [
    "OLS = IV2SLS(dependent=logTB['logRent'],\n",
    "            exog=logTB[['const', 'TotPop', 'household_size', \n",
    "                        'Beach', 'ChildCare', 'Gaol', 'PrimaryHigh',\n",
    "                        'ICSEA', 'logPersonInc','logFamInc', 'logPrice']],\n",
    "            endog=None,\n",
    "            instruments=None).fit(cov_type='robust')\n",
    "\n",
    "print(OLS.summary)"
   ]
  },
  {
   "cell_type": "code",
   "execution_count": 31,
   "metadata": {},
   "outputs": [
    {
     "name": "stdout",
     "output_type": "stream",
     "text": [
      "                            OLS Estimation Summary                            \n",
      "==============================================================================\n",
      "Dep. Variable:                logRent   R-squared:                      0.3650\n",
      "Estimator:                        OLS   Adj. R-squared:                 0.3645\n",
      "No. Observations:               11796   F-statistic:                    5437.3\n",
      "Date:                Sat, Dec 21 2019   P-value (F-stat)                0.0000\n",
      "Time:                        21:09:08   Distribution:                 chi2(10)\n",
      "Cov. Estimator:                robust                                         \n",
      "                                                                              \n",
      "                               Parameter Estimates                                \n",
      "==================================================================================\n",
      "                Parameter  Std. Err.     T-stat    P-value    Lower CI    Upper CI\n",
      "----------------------------------------------------------------------------------\n",
      "const              1.8639     0.1075     17.337     0.0000      1.6532      2.0746\n",
      "TotPop             0.0002  1.428e-05     11.317     0.0000      0.0001      0.0002\n",
      "household_size     0.3099     0.0115     27.012     0.0000      0.2874      0.3324\n",
      "Beach             -2.3591     0.1679    -14.048     0.0000     -2.6883     -2.0300\n",
      "ChildCare         -1.6771     0.1362    -12.313     0.0000     -1.9441     -1.4102\n",
      "Gaol               1.2351     0.1741     7.0937     0.0000      0.8938      1.5763\n",
      "PrimaryHigh       -1.3073     0.1674    -7.8108     0.0000     -1.6354     -0.9793\n",
      "ICSEA              0.0004  6.917e-05     5.8185     0.0000      0.0003      0.0005\n",
      "logPersonInc       0.5065     0.0290     17.466     0.0000      0.4497      0.5634\n",
      "logFamInc         -0.0462     0.0250    -1.8476     0.0647     -0.0951      0.0028\n",
      "logPrice           0.0053     0.0074     0.7233     0.4695     -0.0091      0.0198\n",
      "==================================================================================\n"
     ]
    }
   ],
   "source": [
    "OLS = IV2SLS(dependent=logTB['logRent'],\n",
    "            exog=logTB[['const', 'TotPop', 'household_size', \n",
    "                        'Beach', 'ChildCare', 'Gaol', 'PrimaryHigh',\n",
    "                        'ICSEA', 'logPersonInc','logFamInc', 'logPrice']],\n",
    "            endog=None,\n",
    "            instruments=None).fit(cov_type='robust')\n",
    "\n",
    "print(OLS.summary)"
   ]
  },
  {
   "cell_type": "markdown",
   "metadata": {},
   "source": [
    "## #10(b). Robust 2SLS"
   ]
  },
  {
   "cell_type": "code",
   "execution_count": 32,
   "metadata": {},
   "outputs": [
    {
     "name": "stdout",
     "output_type": "stream",
     "text": [
      "                          IV-2SLS Estimation Summary                          \n",
      "==============================================================================\n",
      "Dep. Variable:                logRent   R-squared:                      0.3632\n",
      "Estimator:                    IV-2SLS   Adj. R-squared:                 0.3627\n",
      "No. Observations:               11796   F-statistic:                    5355.1\n",
      "Date:                Sat, Dec 21 2019   P-value (F-stat)                0.0000\n",
      "Time:                        21:09:08   Distribution:                 chi2(10)\n",
      "Cov. Estimator:                robust                                         \n",
      "                                                                              \n",
      "                               Parameter Estimates                                \n",
      "==================================================================================\n",
      "                Parameter  Std. Err.     T-stat    P-value    Lower CI    Upper CI\n",
      "----------------------------------------------------------------------------------\n",
      "const              1.6026     0.1444     11.101     0.0000      1.3197      1.8856\n",
      "TotPop             0.0002  1.459e-05     11.633     0.0000      0.0001      0.0002\n",
      "household_size     0.2958     0.0125     23.607     0.0000      0.2712      0.3203\n",
      "Beach             -2.2166     0.1752    -12.655     0.0000     -2.5599     -1.8733\n",
      "ChildCare         -1.5777     0.1419    -11.119     0.0000     -1.8558     -1.2996\n",
      "Gaol               1.1966     0.1753     6.8265     0.0000      0.8530      1.5401\n",
      "PrimaryHigh       -1.3717     0.1687    -8.1331     0.0000     -1.7022     -1.0411\n",
      "ICSEA              0.0004  7.045e-05     5.0046     0.0000      0.0002      0.0005\n",
      "logPersonInc       0.5158     0.0292     17.669     0.0000      0.4586      0.5731\n",
      "logFamInc         -0.0737     0.0266    -2.7669     0.0057     -0.1258     -0.0215\n",
      "logPrice           0.0410     0.0146     2.8018     0.0051      0.0123      0.0697\n",
      "==================================================================================\n",
      "\n",
      "Endogenous: logPrice\n",
      "Instruments: Baths\n",
      "Robust Covariance (Heteroskedastic)\n",
      "Debiased: False\n"
     ]
    }
   ],
   "source": [
    "iv = IV2SLS(dependent=logTB['logRent'],\n",
    "            exog=logTB[['const', 'TotPop', 'household_size', \n",
    "                        'Beach', 'ChildCare', 'Gaol', 'PrimaryHigh',\n",
    "                        'ICSEA','logPersonInc','logFamInc']],\n",
    "            endog=logTB[['logPrice']],\n",
    "            instruments=logTB[['Baths']]).fit(cov_type='robust')\n",
    "\n",
    "print(iv.summary)"
   ]
  },
  {
   "cell_type": "code",
   "execution_count": 33,
   "metadata": {},
   "outputs": [
    {
     "name": "stdout",
     "output_type": "stream",
     "text": [
      "                          IV-2SLS Estimation Summary                          \n",
      "==============================================================================\n",
      "Dep. Variable:                logRent   R-squared:                      0.3618\n",
      "Estimator:                    IV-2SLS   Adj. R-squared:                 0.3612\n",
      "No. Observations:               11796   F-statistic:                    5485.6\n",
      "Date:                Sat, Dec 21 2019   P-value (F-stat)                0.0000\n",
      "Time:                        21:09:09   Distribution:                 chi2(10)\n",
      "Cov. Estimator:                robust                                         \n",
      "                                                                              \n",
      "                               Parameter Estimates                                \n",
      "==================================================================================\n",
      "                Parameter  Std. Err.     T-stat    P-value    Lower CI    Upper CI\n",
      "----------------------------------------------------------------------------------\n",
      "const              2.2169     0.1237     17.917     0.0000      1.9744      2.4594\n",
      "TotPop             0.0002  1.449e-05     10.405     0.0000      0.0001      0.0002\n",
      "household_size     0.3290     0.0121     27.222     0.0000      0.3053      0.3527\n",
      "Beach             -2.5518     0.1739    -14.672     0.0000     -2.8926     -2.2109\n",
      "ChildCare         -1.8115     0.1404    -12.901     0.0000     -2.0868     -1.5363\n",
      "Gaol               1.2871     0.1750     7.3555     0.0000      0.9441      1.6301\n",
      "PrimaryHigh       -1.2204     0.1690    -7.2196     0.0000     -1.5517     -0.8891\n",
      "ICSEA              0.0005  6.949e-05     6.7625     0.0000      0.0003      0.0006\n",
      "logPersonInc       0.4939     0.0289     17.108     0.0000      0.4373      0.5505\n",
      "logFamInc         -0.0090     0.0255    -0.3522     0.7247     -0.0590      0.0410\n",
      "logPrice          -0.0428     0.0110    -3.9009     0.0001     -0.0644     -0.0213\n",
      "==================================================================================\n",
      "\n",
      "Endogenous: logPrice\n",
      "Instruments: Bedrooms\n",
      "Robust Covariance (Heteroskedastic)\n",
      "Debiased: False\n"
     ]
    }
   ],
   "source": [
    "iv2 = IV2SLS(dependent=logTB['logRent'],\n",
    "            exog=logTB[['const', 'TotPop', 'household_size', \n",
    "                        'Beach', 'ChildCare', 'Gaol', 'PrimaryHigh',\n",
    "                        'ICSEA','logPersonInc','logFamInc']],\n",
    "            endog=logTB[['logPrice']],\n",
    "            instruments=logTB[['Bedrooms']]).fit(cov_type='robust')\n",
    "\n",
    "print(iv2.summary)"
   ]
  },
  {
   "cell_type": "code",
   "execution_count": 34,
   "metadata": {},
   "outputs": [
    {
     "name": "stdout",
     "output_type": "stream",
     "text": [
      "                          IV-2SLS Estimation Summary                          \n",
      "==============================================================================\n",
      "Dep. Variable:                logRent   R-squared:                      0.3649\n",
      "Estimator:                    IV-2SLS   Adj. R-squared:                 0.3644\n",
      "No. Observations:               11796   F-statistic:                    5457.8\n",
      "Date:                Sat, Dec 21 2019   P-value (F-stat)                0.0000\n",
      "Time:                        21:09:09   Distribution:                 chi2(10)\n",
      "Cov. Estimator:                robust                                         \n",
      "                                                                              \n",
      "                               Parameter Estimates                                \n",
      "==================================================================================\n",
      "                Parameter  Std. Err.     T-stat    P-value    Lower CI    Upper CI\n",
      "----------------------------------------------------------------------------------\n",
      "const              1.9133     0.1625     11.777     0.0000      1.5949      2.2318\n",
      "TotPop             0.0002  1.477e-05     10.843     0.0000      0.0001      0.0002\n",
      "household_size     0.3126     0.0134     23.313     0.0000      0.2863      0.3389\n",
      "Beach             -2.3861     0.1863    -12.809     0.0000     -2.7512     -2.0210\n",
      "ChildCare         -1.6960     0.1484    -11.425     0.0000     -1.9869     -1.4050\n",
      "Gaol               1.2424     0.1769     7.0235     0.0000      0.8957      1.5891\n",
      "PrimaryHigh       -1.2951     0.1697    -7.6339     0.0000     -1.6277     -0.9626\n",
      "ICSEA              0.0004  7.138e-05     5.7714     0.0000      0.0003      0.0006\n",
      "logPersonInc       0.5048     0.0292     17.311     0.0000      0.4476      0.5619\n",
      "logFamInc         -0.0409     0.0275    -1.4902     0.1362     -0.0948      0.0129\n",
      "logPrice          -0.0014     0.0177    -0.0799     0.9363     -0.0360      0.0332\n",
      "==================================================================================\n",
      "\n",
      "Endogenous: logPrice\n",
      "Instruments: Parking\n",
      "Robust Covariance (Heteroskedastic)\n",
      "Debiased: False\n"
     ]
    }
   ],
   "source": [
    "iv3 = IV2SLS(dependent=logTB['logRent'],\n",
    "            exog=logTB[['const', 'TotPop', 'household_size', \n",
    "                        'Beach', 'ChildCare', 'Gaol', 'PrimaryHigh',\n",
    "                        'ICSEA','logPersonInc','logFamInc']],\n",
    "            endog=logTB[['logPrice']],\n",
    "            instruments=logTB[['Parking']]).fit(cov_type='robust')\n",
    "\n",
    "print(iv3.summary)"
   ]
  },
  {
   "cell_type": "markdown",
   "metadata": {},
   "source": [
    "## #10(c). Endogeneity test\n",
    "### Durbin Endogeneity test"
   ]
  },
  {
   "cell_type": "code",
   "execution_count": 35,
   "metadata": {},
   "outputs": [
    {
     "data": {
      "text/plain": [
       "Durbin test of exogeneity\n",
       "H0: All endogenous variables are exogenous\n",
       "Statistic: 13.0337\n",
       "P-value: 0.0003\n",
       "Distributed: chi2(1)\n",
       "WaldTestStatistic, id: 0x7f2a0e654350"
      ]
     },
     "execution_count": 35,
     "metadata": {},
     "output_type": "execute_result"
    }
   ],
   "source": [
    "iv.durbin()"
   ]
  },
  {
   "cell_type": "code",
   "execution_count": 36,
   "metadata": {},
   "outputs": [
    {
     "data": {
      "text/plain": [
       "Durbin test of exogeneity\n",
       "H0: All endogenous variables are exogenous\n",
       "Statistic: 49.5049\n",
       "P-value: 0.0000\n",
       "Distributed: chi2(1)\n",
       "WaldTestStatistic, id: 0x7f2a04621bd0"
      ]
     },
     "execution_count": 36,
     "metadata": {},
     "output_type": "execute_result"
    }
   ],
   "source": [
    "iv2.durbin()"
   ]
  },
  {
   "cell_type": "code",
   "execution_count": 37,
   "metadata": {},
   "outputs": [
    {
     "data": {
      "text/plain": [
       "Durbin test of exogeneity\n",
       "H0: All endogenous variables are exogenous\n",
       "Statistic: 0.2538\n",
       "P-value: 0.6144\n",
       "Distributed: chi2(1)\n",
       "WaldTestStatistic, id: 0x7f2a047bb610"
      ]
     },
     "execution_count": 37,
     "metadata": {},
     "output_type": "execute_result"
    }
   ],
   "source": [
    "iv3.durbin()"
   ]
  },
  {
   "cell_type": "markdown",
   "metadata": {},
   "source": [
    "### Hausman Endogeneity test"
   ]
  },
  {
   "cell_type": "code",
   "execution_count": 38,
   "metadata": {},
   "outputs": [
    {
     "data": {
      "text/plain": [
       "Wu-Hausman test of exogeneity\n",
       "H0: All endogenous variables are exogenous\n",
       "Statistic: 13.0348\n",
       "P-value: 0.0003\n",
       "Distributed: F(1,11784)\n",
       "WaldTestStatistic, id: 0x7f2a047bb790"
      ]
     },
     "execution_count": 38,
     "metadata": {},
     "output_type": "execute_result"
    }
   ],
   "source": [
    "iv.wu_hausman()"
   ]
  },
  {
   "cell_type": "code",
   "execution_count": 39,
   "metadata": {},
   "outputs": [
    {
     "data": {
      "text/plain": [
       "Wu-Hausman test of exogeneity\n",
       "H0: All endogenous variables are exogenous\n",
       "Statistic: 49.6629\n",
       "P-value: 0.0000\n",
       "Distributed: F(1,11784)\n",
       "WaldTestStatistic, id: 0x7f2a044bffd0"
      ]
     },
     "execution_count": 39,
     "metadata": {},
     "output_type": "execute_result"
    }
   ],
   "source": [
    "iv2.wu_hausman()"
   ]
  },
  {
   "cell_type": "code",
   "execution_count": 40,
   "metadata": {},
   "outputs": [
    {
     "data": {
      "text/plain": [
       "Wu-Hausman test of exogeneity\n",
       "H0: All endogenous variables are exogenous\n",
       "Statistic: 0.2535\n",
       "P-value: 0.6146\n",
       "Distributed: F(1,11784)\n",
       "WaldTestStatistic, id: 0x7f2a04618b10"
      ]
     },
     "execution_count": 40,
     "metadata": {},
     "output_type": "execute_result"
    }
   ],
   "source": [
    "iv3.wu_hausman()"
   ]
  },
  {
   "cell_type": "markdown",
   "metadata": {},
   "source": [
    "### Wooldridge regression-based endogeneity test"
   ]
  },
  {
   "cell_type": "code",
   "execution_count": 41,
   "metadata": {},
   "outputs": [
    {
     "data": {
      "text/plain": [
       "Wooldridge's regression test of exogeneity\n",
       "H0: Endogenous variables are exogenous\n",
       "Statistic: 9.1282\n",
       "P-value: 0.0025\n",
       "Distributed: chi2(1)\n",
       "WaldTestStatistic, id: 0x7f2a044aa610"
      ]
     },
     "execution_count": 41,
     "metadata": {},
     "output_type": "execute_result"
    }
   ],
   "source": [
    "iv.wooldridge_regression"
   ]
  },
  {
   "cell_type": "code",
   "execution_count": 42,
   "metadata": {},
   "outputs": [
    {
     "data": {
      "text/plain": [
       "Wooldridge's regression test of exogeneity\n",
       "H0: Endogenous variables are exogenous\n",
       "Statistic: 31.6738\n",
       "P-value: 0.0000\n",
       "Distributed: chi2(1)\n",
       "WaldTestStatistic, id: 0x7f2a0c45f110"
      ]
     },
     "execution_count": 42,
     "metadata": {},
     "output_type": "execute_result"
    }
   ],
   "source": [
    "iv2.wooldridge_regression"
   ]
  },
  {
   "cell_type": "code",
   "execution_count": 43,
   "metadata": {},
   "outputs": [
    {
     "data": {
      "text/plain": [
       "Wooldridge's regression test of exogeneity\n",
       "H0: Endogenous variables are exogenous\n",
       "Statistic: 0.1725\n",
       "P-value: 0.6779\n",
       "Distributed: chi2(1)\n",
       "WaldTestStatistic, id: 0x7f2a044aab10"
      ]
     },
     "execution_count": 43,
     "metadata": {},
     "output_type": "execute_result"
    }
   ],
   "source": [
    "iv3.wooldridge_regression"
   ]
  },
  {
   "cell_type": "markdown",
   "metadata": {},
   "source": [
    "### Wooldridge score endogeneity test"
   ]
  },
  {
   "cell_type": "code",
   "execution_count": 44,
   "metadata": {},
   "outputs": [
    {
     "data": {
      "text/plain": [
       "Wooldridge's score test of exogeneity\n",
       "H0: Endogenous variables are exogenous\n",
       "Statistic: 9.2345\n",
       "P-value: 0.0024\n",
       "Distributed: chi2(1)\n",
       "WaldTestStatistic, id: 0x7f2a04414310"
      ]
     },
     "execution_count": 44,
     "metadata": {},
     "output_type": "execute_result"
    }
   ],
   "source": [
    "iv.wooldridge_score"
   ]
  },
  {
   "cell_type": "code",
   "execution_count": 45,
   "metadata": {},
   "outputs": [
    {
     "data": {
      "text/plain": [
       "Wooldridge's score test of exogeneity\n",
       "H0: Endogenous variables are exogenous\n",
       "Statistic: 33.7213\n",
       "P-value: 0.0000\n",
       "Distributed: chi2(1)\n",
       "WaldTestStatistic, id: 0x7f2a04455210"
      ]
     },
     "execution_count": 45,
     "metadata": {},
     "output_type": "execute_result"
    }
   ],
   "source": [
    "iv2.wooldridge_score"
   ]
  },
  {
   "cell_type": "code",
   "execution_count": 46,
   "metadata": {},
   "outputs": [
    {
     "data": {
      "text/plain": [
       "Wooldridge's score test of exogeneity\n",
       "H0: Endogenous variables are exogenous\n",
       "Statistic: 0.1734\n",
       "P-value: 0.6771\n",
       "Distributed: chi2(1)\n",
       "WaldTestStatistic, id: 0x7f2a04621310"
      ]
     },
     "execution_count": 46,
     "metadata": {},
     "output_type": "execute_result"
    }
   ],
   "source": [
    "iv3.wooldridge_score"
   ]
  },
  {
   "cell_type": "code",
   "execution_count": 47,
   "metadata": {},
   "outputs": [
    {
     "name": "stdout",
     "output_type": "stream",
     "text": [
      "                              Model Comparison                              \n",
      "============================================================================\n",
      "                               OLS   robust 2SLS   weak 2SLS 1   weak 2SLS 2\n",
      "----------------------------------------------------------------------------\n",
      "Dep. Variable              logRent       logRent       logRent       logRent\n",
      "Estimator                      OLS       IV-2SLS       IV-2SLS       IV-2SLS\n",
      "No. Observations             11796         11796         11796         11796\n",
      "Cov. Est.                   robust        robust        robust        robust\n",
      "R-squared                   0.3650        0.3632        0.3618        0.3649\n",
      "Adj. R-squared              0.3645        0.3627        0.3612        0.3644\n",
      "F-statistic                 5437.3        5355.1        5485.6        5457.8\n",
      "P-value (F-stat)            0.0000        0.0000        0.0000        0.0000\n",
      "==================     ===========   ===========   ===========   ===========\n",
      "const                       1.8639        1.6026        2.2169        1.9133\n",
      "                          (17.337)      (11.101)      (17.917)      (11.777)\n",
      "TotPop                      0.0002        0.0002        0.0002        0.0002\n",
      "                          (11.317)      (11.633)      (10.405)      (10.843)\n",
      "household_size              0.3099        0.2958        0.3290        0.3126\n",
      "                          (27.012)      (23.607)      (27.222)      (23.313)\n",
      "Beach                      -2.3591       -2.2166       -2.5518       -2.3861\n",
      "                         (-14.048)     (-12.655)     (-14.672)     (-12.809)\n",
      "ChildCare                  -1.6771       -1.5777       -1.8115       -1.6960\n",
      "                         (-12.313)     (-11.119)     (-12.901)     (-11.425)\n",
      "Gaol                        1.2351        1.1966        1.2871        1.2424\n",
      "                          (7.0937)      (6.8265)      (7.3555)      (7.0235)\n",
      "PrimaryHigh                -1.3073       -1.3717       -1.2204       -1.2951\n",
      "                         (-7.8108)     (-8.1331)     (-7.2196)     (-7.6339)\n",
      "ICSEA                       0.0004        0.0004        0.0005        0.0004\n",
      "                          (5.8185)      (5.0046)      (6.7625)      (5.7714)\n",
      "logPersonInc                0.5065        0.5158        0.4939        0.5048\n",
      "                          (17.466)      (17.669)      (17.108)      (17.311)\n",
      "logFamInc                  -0.0462       -0.0737       -0.0090       -0.0409\n",
      "                         (-1.8476)     (-2.7669)     (-0.3522)     (-1.4902)\n",
      "logPrice                    0.0053        0.0410       -0.0428       -0.0014\n",
      "                          (0.7233)      (2.8018)     (-3.9009)     (-0.0799)\n",
      "==================== ============= ============= ============= =============\n",
      "Instruments                                Baths      Bedrooms       Parking\n",
      "----------------------------------------------------------------------------\n",
      "\n",
      "T-stats reported in parentheses\n"
     ]
    }
   ],
   "source": [
    "IV_result = OrderedDict()\n",
    "IV_result['OLS'] = OLS\n",
    "IV_result['robust 2SLS'] = iv\n",
    "IV_result['weak 2SLS 1'] = iv2\n",
    "IV_result['weak 2SLS 2'] = iv3\n",
    "print(compare(IV_result))"
   ]
  },
  {
   "cell_type": "markdown",
   "metadata": {},
   "source": [
    "# logRent variable selection : find the MB of logRent in our dataset"
   ]
  },
  {
   "cell_type": "code",
   "execution_count": 48,
   "metadata": {},
   "outputs": [],
   "source": [
    "logRent = logTB['logRent']\n",
    "X_logRent = logTB.drop(['logRent'], axis = 1)\n",
    "\n",
    "Rent_input  = np.array(X_logRent)\n",
    "Rent_output = np.array(logRent)\n",
    "\n",
    "Rent_output.shape = (11796,1)"
   ]
  },
  {
   "cell_type": "code",
   "execution_count": 49,
   "metadata": {},
   "outputs": [],
   "source": [
    "np.random.seed(0)\n",
    "\n",
    "RegRent4 = solar(Rent_input, Rent_output, 10, -0.02, lasso = False)\n",
    "RentSolar_coef, RentOpt_c, RentTest_error, RentQc_list, _, _, _, _ = RegRent4.fit()\n",
    "\n",
    "RentSolar_ind = np.nonzero(RentSolar_coef)[0]"
   ]
  },
  {
   "cell_type": "code",
   "execution_count": 50,
   "metadata": {},
   "outputs": [
    {
     "name": "stdout",
     "output_type": "stream",
     "text": [
      "10\n",
      "Index(['TotPop', 'household_size', 'Beach', 'ChildCare', 'Gaol', 'PrimaryHigh',\n",
      "       'ICSEA', 'logPrice', 'logFamInc', 'logPersonInc'],\n",
      "      dtype='object')\n"
     ]
    }
   ],
   "source": [
    "RentSolar_ind = X_logRent.columns[RentSolar_ind]\n",
    "print(np.count_nonzero(RentSolar_ind))\n",
    "print(RentSolar_ind)"
   ]
  },
  {
   "cell_type": "code",
   "execution_count": null,
   "metadata": {},
   "outputs": [],
   "source": []
  }
 ],
 "metadata": {
  "kernelspec": {
   "display_name": "Python 3",
   "language": "python",
   "name": "python3"
  },
  "language_info": {
   "codemirror_mode": {
    "name": "ipython",
    "version": 3
   },
   "file_extension": ".py",
   "mimetype": "text/x-python",
   "name": "python",
   "nbconvert_exporter": "python",
   "pygments_lexer": "ipython3",
   "version": "3.7.9"
  }
 },
 "nbformat": 4,
 "nbformat_minor": 4
}
